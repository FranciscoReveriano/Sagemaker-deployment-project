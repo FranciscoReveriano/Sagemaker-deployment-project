{
 "cells": [
  {
   "cell_type": "markdown",
   "metadata": {},
   "source": [
    "# Creating a Sentiment Analysis Web App\n",
    "## Using PyTorch and SageMaker\n",
    "\n",
    "_Deep Learning Nanodegree Program | Deployment_\n",
    "\n",
    "---\n",
    "\n",
    "Now that we have a basic understanding of how SageMaker works we will try to use it to construct a complete project from end to end. Our goal will be to have a simple web page which a user can use to enter a movie review. The web page will then send the review off to our deployed model which will predict the sentiment of the entered review.\n",
    "\n",
    "## Instructions\n",
    "\n",
    "Some template code has already been provided for you, and you will need to implement additional functionality to successfully complete this notebook. You will not need to modify the included code beyond what is requested. Sections that begin with '**TODO**' in the header indicate that you need to complete or implement some portion within them. Instructions will be provided for each section and the specifics of the implementation are marked in the code block with a `# TODO: ...` comment. Please be sure to read the instructions carefully!\n",
    "\n",
    "In addition to implementing code, there will be questions for you to answer which relate to the task and your implementation. Each section where you will answer a question is preceded by a '**Question:**' header. Carefully read each question and provide your answer below the '**Answer:**' header by editing the Markdown cell.\n",
    "\n",
    "> **Note**: Code and Markdown cells can be executed using the **Shift+Enter** keyboard shortcut. In addition, a cell can be edited by typically clicking it (double-click for Markdown cells) or by pressing **Enter** while it is highlighted.\n",
    "\n",
    "## General Outline\n",
    "\n",
    "Recall the general outline for SageMaker projects using a notebook instance.\n",
    "\n",
    "1. Download or otherwise retrieve the data.\n",
    "2. Process / Prepare the data.\n",
    "3. Upload the processed data to S3.\n",
    "4. Train a chosen model.\n",
    "5. Test the trained model (typically using a batch transform job).\n",
    "6. Deploy the trained model.\n",
    "7. Use the deployed model.\n",
    "\n",
    "For this project, you will be following the steps in the general outline with some modifications. \n",
    "\n",
    "First, you will not be testing the model in its own step. You will still be testing the model, however, you will do it by deploying your model and then using the deployed model by sending the test data to it. One of the reasons for doing this is so that you can make sure that your deployed model is working correctly before moving forward.\n",
    "\n",
    "In addition, you will deploy and use your trained model a second time. In the second iteration you will customize the way that your trained model is deployed by including some of your own code. In addition, your newly deployed model will be used in the sentiment analysis web app."
   ]
  },
  {
   "cell_type": "markdown",
   "metadata": {},
   "source": [
    "## Step 1: Downloading the data\n",
    "\n",
    "As in the XGBoost in SageMaker notebook, we will be using the [IMDb dataset](http://ai.stanford.edu/~amaas/data/sentiment/)\n",
    "\n",
    "> Maas, Andrew L., et al. [Learning Word Vectors for Sentiment Analysis](http://ai.stanford.edu/~amaas/data/sentiment/). In _Proceedings of the 49th Annual Meeting of the Association for Computational Linguistics: Human Language Technologies_. Association for Computational Linguistics, 2011."
   ]
  },
  {
   "cell_type": "code",
   "execution_count": 1,
   "metadata": {},
   "outputs": [
    {
     "name": "stdout",
     "output_type": "stream",
     "text": [
      "mkdir: cannot create directory ‘../data’: File exists\n",
      "--2020-05-13 16:50:29--  http://ai.stanford.edu/~amaas/data/sentiment/aclImdb_v1.tar.gz\n",
      "Resolving ai.stanford.edu (ai.stanford.edu)... 171.64.68.10\n",
      "Connecting to ai.stanford.edu (ai.stanford.edu)|171.64.68.10|:80... connected.\n",
      "HTTP request sent, awaiting response... 200 OK\n",
      "Length: 84125825 (80M) [application/x-gzip]\n",
      "Saving to: ‘../data/aclImdb_v1.tar.gz’\n",
      "\n",
      "../data/aclImdb_v1. 100%[===================>]  80.23M  23.8MB/s    in 3.5s    \n",
      "\n",
      "2020-05-13 16:50:33 (22.8 MB/s) - ‘../data/aclImdb_v1.tar.gz’ saved [84125825/84125825]\n",
      "\n"
     ]
    }
   ],
   "source": [
    "%mkdir ../data\n",
    "!wget -O ../data/aclImdb_v1.tar.gz http://ai.stanford.edu/~amaas/data/sentiment/aclImdb_v1.tar.gz\n",
    "!tar -zxf ../data/aclImdb_v1.tar.gz -C ../data"
   ]
  },
  {
   "cell_type": "markdown",
   "metadata": {},
   "source": [
    "## Step 2: Preparing and Processing the data\n",
    "\n",
    "Also, as in the XGBoost notebook, we will be doing some initial data processing. The first few steps are the same as in the XGBoost example. To begin with, we will read in each of the reviews and combine them into a single input structure. Then, we will split the dataset into a training set and a testing set."
   ]
  },
  {
   "cell_type": "code",
   "execution_count": 2,
   "metadata": {},
   "outputs": [],
   "source": [
    "import os\n",
    "import glob\n",
    "\n",
    "def read_imdb_data(data_dir='../data/aclImdb'):\n",
    "    data = {}\n",
    "    labels = {}\n",
    "    \n",
    "    for data_type in ['train', 'test']:\n",
    "        data[data_type] = {}\n",
    "        labels[data_type] = {}\n",
    "        \n",
    "        for sentiment in ['pos', 'neg']:\n",
    "            data[data_type][sentiment] = []\n",
    "            labels[data_type][sentiment] = []\n",
    "            \n",
    "            path = os.path.join(data_dir, data_type, sentiment, '*.txt')\n",
    "            files = glob.glob(path)\n",
    "            \n",
    "            for f in files:\n",
    "                with open(f) as review:\n",
    "                    data[data_type][sentiment].append(review.read())\n",
    "                    # Here we represent a positive review by '1' and a negative review by '0'\n",
    "                    labels[data_type][sentiment].append(1 if sentiment == 'pos' else 0)\n",
    "                    \n",
    "            assert len(data[data_type][sentiment]) == len(labels[data_type][sentiment]), \\\n",
    "                    \"{}/{} data size does not match labels size\".format(data_type, sentiment)\n",
    "                \n",
    "    return data, labels"
   ]
  },
  {
   "cell_type": "code",
   "execution_count": 3,
   "metadata": {},
   "outputs": [
    {
     "name": "stdout",
     "output_type": "stream",
     "text": [
      "IMDB reviews: train = 12500 pos / 12500 neg, test = 12500 pos / 12500 neg\n"
     ]
    }
   ],
   "source": [
    "data, labels = read_imdb_data()\n",
    "print(\"IMDB reviews: train = {} pos / {} neg, test = {} pos / {} neg\".format(\n",
    "            len(data['train']['pos']), len(data['train']['neg']),\n",
    "            len(data['test']['pos']), len(data['test']['neg'])))"
   ]
  },
  {
   "cell_type": "markdown",
   "metadata": {},
   "source": [
    "Now that we've read the raw training and testing data from the downloaded dataset, we will combine the positive and negative reviews and shuffle the resulting records."
   ]
  },
  {
   "cell_type": "code",
   "execution_count": 4,
   "metadata": {},
   "outputs": [],
   "source": [
    "from sklearn.utils import shuffle\n",
    "\n",
    "def prepare_imdb_data(data, labels):\n",
    "    \"\"\"Prepare training and test sets from IMDb movie reviews.\"\"\"\n",
    "    \n",
    "    #Combine positive and negative reviews and labels\n",
    "    data_train = data['train']['pos'] + data['train']['neg']\n",
    "    data_test = data['test']['pos'] + data['test']['neg']\n",
    "    labels_train = labels['train']['pos'] + labels['train']['neg']\n",
    "    labels_test = labels['test']['pos'] + labels['test']['neg']\n",
    "    \n",
    "    #Shuffle reviews and corresponding labels within training and test sets\n",
    "    data_train, labels_train = shuffle(data_train, labels_train)\n",
    "    data_test, labels_test = shuffle(data_test, labels_test)\n",
    "    \n",
    "    # Return a unified training data, test data, training labels, test labets\n",
    "    return data_train, data_test, labels_train, labels_test"
   ]
  },
  {
   "cell_type": "code",
   "execution_count": 5,
   "metadata": {},
   "outputs": [
    {
     "name": "stdout",
     "output_type": "stream",
     "text": [
      "IMDb reviews (combined): train = 25000, test = 25000\n"
     ]
    }
   ],
   "source": [
    "train_X, test_X, train_y, test_y = prepare_imdb_data(data, labels)\n",
    "print(\"IMDb reviews (combined): train = {}, test = {}\".format(len(train_X), len(test_X)))"
   ]
  },
  {
   "cell_type": "markdown",
   "metadata": {},
   "source": [
    "Now that we have our training and testing sets unified and prepared, we should do a quick check and see an example of the data our model will be trained on. This is generally a good idea as it allows you to see how each of the further processing steps affects the reviews and it also ensures that the data has been loaded correctly."
   ]
  },
  {
   "cell_type": "code",
   "execution_count": 6,
   "metadata": {},
   "outputs": [
    {
     "name": "stdout",
     "output_type": "stream",
     "text": [
      "When \"Good Times\" premiered in 1974, it was one the first black family sitcoms. It centered on the poor Chicago-based Evans family and their struggles to make ends. Most of the early episodes focused on the parents, James and Florida Evans, and their struggle to provide for the family. John Amos and Esther Rolle were the best part of the show. They were terrific actors and had great chemistry as James and Florida Evans. They had three kids: J.J., Thelma, and Michael. J.J. was the skirt-chasing but well-meaning teenage son who made up for his lack of subtletly with artistic talent. Thelma was an attractive, bright girl who was constantly trading insults with J.J. Michael was a near child prodigy who was well-educated on social issues and was destined to become a lawyer.<br /><br />In 1976, the producers made a huge mistake by firing John Amos, literally killing off his character. This really changed the focus, and not for the good I might add. The shows began to focus more on J.J. and his buffoon-like behavior which angered black viewers as well as series star Esther Rolle, who left after the next season. Instead of a show that focused on key African-American issues that existed in society at the time, viewers got shows that were overloaded with skirt chasing and fat jokes.<br /><br />Once Esther Rolle left, the quality of the show suffered even more. Although it was still watchable, it was no longer the great ground-breaking show that it once was.<br /><br />Although Esther Rolle came back for the 1978 season, it became obvious that the show was on its last legs. All loose ends were tied up during that season and the show quietly faded off the air.<br /><br />First three season: A. Last three seasons: C+.\n",
      "1\n"
     ]
    }
   ],
   "source": [
    "print(train_X[100])\n",
    "print(train_y[100])"
   ]
  },
  {
   "cell_type": "markdown",
   "metadata": {},
   "source": [
    "The first step in processing the reviews is to make sure that any html tags that appear should be removed. In addition we wish to tokenize our input, that way words such as *entertained* and *entertaining* are considered the same with regard to sentiment analysis."
   ]
  },
  {
   "cell_type": "code",
   "execution_count": 7,
   "metadata": {},
   "outputs": [],
   "source": [
    "import nltk\n",
    "from nltk.corpus import stopwords\n",
    "from nltk.stem.porter import *\n",
    "\n",
    "import re\n",
    "from bs4 import BeautifulSoup\n",
    "\n",
    "def review_to_words(review):\n",
    "    nltk.download(\"stopwords\", quiet=True)\n",
    "    stemmer = PorterStemmer()\n",
    "    \n",
    "    text = BeautifulSoup(review, \"html.parser\").get_text() # Remove HTML tags\n",
    "    text = re.sub(r\"[^a-zA-Z0-9]\", \" \", text.lower()) # Convert to lower case\n",
    "    words = text.split() # Split string into words\n",
    "    words = [w for w in words if w not in stopwords.words(\"english\")] # Remove stopwords\n",
    "    words = [PorterStemmer().stem(w) for w in words] # stem\n",
    "    \n",
    "    return words"
   ]
  },
  {
   "cell_type": "markdown",
   "metadata": {},
   "source": [
    "The `review_to_words` method defined above uses `BeautifulSoup` to remove any html tags that appear and uses the `nltk` package to tokenize the reviews. As a check to ensure we know how everything is working, try applying `review_to_words` to one of the reviews in the training set."
   ]
  },
  {
   "cell_type": "code",
   "execution_count": 8,
   "metadata": {},
   "outputs": [
    {
     "data": {
      "text/plain": [
       "['good',\n",
       " 'time',\n",
       " 'premier',\n",
       " '1974',\n",
       " 'one',\n",
       " 'first',\n",
       " 'black',\n",
       " 'famili',\n",
       " 'sitcom',\n",
       " 'center',\n",
       " 'poor',\n",
       " 'chicago',\n",
       " 'base',\n",
       " 'evan',\n",
       " 'famili',\n",
       " 'struggl',\n",
       " 'make',\n",
       " 'end',\n",
       " 'earli',\n",
       " 'episod',\n",
       " 'focus',\n",
       " 'parent',\n",
       " 'jame',\n",
       " 'florida',\n",
       " 'evan',\n",
       " 'struggl',\n",
       " 'provid',\n",
       " 'famili',\n",
       " 'john',\n",
       " 'amo',\n",
       " 'esther',\n",
       " 'roll',\n",
       " 'best',\n",
       " 'part',\n",
       " 'show',\n",
       " 'terrif',\n",
       " 'actor',\n",
       " 'great',\n",
       " 'chemistri',\n",
       " 'jame',\n",
       " 'florida',\n",
       " 'evan',\n",
       " 'three',\n",
       " 'kid',\n",
       " 'j',\n",
       " 'j',\n",
       " 'thelma',\n",
       " 'michael',\n",
       " 'j',\n",
       " 'j',\n",
       " 'skirt',\n",
       " 'chase',\n",
       " 'well',\n",
       " 'mean',\n",
       " 'teenag',\n",
       " 'son',\n",
       " 'made',\n",
       " 'lack',\n",
       " 'subtletli',\n",
       " 'artist',\n",
       " 'talent',\n",
       " 'thelma',\n",
       " 'attract',\n",
       " 'bright',\n",
       " 'girl',\n",
       " 'constantli',\n",
       " 'trade',\n",
       " 'insult',\n",
       " 'j',\n",
       " 'j',\n",
       " 'michael',\n",
       " 'near',\n",
       " 'child',\n",
       " 'prodigi',\n",
       " 'well',\n",
       " 'educ',\n",
       " 'social',\n",
       " 'issu',\n",
       " 'destin',\n",
       " 'becom',\n",
       " 'lawyer',\n",
       " '1976',\n",
       " 'produc',\n",
       " 'made',\n",
       " 'huge',\n",
       " 'mistak',\n",
       " 'fire',\n",
       " 'john',\n",
       " 'amo',\n",
       " 'liter',\n",
       " 'kill',\n",
       " 'charact',\n",
       " 'realli',\n",
       " 'chang',\n",
       " 'focu',\n",
       " 'good',\n",
       " 'might',\n",
       " 'add',\n",
       " 'show',\n",
       " 'began',\n",
       " 'focu',\n",
       " 'j',\n",
       " 'j',\n",
       " 'buffoon',\n",
       " 'like',\n",
       " 'behavior',\n",
       " 'anger',\n",
       " 'black',\n",
       " 'viewer',\n",
       " 'well',\n",
       " 'seri',\n",
       " 'star',\n",
       " 'esther',\n",
       " 'roll',\n",
       " 'left',\n",
       " 'next',\n",
       " 'season',\n",
       " 'instead',\n",
       " 'show',\n",
       " 'focus',\n",
       " 'key',\n",
       " 'african',\n",
       " 'american',\n",
       " 'issu',\n",
       " 'exist',\n",
       " 'societi',\n",
       " 'time',\n",
       " 'viewer',\n",
       " 'got',\n",
       " 'show',\n",
       " 'overload',\n",
       " 'skirt',\n",
       " 'chase',\n",
       " 'fat',\n",
       " 'joke',\n",
       " 'esther',\n",
       " 'roll',\n",
       " 'left',\n",
       " 'qualiti',\n",
       " 'show',\n",
       " 'suffer',\n",
       " 'even',\n",
       " 'although',\n",
       " 'still',\n",
       " 'watchabl',\n",
       " 'longer',\n",
       " 'great',\n",
       " 'ground',\n",
       " 'break',\n",
       " 'show',\n",
       " 'although',\n",
       " 'esther',\n",
       " 'roll',\n",
       " 'came',\n",
       " 'back',\n",
       " '1978',\n",
       " 'season',\n",
       " 'becam',\n",
       " 'obviou',\n",
       " 'show',\n",
       " 'last',\n",
       " 'leg',\n",
       " 'loos',\n",
       " 'end',\n",
       " 'tie',\n",
       " 'season',\n",
       " 'show',\n",
       " 'quietli',\n",
       " 'fade',\n",
       " 'air',\n",
       " 'first',\n",
       " 'three',\n",
       " 'season',\n",
       " 'last',\n",
       " 'three',\n",
       " 'season',\n",
       " 'c']"
      ]
     },
     "execution_count": 8,
     "metadata": {},
     "output_type": "execute_result"
    }
   ],
   "source": [
    "# TODO: Apply review_to_words to a review (train_X[100] or any other review)\n",
    "review_to_words(train_X[100])"
   ]
  },
  {
   "cell_type": "markdown",
   "metadata": {},
   "source": [
    "**Question:** Above we mentioned that `review_to_words` method removes html formatting and allows us to tokenize the words found in a review, for example, converting *entertained* and *entertaining* into *entertain* so that they are treated as though they are the same word. What else, if anything, does this method do to the input?"
   ]
  },
  {
   "cell_type": "markdown",
   "metadata": {},
   "source": [
    "**Answer:**\n",
    "This method is removing the html formatting, tokenizing the words, and converting words to the root word. The root-word conversion is done by the PorterStemmer function. This method is removes the morphological affixes from words, leaving only the word stem. The HTML scrapping is performed by the Beautiful Soup Method. So we end up with a perfect representation of the words in the review. \n",
    "\n",
    "Finally, this method is also caching the results to increase the speed of the processing. We can see the last line creating a dictionary. This dictionary would allow us to do a O(n) during traiing. This also means that if you are unable to complete the notebook in one session you are able to easily reload it. "
   ]
  },
  {
   "cell_type": "markdown",
   "metadata": {},
   "source": [
    "The method below applies the `review_to_words` method to each of the reviews in the training and testing datasets. In addition it caches the results. This is because performing this processing step can take a long time. This way if you are unable to complete the notebook in the current session, you can come back without needing to process the data a second time."
   ]
  },
  {
   "cell_type": "code",
   "execution_count": 9,
   "metadata": {},
   "outputs": [],
   "source": [
    "import pickle\n",
    "\n",
    "cache_dir = os.path.join(\"../cache\", \"sentiment_analysis\")  # where to store cache files\n",
    "os.makedirs(cache_dir, exist_ok=True)  # ensure cache directory exists\n",
    "\n",
    "def preprocess_data(data_train, data_test, labels_train, labels_test,\n",
    "                    cache_dir=cache_dir, cache_file=\"preprocessed_data.pkl\"):\n",
    "    \"\"\"Convert each review to words; read from cache if available.\"\"\"\n",
    "\n",
    "    # If cache_file is not None, try to read from it first\n",
    "    cache_data = None\n",
    "    if cache_file is not None:\n",
    "        try:\n",
    "            with open(os.path.join(cache_dir, cache_file), \"rb\") as f:\n",
    "                cache_data = pickle.load(f)\n",
    "            print(\"Read preprocessed data from cache file:\", cache_file)\n",
    "        except:\n",
    "            pass  # unable to read from cache, but that's okay\n",
    "    \n",
    "    # If cache is missing, then do the heavy lifting\n",
    "    if cache_data is None:\n",
    "        # Preprocess training and test data to obtain words for each review\n",
    "        #words_train = list(map(review_to_words, data_train))\n",
    "        #words_test = list(map(review_to_words, data_test))\n",
    "        words_train = [review_to_words(review) for review in data_train]\n",
    "        words_test = [review_to_words(review) for review in data_test]\n",
    "        \n",
    "        # Write to cache file for future runs\n",
    "        if cache_file is not None:\n",
    "            cache_data = dict(words_train=words_train, words_test=words_test,\n",
    "                              labels_train=labels_train, labels_test=labels_test)\n",
    "            with open(os.path.join(cache_dir, cache_file), \"wb\") as f:\n",
    "                pickle.dump(cache_data, f)\n",
    "            print(\"Wrote preprocessed data to cache file:\", cache_file)\n",
    "    else:\n",
    "        # Unpack data loaded from cache file\n",
    "        words_train, words_test, labels_train, labels_test = (cache_data['words_train'],\n",
    "                cache_data['words_test'], cache_data['labels_train'], cache_data['labels_test'])\n",
    "    \n",
    "    return words_train, words_test, labels_train, labels_test"
   ]
  },
  {
   "cell_type": "code",
   "execution_count": 10,
   "metadata": {},
   "outputs": [
    {
     "name": "stdout",
     "output_type": "stream",
     "text": [
      "Read preprocessed data from cache file: preprocessed_data.pkl\n"
     ]
    }
   ],
   "source": [
    "# Preprocess data\n",
    "train_X, test_X, train_y, test_y = preprocess_data(train_X, test_X, train_y, test_y)"
   ]
  },
  {
   "cell_type": "markdown",
   "metadata": {},
   "source": [
    "## Transform the data\n",
    "\n",
    "In the XGBoost notebook we transformed the data from its word representation to a bag-of-words feature representation. For the model we are going to construct in this notebook we will construct a feature representation which is very similar. To start, we will represent each word as an integer. Of course, some of the words that appear in the reviews occur very infrequently and so likely don't contain much information for the purposes of sentiment analysis. The way we will deal with this problem is that we will fix the size of our working vocabulary and we will only include the words that appear most frequently. We will then combine all of the infrequent words into a single category and, in our case, we will label it as `1`.\n",
    "\n",
    "Since we will be using a recurrent neural network, it will be convenient if the length of each review is the same. To do this, we will fix a size for our reviews and then pad short reviews with the category 'no word' (which we will label `0`) and truncate long reviews."
   ]
  },
  {
   "cell_type": "markdown",
   "metadata": {},
   "source": [
    "### (TODO) Create a word dictionary\n",
    "\n",
    "To begin with, we need to construct a way to map words that appear in the reviews to integers. Here we fix the size of our vocabulary (including the 'no word' and 'infrequent' categories) to be `5000` but you may wish to change this to see how it affects the model.\n",
    "\n",
    "> **TODO:** Complete the implementation for the `build_dict()` method below. Note that even though the vocab_size is set to `5000`, we only want to construct a mapping for the most frequently appearing `4998` words. This is because we want to reserve the special labels `0` for 'no word' and `1` for 'infrequent word'."
   ]
  },
  {
   "cell_type": "code",
   "execution_count": 11,
   "metadata": {},
   "outputs": [],
   "source": [
    "import numpy as np\n",
    "import re\n",
    "from collections import Counter\n",
    "\n",
    "def build_dict(data, vocab_size = 5000):\n",
    "    \"\"\"Construct and return a dictionary mapping each of the most frequently appearing words to a unique integer.\"\"\"\n",
    "    \n",
    "    # Utilize Counter to Create Dictionary to Store Words\n",
    "    word_count = Counter(np.concatenate(data,axis=0)) # A dict storing the words that appear in the reviews along with how often they occur\n",
    "                \n",
    "    # Sort the List\n",
    "    sorted_words = sorted(word_count, key=word_count.get, reverse=True)\n",
    "    \n",
    "    word_dict = {} # This is what we are building, a dictionary that translates words into integers\n",
    "    for idx, word in enumerate(sorted_words[:vocab_size - 2]): # The -2 is so that we save room for the 'no word'\n",
    "        word_dict[word] = idx + 2                              # 'infrequent' labels\n",
    "        \n",
    "    return word_dict"
   ]
  },
  {
   "cell_type": "code",
   "execution_count": 12,
   "metadata": {},
   "outputs": [
    {
     "name": "stdout",
     "output_type": "stream",
     "text": [
      "{'movi': 2, 'film': 3, 'one': 4, 'like': 5, 'time': 6, 'good': 7, 'make': 8, 'charact': 9, 'get': 10, 'see': 11, 'watch': 12, 'stori': 13, 'even': 14, 'would': 15, 'realli': 16, 'well': 17, 'scene': 18, 'look': 19, 'show': 20, 'much': 21, 'end': 22, 'peopl': 23, 'bad': 24, 'go': 25, 'great': 26, 'also': 27, 'first': 28, 'love': 29, 'think': 30, 'way': 31, 'act': 32, 'play': 33, 'made': 34, 'thing': 35, 'could': 36, 'know': 37, 'say': 38, 'seem': 39, 'work': 40, 'plot': 41, 'two': 42, 'actor': 43, 'year': 44, 'come': 45, 'mani': 46, 'seen': 47, 'take': 48, 'life': 49, 'want': 50, 'never': 51, 'littl': 52, 'best': 53, 'tri': 54, 'man': 55, 'ever': 56, 'give': 57, 'better': 58, 'still': 59, 'perform': 60, 'find': 61, 'feel': 62, 'part': 63, 'back': 64, 'use': 65, 'someth': 66, 'director': 67, 'actual': 68, 'interest': 69, 'lot': 70, 'real': 71, 'old': 72, 'cast': 73, 'though': 74, 'live': 75, 'star': 76, 'enjoy': 77, 'guy': 78, 'anoth': 79, 'new': 80, 'role': 81, 'noth': 82, '10': 83, 'funni': 84, 'music': 85, 'point': 86, 'start': 87, 'set': 88, 'girl': 89, 'origin': 90, 'day': 91, 'world': 92, 'everi': 93, 'believ': 94, 'turn': 95, 'quit': 96, 'direct': 97, 'us': 98, 'thought': 99, 'fact': 100, 'minut': 101, 'horror': 102, 'kill': 103, 'action': 104, 'comedi': 105, 'pretti': 106, 'young': 107, 'wonder': 108, 'happen': 109, 'around': 110, 'got': 111, 'effect': 112, 'right': 113, 'long': 114, 'howev': 115, 'big': 116, 'line': 117, 'famili': 118, 'enough': 119, 'seri': 120, 'may': 121, 'need': 122, 'fan': 123, 'bit': 124, 'script': 125, 'beauti': 126, 'person': 127, 'becom': 128, 'without': 129, 'must': 130, 'alway': 131, 'friend': 132, 'tell': 133, 'reason': 134, 'saw': 135, 'last': 136, 'final': 137, 'kid': 138, 'almost': 139, 'put': 140, 'least': 141, 'sure': 142, 'done': 143, 'whole': 144, 'place': 145, 'complet': 146, 'kind': 147, 'differ': 148, 'expect': 149, 'shot': 150, 'far': 151, 'mean': 152, 'anyth': 153, 'book': 154, 'laugh': 155, 'might': 156, 'name': 157, 'sinc': 158, 'begin': 159, '2': 160, 'probabl': 161, 'woman': 162, 'help': 163, 'entertain': 164, 'let': 165, 'screen': 166, 'call': 167, 'tv': 168, 'moment': 169, 'away': 170, 'read': 171, 'yet': 172, 'rather': 173, 'worst': 174, 'run': 175, 'fun': 176, 'lead': 177, 'hard': 178, 'audienc': 179, 'idea': 180, 'anyon': 181, 'episod': 182, 'american': 183, 'found': 184, 'appear': 185, 'bore': 186, 'especi': 187, 'although': 188, 'hope': 189, 'keep': 190, 'cours': 191, 'anim': 192, 'job': 193, 'goe': 194, 'move': 195, 'sens': 196, 'dvd': 197, 'version': 198, 'war': 199, 'money': 200, 'someon': 201, 'mind': 202, 'mayb': 203, 'problem': 204, 'true': 205, 'hous': 206, 'everyth': 207, 'nice': 208, 'second': 209, 'rate': 210, 'three': 211, 'night': 212, 'follow': 213, 'face': 214, 'recommend': 215, 'product': 216, 'main': 217, 'worth': 218, 'leav': 219, 'human': 220, 'special': 221, 'excel': 222, 'togeth': 223, 'wast': 224, 'everyon': 225, 'sound': 226, 'john': 227, 'hand': 228, '1': 229, 'father': 230, 'later': 231, 'eye': 232, 'said': 233, 'view': 234, 'instead': 235, 'review': 236, 'boy': 237, 'high': 238, 'hour': 239, 'miss': 240, 'classic': 241, 'talk': 242, 'wife': 243, 'understand': 244, 'left': 245, 'care': 246, 'black': 247, 'death': 248, 'open': 249, 'murder': 250, 'write': 251, 'half': 252, 'head': 253, 'rememb': 254, 'chang': 255, 'viewer': 256, 'fight': 257, 'gener': 258, 'surpris': 259, 'short': 260, 'includ': 261, 'die': 262, 'fall': 263, 'less': 264, 'els': 265, 'entir': 266, 'piec': 267, 'involv': 268, 'pictur': 269, 'simpli': 270, 'power': 271, 'home': 272, 'top': 273, 'total': 274, 'usual': 275, 'budget': 276, 'attempt': 277, 'suppos': 278, 'releas': 279, 'hollywood': 280, 'terribl': 281, 'song': 282, 'men': 283, 'possibl': 284, 'featur': 285, 'portray': 286, 'disappoint': 287, 'poor': 288, '3': 289, 'coupl': 290, 'stupid': 291, 'camera': 292, 'dead': 293, 'wrong': 294, 'produc': 295, 'low': 296, 'video': 297, 'either': 298, 'aw': 299, 'definit': 300, 'except': 301, 'rest': 302, 'given': 303, 'absolut': 304, 'women': 305, 'lack': 306, 'word': 307, 'writer': 308, 'titl': 309, 'talent': 310, 'decid': 311, 'full': 312, 'perfect': 313, 'along': 314, 'style': 315, 'close': 316, 'truli': 317, 'school': 318, 'emot': 319, 'save': 320, 'age': 321, 'sex': 322, 'next': 323, 'bring': 324, 'mr': 325, 'case': 326, 'killer': 327, 'heart': 328, 'comment': 329, 'sort': 330, 'creat': 331, 'perhap': 332, 'came': 333, 'brother': 334, 'sever': 335, 'joke': 336, 'art': 337, 'dialogu': 338, 'game': 339, 'small': 340, 'base': 341, 'flick': 342, 'written': 343, 'sequenc': 344, 'meet': 345, 'earli': 346, 'often': 347, 'other': 348, 'mother': 349, 'develop': 350, 'humor': 351, 'actress': 352, 'consid': 353, 'dark': 354, 'guess': 355, 'amaz': 356, 'unfortun': 357, 'lost': 358, 'light': 359, 'exampl': 360, 'cinema': 361, 'drama': 362, 'ye': 363, 'white': 364, 'experi': 365, 'imagin': 366, 'mention': 367, 'stop': 368, 'natur': 369, 'forc': 370, 'manag': 371, 'felt': 372, 'cut': 373, 'present': 374, 'children': 375, 'fail': 376, 'son': 377, 'qualiti': 378, 'support': 379, 'car': 380, 'ask': 381, 'hit': 382, 'side': 383, 'voic': 384, 'extrem': 385, 'impress': 386, 'evil': 387, 'wors': 388, 'went': 389, 'stand': 390, 'certainli': 391, 'basic': 392, 'oh': 393, 'overal': 394, 'favorit': 395, 'horribl': 396, 'mysteri': 397, 'number': 398, 'type': 399, 'danc': 400, 'wait': 401, 'hero': 402, '5': 403, 'alreadi': 404, 'learn': 405, 'matter': 406, '4': 407, 'michael': 408, 'genr': 409, 'fine': 410, 'despit': 411, 'throughout': 412, 'walk': 413, 'success': 414, 'histori': 415, 'question': 416, 'zombi': 417, 'town': 418, 'realiz': 419, 'relationship': 420, 'past': 421, 'child': 422, 'daughter': 423, 'late': 424, 'b': 425, 'wish': 426, 'hate': 427, 'credit': 428, 'event': 429, 'theme': 430, 'touch': 431, 'citi': 432, 'today': 433, 'sometim': 434, 'behind': 435, 'god': 436, 'twist': 437, 'sit': 438, 'annoy': 439, 'deal': 440, 'stay': 441, 'abl': 442, 'rent': 443, 'pleas': 444, 'edit': 445, 'blood': 446, 'deserv': 447, 'comic': 448, 'anyway': 449, 'appar': 450, 'soon': 451, 'gave': 452, 'etc': 453, 'level': 454, 'slow': 455, 'chanc': 456, 'score': 457, 'bodi': 458, 'brilliant': 459, 'incred': 460, 'figur': 461, 'situat': 462, 'major': 463, 'self': 464, 'stuff': 465, 'decent': 466, 'element': 467, 'dream': 468, 'return': 469, 'obvious': 470, 'continu': 471, 'order': 472, 'pace': 473, 'ridicul': 474, 'happi': 475, 'highli': 476, 'add': 477, 'group': 478, 'thank': 479, 'ladi': 480, 'novel': 481, 'pain': 482, 'speak': 483, 'career': 484, 'shoot': 485, 'strang': 486, 'heard': 487, 'sad': 488, 'husband': 489, 'polic': 490, 'import': 491, 'break': 492, 'took': 493, 'strong': 494, 'cannot': 495, 'predict': 496, 'robert': 497, 'violenc': 498, 'hilari': 499, 'recent': 500, 'countri': 501, 'known': 502, 'particularli': 503, 'pick': 504, 'documentari': 505, 'season': 506, 'critic': 507, 'jame': 508, 'compar': 509, 'alon': 510, 'obviou': 511, 'told': 512, 'state': 513, 'rock': 514, 'visual': 515, 'exist': 516, 'theater': 517, 'offer': 518, 'opinion': 519, 'gore': 520, 'crap': 521, 'hold': 522, 'result': 523, 'room': 524, 'hear': 525, 'realiti': 526, 'clich': 527, 'effort': 528, 'thriller': 529, 'caus': 530, 'serious': 531, 'sequel': 532, 'explain': 533, 'king': 534, 'local': 535, 'ago': 536, 'hell': 537, 'none': 538, 'note': 539, 'allow': 540, 'sister': 541, 'david': 542, 'simpl': 543, 'femal': 544, 'deliv': 545, 'ok': 546, 'convinc': 547, 'class': 548, 'check': 549, 'suspens': 550, 'win': 551, 'oscar': 552, 'buy': 553, 'huge': 554, 'valu': 555, 'sexual': 556, 'cool': 557, 'scari': 558, 'excit': 559, 'similar': 560, 'apart': 561, 'exactli': 562, 'provid': 563, 'shown': 564, 'avoid': 565, 'seriou': 566, 'english': 567, 'whose': 568, 'taken': 569, 'cinematographi': 570, 'shock': 571, 'polit': 572, 'spoiler': 573, 'offic': 574, 'across': 575, 'middl': 576, 'street': 577, 'pass': 578, 'messag': 579, 'charm': 580, 'silli': 581, 'somewhat': 582, 'modern': 583, 'confus': 584, 'filmmak': 585, 'form': 586, 'tale': 587, 'singl': 588, 'jack': 589, 'mostli': 590, 'attent': 591, 'carri': 592, 'william': 593, 'sing': 594, 'five': 595, 'subject': 596, 'prove': 597, 'richard': 598, 'team': 599, 'stage': 600, 'cop': 601, 'unlik': 602, 'georg': 603, 'televis': 604, 'monster': 605, 'earth': 606, 'villain': 607, 'cover': 608, 'pay': 609, 'marri': 610, 'toward': 611, 'build': 612, 'pull': 613, 'parent': 614, 'due': 615, 'fill': 616, 'respect': 617, 'four': 618, 'dialog': 619, 'remind': 620, 'futur': 621, 'weak': 622, 'typic': 623, '7': 624, 'cheap': 625, 'intellig': 626, 'atmospher': 627, 'british': 628, 'clearli': 629, '80': 630, 'dog': 631, 'paul': 632, 'non': 633, 'fast': 634, '8': 635, 'artist': 636, 'knew': 637, 'crime': 638, 'easili': 639, 'escap': 640, 'doubt': 641, 'adult': 642, 'detail': 643, 'date': 644, 'member': 645, 'fire': 646, 'romant': 647, 'gun': 648, 'drive': 649, 'straight': 650, 'beyond': 651, 'fit': 652, 'attack': 653, 'imag': 654, 'upon': 655, 'posit': 656, 'whether': 657, 'fantast': 658, 'peter': 659, 'captur': 660, 'appreci': 661, 'aspect': 662, 'ten': 663, 'plan': 664, 'discov': 665, 'remain': 666, 'near': 667, 'period': 668, 'realist': 669, 'air': 670, 'mark': 671, 'red': 672, 'dull': 673, 'adapt': 674, 'within': 675, 'spend': 676, 'lose': 677, 'materi': 678, 'color': 679, 'chase': 680, 'mari': 681, 'storylin': 682, 'forget': 683, 'bunch': 684, 'clear': 685, 'lee': 686, 'victim': 687, 'nearli': 688, 'box': 689, 'york': 690, 'match': 691, 'inspir': 692, 'mess': 693, 'finish': 694, 'standard': 695, 'easi': 696, 'truth': 697, 'suffer': 698, 'busi': 699, 'space': 700, 'bill': 701, 'dramat': 702, 'western': 703, 'e': 704, 'list': 705, 'battl': 706, 'notic': 707, 'de': 708, 'french': 709, 'ad': 710, '9': 711, 'tom': 712, 'larg': 713, 'among': 714, 'eventu': 715, 'accept': 716, 'train': 717, 'agre': 718, 'soundtrack': 719, 'spirit': 720, 'third': 721, 'teenag': 722, 'soldier': 723, 'adventur': 724, 'drug': 725, 'famou': 726, 'sorri': 727, 'suggest': 728, 'cri': 729, 'normal': 730, 'babi': 731, 'troubl': 732, 'ultim': 733, 'contain': 734, 'certain': 735, 'cultur': 736, 'romanc': 737, 'rare': 738, 'lame': 739, 'somehow': 740, 'mix': 741, 'disney': 742, 'gone': 743, 'cartoon': 744, 'student': 745, 'fear': 746, 'reveal': 747, 'suck': 748, 'kept': 749, 'attract': 750, 'appeal': 751, 'premis': 752, 'design': 753, 'greatest': 754, 'secret': 755, 'shame': 756, 'throw': 757, 'copi': 758, 'scare': 759, 'wit': 760, 'america': 761, 'admit': 762, 'particular': 763, 'relat': 764, 'brought': 765, 'screenplay': 766, 'whatev': 767, 'pure': 768, '70': 769, 'averag': 770, 'harri': 771, 'master': 772, 'describ': 773, 'treat': 774, 'male': 775, '20': 776, 'fantasi': 777, 'issu': 778, 'warn': 779, 'inde': 780, 'background': 781, 'forward': 782, 'free': 783, 'project': 784, 'memor': 785, 'japanes': 786, 'poorli': 787, 'award': 788, 'locat': 789, 'amus': 790, 'potenti': 791, 'struggl': 792, 'magic': 793, 'weird': 794, 'societi': 795, 'okay': 796, 'doctor': 797, 'accent': 798, 'imdb': 799, 'hot': 800, 'water': 801, 'express': 802, '30': 803, 'dr': 804, 'alien': 805, 'odd': 806, 'choic': 807, 'crazi': 808, 'studio': 809, 'fiction': 810, 'becam': 811, 'control': 812, 'masterpiec': 813, 'fli': 814, 'difficult': 815, 'joe': 816, 'scream': 817, 'costum': 818, 'lover': 819, 'uniqu': 820, 'refer': 821, 'remak': 822, 'girlfriend': 823, 'vampir': 824, 'prison': 825, 'execut': 826, 'wear': 827, 'jump': 828, 'unless': 829, 'wood': 830, 'creepi': 831, 'cheesi': 832, 'superb': 833, 'otherwis': 834, 'parti': 835, 'roll': 836, 'ghost': 837, 'mad': 838, 'public': 839, 'depict': 840, 'moral': 841, 'week': 842, 'badli': 843, 'earlier': 844, 'jane': 845, 'fi': 846, 'dumb': 847, 'grow': 848, 'flaw': 849, 'deep': 850, 'sci': 851, 'maker': 852, 'cat': 853, 'footag': 854, 'older': 855, 'connect': 856, 'bother': 857, 'plenti': 858, 'outsid': 859, 'stick': 860, 'gay': 861, 'catch': 862, 'plu': 863, 'co': 864, 'popular': 865, 'equal': 866, 'social': 867, 'quickli': 868, 'disturb': 869, 'perfectli': 870, 'dress': 871, 'era': 872, '90': 873, 'mistak': 874, 'lie': 875, 'ride': 876, 'previou': 877, 'combin': 878, 'band': 879, 'concept': 880, 'surviv': 881, 'answer': 882, 'rich': 883, 'front': 884, 'christma': 885, 'sweet': 886, 'insid': 887, 'bare': 888, 'eat': 889, 'concern': 890, 'ben': 891, 'listen': 892, 'beat': 893, 'c': 894, 'serv': 895, 'term': 896, 'la': 897, 'meant': 898, 'german': 899, 'hardli': 900, 'stereotyp': 901, 'innoc': 902, 'law': 903, 'desper': 904, 'memori': 905, 'promis': 906, 'cute': 907, 'intent': 908, 'steal': 909, 'variou': 910, 'inform': 911, 'brain': 912, 'post': 913, 'tone': 914, 'island': 915, 'amount': 916, 'track': 917, 'nuditi': 918, 'compani': 919, 'claim': 920, 'store': 921, 'hair': 922, 'flat': 923, '50': 924, 'univers': 925, 'land': 926, 'kick': 927, 'fairli': 928, 'danger': 929, 'scott': 930, 'player': 931, 'plain': 932, 'crew': 933, 'step': 934, 'toni': 935, 'share': 936, 'tast': 937, 'centuri': 938, 'engag': 939, 'achiev': 940, 'travel': 941, 'cold': 942, 'record': 943, 'suit': 944, 'rip': 945, 'sadli': 946, 'manner': 947, 'tension': 948, 'wrote': 949, 'spot': 950, 'intens': 951, 'fascin': 952, 'familiar': 953, 'burn': 954, 'depth': 955, 'remark': 956, 'destroy': 957, 'histor': 958, 'sleep': 959, 'purpos': 960, 'languag': 961, 'ignor': 962, 'ruin': 963, 'delight': 964, 'italian': 965, 'unbeliev': 966, 'collect': 967, 'abil': 968, 'soul': 969, 'clever': 970, 'detect': 971, 'violent': 972, 'rape': 973, 'reach': 974, 'door': 975, 'scienc': 976, 'trash': 977, 'liter': 978, 'caught': 979, 'reveng': 980, 'commun': 981, 'creatur': 982, 'trip': 983, 'approach': 984, 'fashion': 985, 'intrigu': 986, 'skill': 987, 'paint': 988, 'introduc': 989, 'channel': 990, 'complex': 991, 'camp': 992, 'christian': 993, 'extra': 994, 'hole': 995, 'ann': 996, 'mental': 997, 'limit': 998, 'immedi': 999, 'mere': 1000, 'million': 1001, '6': 1002, 'comput': 1003, 'slightli': 1004, 'slasher': 1005, 'conclus': 1006, 'suddenli': 1007, 'imposs': 1008, 'teen': 1009, 'crimin': 1010, 'neither': 1011, 'physic': 1012, 'spent': 1013, 'nation': 1014, 'respons': 1015, 'planet': 1016, 'receiv': 1017, 'fake': 1018, 'blue': 1019, 'sick': 1020, 'bizarr': 1021, 'embarrass': 1022, 'indian': 1023, '15': 1024, 'ring': 1025, 'pop': 1026, 'drop': 1027, 'drag': 1028, 'haunt': 1029, 'pointless': 1030, 'suspect': 1031, 'edg': 1032, 'search': 1033, 'handl': 1034, 'biggest': 1035, 'common': 1036, 'faith': 1037, 'arriv': 1038, 'hurt': 1039, 'technic': 1040, 'angel': 1041, 'genuin': 1042, 'dad': 1043, 'awesom': 1044, 'f': 1045, 'solid': 1046, 'former': 1047, 'focu': 1048, 'van': 1049, 'colleg': 1050, 'count': 1051, 'tear': 1052, 'heavi': 1053, 'wall': 1054, 'rais': 1055, 'laughabl': 1056, 'younger': 1057, 'visit': 1058, 'excus': 1059, 'sign': 1060, 'fair': 1061, 'cult': 1062, 'motion': 1063, 'key': 1064, 'tough': 1065, 'super': 1066, 'desir': 1067, 'addit': 1068, 'stun': 1069, 'cloth': 1070, 'exploit': 1071, 'smith': 1072, 'tortur': 1073, 'davi': 1074, 'race': 1075, 'cross': 1076, 'author': 1077, 'jim': 1078, 'minor': 1079, 'compel': 1080, 'focus': 1081, 'consist': 1082, 'chemistri': 1083, 'commit': 1084, 'pathet': 1085, 'park': 1086, 'tradit': 1087, 'obsess': 1088, 'frank': 1089, 'grade': 1090, 'asid': 1091, '60': 1092, 'brutal': 1093, 'somewher': 1094, 'steve': 1095, 'rule': 1096, 'grant': 1097, 'opportun': 1098, 'u': 1099, 'depress': 1100, 'explor': 1101, 'besid': 1102, 'honest': 1103, 'dub': 1104, 'anti': 1105, 'intend': 1106, 'trailer': 1107, 'bar': 1108, 'scientist': 1109, 'west': 1110, 'longer': 1111, 'regard': 1112, 'decad': 1113, 'judg': 1114, 'silent': 1115, 'creativ': 1116, 'armi': 1117, 'wild': 1118, 'g': 1119, 'south': 1120, 'stewart': 1121, 'draw': 1122, 'road': 1123, 'govern': 1124, 'boss': 1125, 'ex': 1126, 'practic': 1127, 'festiv': 1128, 'motiv': 1129, 'club': 1130, 'surprisingli': 1131, 'gang': 1132, 'green': 1133, 'page': 1134, 'redeem': 1135, 'london': 1136, 'aliv': 1137, 'idiot': 1138, 'machin': 1139, 'display': 1140, 'militari': 1141, 'thrill': 1142, 'repeat': 1143, 'nobodi': 1144, 'yeah': 1145, '100': 1146, 'folk': 1147, '40': 1148, 'garbag': 1149, 'journey': 1150, 'smile': 1151, 'tire': 1152, 'ground': 1153, 'bought': 1154, 'mood': 1155, 'sam': 1156, 'cost': 1157, 'stone': 1158, 'mouth': 1159, 'noir': 1160, 'terrif': 1161, 'agent': 1162, 'requir': 1163, 'utterli': 1164, 'sexi': 1165, 'area': 1166, 'honestli': 1167, 'geniu': 1168, 'report': 1169, 'enter': 1170, 'investig': 1171, 'humour': 1172, 'glad': 1173, 'serial': 1174, 'occasion': 1175, 'passion': 1176, 'narr': 1177, 'climax': 1178, 'marriag': 1179, 'studi': 1180, 'industri': 1181, 'nowher': 1182, 'demon': 1183, 'center': 1184, 'ship': 1185, 'charli': 1186, 'bear': 1187, 'hors': 1188, 'loos': 1189, 'hang': 1190, 'wow': 1191, 'graphic': 1192, 'admir': 1193, 'giant': 1194, 'send': 1195, 'damn': 1196, 'loud': 1197, 'profession': 1198, 'subtl': 1199, 'nake': 1200, 'rel': 1201, 'blow': 1202, 'bottom': 1203, 'batman': 1204, 'insult': 1205, 'doubl': 1206, 'boyfriend': 1207, 'r': 1208, 'kelli': 1209, 'initi': 1210, 'frame': 1211, 'gem': 1212, 'opera': 1213, 'affect': 1214, 'church': 1215, 'drawn': 1216, 'cinemat': 1217, 'challeng': 1218, 'j': 1219, 'fulli': 1220, 'l': 1221, 'evid': 1222, 'seek': 1223, 'nightmar': 1224, 'arm': 1225, 'conflict': 1226, 'essenti': 1227, 'wind': 1228, 'grace': 1229, 'henri': 1230, 'christoph': 1231, 'narrat': 1232, 'assum': 1233, 'witch': 1234, 'hunt': 1235, 'push': 1236, 'chri': 1237, 'wise': 1238, 'nomin': 1239, 'repres': 1240, 'month': 1241, 'sceneri': 1242, 'avail': 1243, 'hide': 1244, 'affair': 1245, 'justic': 1246, 'bond': 1247, 'thu': 1248, 'smart': 1249, 'interview': 1250, 'flashback': 1251, 'outstand': 1252, 'constantli': 1253, 'satisfi': 1254, 'presenc': 1255, 'central': 1256, 'bed': 1257, 'sell': 1258, 'iron': 1259, 'content': 1260, 'everybodi': 1261, 'gag': 1262, 'slowli': 1263, 'hotel': 1264, 'hire': 1265, 'system': 1266, 'individu': 1267, 'charl': 1268, 'thrown': 1269, 'hey': 1270, 'adam': 1271, 'allen': 1272, 'jone': 1273, 'mediocr': 1274, 'lesson': 1275, 'ray': 1276, 'billi': 1277, 'photographi': 1278, 'cameo': 1279, 'pari': 1280, 'fellow': 1281, 'strike': 1282, 'rise': 1283, 'absurd': 1284, 'independ': 1285, 'brief': 1286, 'neg': 1287, 'phone': 1288, 'impact': 1289, 'born': 1290, 'ill': 1291, 'model': 1292, 'angl': 1293, 'fresh': 1294, 'spoil': 1295, 'likabl': 1296, 'abus': 1297, 'discuss': 1298, 'hill': 1299, 'sight': 1300, 'ahead': 1301, 'sent': 1302, 'photograph': 1303, 'shine': 1304, 'logic': 1305, 'blame': 1306, 'occur': 1307, 'bruce': 1308, 'mainli': 1309, 'commerci': 1310, 'forev': 1311, 'skip': 1312, 'teacher': 1313, 'segment': 1314, 'surround': 1315, 'held': 1316, 'blond': 1317, 'zero': 1318, 'resembl': 1319, 'summer': 1320, 'trap': 1321, 'satir': 1322, 'ball': 1323, 'fool': 1324, 'queen': 1325, 'six': 1326, 'sub': 1327, 'tragedi': 1328, 'twice': 1329, 'reaction': 1330, 'pack': 1331, 'bomb': 1332, 'protagonist': 1333, 'hospit': 1334, 'will': 1335, 'sport': 1336, 'mile': 1337, 'mom': 1338, 'vote': 1339, 'drink': 1340, 'trust': 1341, 'jerri': 1342, 'encount': 1343, 'plane': 1344, 'program': 1345, 'station': 1346, 'al': 1347, 'current': 1348, 'martin': 1349, 'celebr': 1350, 'choos': 1351, 'join': 1352, 'lord': 1353, 'round': 1354, 'tragic': 1355, 'field': 1356, 'favourit': 1357, 'jean': 1358, 'vision': 1359, 'robot': 1360, 'tie': 1361, 'arthur': 1362, 'fortun': 1363, 'random': 1364, 'roger': 1365, 'psycholog': 1366, 'dread': 1367, 'intern': 1368, 'improv': 1369, 'nonsens': 1370, 'epic': 1371, 'prefer': 1372, 'formula': 1373, 'legend': 1374, 'pleasur': 1375, 'highlight': 1376, 'tape': 1377, '11': 1378, 'dollar': 1379, 'gorgeou': 1380, 'fox': 1381, 'wide': 1382, 'porn': 1383, 'thin': 1384, 'object': 1385, 'influenc': 1386, 'buddi': 1387, 'ugli': 1388, 'prepar': 1389, 'nasti': 1390, 'ii': 1391, 'warm': 1392, 'reflect': 1393, 'supposedli': 1394, 'progress': 1395, 'youth': 1396, 'worthi': 1397, 'length': 1398, 'latter': 1399, 'unusu': 1400, 'crash': 1401, 'superior': 1402, 'seven': 1403, 'childhood': 1404, 'shop': 1405, 'theatr': 1406, 'remot': 1407, 'funniest': 1408, 'paid': 1409, 'disgust': 1410, 'pilot': 1411, 'convers': 1412, 'trick': 1413, 'fell': 1414, 'castl': 1415, 'disast': 1416, 'establish': 1417, 'rob': 1418, 'gangster': 1419, 'ident': 1420, 'heaven': 1421, 'disappear': 1422, 'mine': 1423, 'suicid': 1424, 'tend': 1425, 'singer': 1426, 'mask': 1427, 'forgotten': 1428, 'heroin': 1429, 'decis': 1430, 'brian': 1431, 'partner': 1432, 'alan': 1433, 'desert': 1434, 'recogn': 1435, 'sky': 1436, 'stuck': 1437, 'ms': 1438, 'p': 1439, 'thoroughli': 1440, 'replac': 1441, 'accur': 1442, 'market': 1443, 'seemingli': 1444, 'uncl': 1445, 'commentari': 1446, 'clue': 1447, 'andi': 1448, 'eddi': 1449, 'danni': 1450, 'devil': 1451, 'jackson': 1452, 'pair': 1453, 'therefor': 1454, 'that': 1455, 'refus': 1456, 'accid': 1457, 'unit': 1458, 'fate': 1459, 'fault': 1460, 'ed': 1461, 'river': 1462, 'afraid': 1463, 'tune': 1464, 'clean': 1465, 'hidden': 1466, 'russian': 1467, 'stephen': 1468, 'test': 1469, 'captain': 1470, 'convey': 1471, 'instanc': 1472, 'readi': 1473, 'quick': 1474, 'irrit': 1475, 'european': 1476, 'daniel': 1477, 'frustrat': 1478, 'insan': 1479, 'rescu': 1480, '1950': 1481, 'chines': 1482, 'wed': 1483, 'food': 1484, 'angri': 1485, 'lock': 1486, 'dirti': 1487, 'joy': 1488, 'steven': 1489, 'price': 1490, 'bland': 1491, 'cage': 1492, 'rang': 1493, 'anymor': 1494, 'wooden': 1495, 'n': 1496, 'rush': 1497, 'news': 1498, 'jason': 1499, 'led': 1500, 'board': 1501, '12': 1502, 'worri': 1503, 'twenti': 1504, 'martial': 1505, 'symbol': 1506, 'hunter': 1507, 'transform': 1508, 'cgi': 1509, 'sentiment': 1510, 'piti': 1511, 'invent': 1512, 'onto': 1513, 'johnni': 1514, 'x': 1515, 'process': 1516, 'attitud': 1517, 'explan': 1518, 'owner': 1519, 'awar': 1520, 'aim': 1521, 'favor': 1522, 'floor': 1523, 'necessari': 1524, 'energi': 1525, 'target': 1526, 'opposit': 1527, 'religi': 1528, 'chick': 1529, 'blind': 1530, 'window': 1531, 'insight': 1532, 'movement': 1533, 'comparison': 1534, 'research': 1535, 'mountain': 1536, 'deepli': 1537, 'possess': 1538, 'whatsoev': 1539, 'grand': 1540, 'rain': 1541, 'comed': 1542, 'began': 1543, 'bank': 1544, 'shadow': 1545, 'mid': 1546, 'parodi': 1547, 'princ': 1548, 'weapon': 1549, 'credibl': 1550, 'taylor': 1551, 'friendship': 1552, 'pre': 1553, 'flesh': 1554, 'teach': 1555, 'dougla': 1556, 'bloodi': 1557, 'protect': 1558, 'hint': 1559, 'terror': 1560, 'marvel': 1561, 'anybodi': 1562, 'accord': 1563, 'watchabl': 1564, 'drunk': 1565, 'leader': 1566, 'superman': 1567, 'load': 1568, 'brown': 1569, 'freddi': 1570, 'appropri': 1571, 'seat': 1572, 'tim': 1573, 'hitler': 1574, 'jeff': 1575, 'villag': 1576, 'unknown': 1577, 'charg': 1578, 'knock': 1579, 'keaton': 1580, 'england': 1581, 'enemi': 1582, 'empti': 1583, 'unnecessari': 1584, 'media': 1585, 'strength': 1586, 'buck': 1587, 'utter': 1588, 'craft': 1589, 'wave': 1590, 'dare': 1591, 'perspect': 1592, 'correct': 1593, 'ford': 1594, 'nativ': 1595, 'kiss': 1596, 'contrast': 1597, 'nazi': 1598, 'speed': 1599, 'chill': 1600, 'anywher': 1601, 'magnific': 1602, 'soap': 1603, 'knowledg': 1604, 'distract': 1605, 'breath': 1606, 'mission': 1607, '1980': 1608, 'ice': 1609, 'fred': 1610, 'joan': 1611, 'jr': 1612, 'crowd': 1613, 'moon': 1614, '000': 1615, 'frighten': 1616, 'soft': 1617, 'kate': 1618, 'hundr': 1619, 'dan': 1620, 'nick': 1621, 'dick': 1622, 'dozen': 1623, 'radio': 1624, 'somebodi': 1625, 'simon': 1626, 'shakespear': 1627, 'academi': 1628, 'loss': 1629, 'thousand': 1630, 'andrew': 1631, 'quot': 1632, 'root': 1633, 'account': 1634, 'vehicl': 1635, 'sum': 1636, '1970': 1637, 'leg': 1638, 'convent': 1639, 'behavior': 1640, 'regular': 1641, 'gold': 1642, 'pretenti': 1643, 'worker': 1644, 'demand': 1645, 'compet': 1646, 'japan': 1647, 'explos': 1648, 'stretch': 1649, 'privat': 1650, 'notabl': 1651, 'lynch': 1652, 'candi': 1653, 'interpret': 1654, 'constant': 1655, 'debut': 1656, 'tarzan': 1657, 'revolv': 1658, 'translat': 1659, 'spi': 1660, 'sea': 1661, 'prais': 1662, 'failur': 1663, 'ass': 1664, 'threaten': 1665, 'jesu': 1666, 'sat': 1667, 'quiet': 1668, 'franc': 1669, 'technolog': 1670, 'kevin': 1671, 'higher': 1672, 'aid': 1673, 'met': 1674, 'toy': 1675, 'punch': 1676, 'vh': 1677, 'mike': 1678, 'interact': 1679, 'abandon': 1680, 'bet': 1681, 'command': 1682, 'separ': 1683, 'confront': 1684, 'belong': 1685, 'site': 1686, 'recal': 1687, 'servic': 1688, 'gotten': 1689, 'techniqu': 1690, 'stunt': 1691, 'cabl': 1692, 'foot': 1693, 'freak': 1694, 'bug': 1695, 'bright': 1696, 'fu': 1697, 'capabl': 1698, 'african': 1699, 'jimmi': 1700, 'succeed': 1701, 'presid': 1702, 'fat': 1703, 'stock': 1704, 'boat': 1705, 'clark': 1706, 'structur': 1707, 'spanish': 1708, 'gene': 1709, 'paper': 1710, 'kidnap': 1711, 'belief': 1712, 'whilst': 1713, 'factor': 1714, 'realism': 1715, 'complic': 1716, 'tree': 1717, 'attend': 1718, 'bob': 1719, 'realis': 1720, 'witti': 1721, 'educ': 1722, 'finest': 1723, 'broken': 1724, 'assist': 1725, 'santa': 1726, 'smoke': 1727, 'up': 1728, 'v': 1729, 'determin': 1730, 'depart': 1731, 'observ': 1732, 'fame': 1733, 'routin': 1734, 'oper': 1735, 'lewi': 1736, 'domin': 1737, 'hat': 1738, 'rubbish': 1739, 'lone': 1740, 'safe': 1741, 'morgan': 1742, 'kinda': 1743, 'hook': 1744, 'advanc': 1745, 'foreign': 1746, 'rank': 1747, 'numer': 1748, 'shape': 1749, 'shallow': 1750, 'washington': 1751, 'rose': 1752, 'civil': 1753, 'werewolf': 1754, 'vs': 1755, 'gari': 1756, 'morn': 1757, 'accomplish': 1758, 'winner': 1759, 'ordinari': 1760, 'kong': 1761, 'grab': 1762, 'whenev': 1763, 'peac': 1764, 'virtual': 1765, 'luck': 1766, 'h': 1767, 'offens': 1768, 'unfunni': 1769, 'welcom': 1770, 'activ': 1771, 'patient': 1772, 'bigger': 1773, 'contriv': 1774, 'complain': 1775, 'pretend': 1776, 'dimension': 1777, 'con': 1778, 'trek': 1779, 'flash': 1780, 'lesbian': 1781, 'dri': 1782, 'cain': 1783, 'code': 1784, 'wake': 1785, 'eric': 1786, 'statu': 1787, 'corrupt': 1788, 'manipul': 1789, 'guard': 1790, 'dancer': 1791, 'albert': 1792, 'speech': 1793, 'awkward': 1794, 'gain': 1795, 'sourc': 1796, 'signific': 1797, 'context': 1798, 'sean': 1799, 'corni': 1800, 'clip': 1801, 'anthoni': 1802, '13': 1803, 'psycho': 1804, 'priest': 1805, 'w': 1806, 'religion': 1807, 'curiou': 1808, 'theatric': 1809, 'advic': 1810, 'reli': 1811, 'addict': 1812, 'flow': 1813, 'jennif': 1814, 'skin': 1815, 'secur': 1816, 'specif': 1817, 'asian': 1818, 'howard': 1819, 'golden': 1820, 'promot': 1821, 'luke': 1822, 'core': 1823, 'organ': 1824, 'comfort': 1825, 'cash': 1826, 'lucki': 1827, 'cheat': 1828, 'associ': 1829, 'dislik': 1830, 'lower': 1831, 'devic': 1832, 'balanc': 1833, 'wing': 1834, 'contribut': 1835, 'degre': 1836, 'spell': 1837, 'regret': 1838, 'frankli': 1839, 'frequent': 1840, 'forgiv': 1841, 'sake': 1842, 'print': 1843, 'lake': 1844, 'thoma': 1845, 'mass': 1846, 'betti': 1847, 'gordon': 1848, 'unexpect': 1849, 'crack': 1850, 'construct': 1851, 'categori': 1852, 'unfold': 1853, 'grown': 1854, 'amateur': 1855, 'depend': 1856, 'invit': 1857, 'condit': 1858, 'intellectu': 1859, 'matur': 1860, 'honor': 1861, 'walter': 1862, 'grew': 1863, 'anna': 1864, 'sole': 1865, 'spectacular': 1866, 'veteran': 1867, 'sudden': 1868, 'mirror': 1869, 'liner': 1870, 'card': 1871, 'meanwhil': 1872, 'overli': 1873, 'robin': 1874, 'freedom': 1875, 'gift': 1876, 'demonstr': 1877, 'experienc': 1878, 'grip': 1879, 'theori': 1880, 'subtitl': 1881, 'drew': 1882, 'unabl': 1883, 'section': 1884, 'brilliantli': 1885, 'sheriff': 1886, 'circumst': 1887, 'oliv': 1888, 'crappi': 1889, 'colour': 1890, 'laughter': 1891, 'pile': 1892, 'altern': 1893, 'cook': 1894, 'matt': 1895, 'sheer': 1896, 'path': 1897, 'parker': 1898, 'accident': 1899, 'treatment': 1900, 'wander': 1901, 'hall': 1902, 'defin': 1903, 'relief': 1904, 'sinatra': 1905, 'lawyer': 1906, 'hank': 1907, 'dragon': 1908, 'captiv': 1909, 'gratuit': 1910, 'halloween': 1911, 'moor': 1912, 'wound': 1913, 'unintent': 1914, 'barbara': 1915, 'kung': 1916, 'wayn': 1917, 'k': 1918, 'cowboy': 1919, 'broadway': 1920, 'jacki': 1921, 'spoof': 1922, 'winter': 1923, 'statement': 1924, 'surreal': 1925, 'canadian': 1926, 'cheer': 1927, 'fare': 1928, 'gonna': 1929, 'fish': 1930, 'treasur': 1931, 'compos': 1932, 'victor': 1933, 'woodi': 1934, 'sensit': 1935, 'emerg': 1936, 'unrealist': 1937, 'sympathet': 1938, 'neighbor': 1939, 'driven': 1940, 'ran': 1941, 'menac': 1942, 'glass': 1943, 'overlook': 1944, 'expos': 1945, 'authent': 1946, 'topic': 1947, 'chief': 1948, 'ancient': 1949, 'michel': 1950, 'handsom': 1951, 'gross': 1952, 'pleasant': 1953, 'russel': 1954, 'comedian': 1955, 'built': 1956, 'contemporari': 1957, 'feet': 1958, 'cinderella': 1959, 'nevertheless': 1960, 'stranger': 1961, 'network': 1962, 'earn': 1963, 'letter': 1964, 'blockbust': 1965, 'gori': 1966, 'consider': 1967, 'underr': 1968, 'miser': 1969, 'endless': 1970, 'brook': 1971, 'switch': 1972, 'solv': 1973, 'bullet': 1974, 'joseph': 1975, 'edward': 1976, 'virgin': 1977, 'convict': 1978, 'victoria': 1979, 'alex': 1980, 'scenario': 1981, 'scale': 1982, '0': 1983, 'cynic': 1984, 'chosen': 1985, 'com': 1986, 'outrag': 1987, 'curs': 1988, 'gut': 1989, 'sword': 1990, 'uk': 1991, 'wrap': 1992, 'proper': 1993, 'substanc': 1994, 'screenwrit': 1995, 'monkey': 1996, 'driver': 1997, 'juli': 1998, 'indic': 1999, 'remov': 2000, 'par': 2001, 'bird': 2002, 'court': 2003, 'inevit': 2004, 'advertis': 2005, 'grave': 2006, 'naiv': 2007, 'consequ': 2008, 'loser': 2009, 'roy': 2010, 'rental': 2011, 'nanci': 2012, 'invis': 2013, 'le': 2014, 'brave': 2015, 'fatal': 2016, 'bridg': 2017, 'slap': 2018, 'germani': 2019, 'footbal': 2020, 'anger': 2021, 'loui': 2022, 'ador': 2023, 'provok': 2024, 'alcohol': 2025, 'anderson': 2026, 'chan': 2027, 'willi': 2028, 'professor': 2029, 'stumbl': 2030, 'ryan': 2031, 'australian': 2032, 'sharp': 2033, 'bat': 2034, 'patrick': 2035, 'assassin': 2036, '1930': 2037, 'strongli': 2038, 'saturday': 2039, 'ape': 2040, 'cell': 2041, 'refresh': 2042, 'heck': 2043, 'amateurish': 2044, 'lousi': 2045, 'trilog': 2046, 'deni': 2047, 'liber': 2048, 'eight': 2049, 'sin': 2050, 'justifi': 2051, 'vagu': 2052, 'san': 2053, 'resid': 2054, 'mini': 2055, 'terrifi': 2056, 'reput': 2057, 'creator': 2058, 'indi': 2059, 'sympathi': 2060, 'defeat': 2061, 'tabl': 2062, 'endur': 2063, 'prevent': 2064, 'task': 2065, 'expert': 2066, 'tediou': 2067, 'offend': 2068, 'basebal': 2069, 'employ': 2070, 'trial': 2071, 'imit': 2072, 'rival': 2073, 'che': 2074, 'europ': 2075, 'dig': 2076, 'pitch': 2077, 'weekend': 2078, 'fairi': 2079, 'max': 2080, 'beach': 2081, 'complaint': 2082, 'purchas': 2083, 'risk': 2084, 'format': 2085, 'murphi': 2086, 'glimps': 2087, 'nois': 2088, 'tini': 2089, 'harsh': 2090, 'titan': 2091, 'hype': 2092, 'reminisc': 2093, 'bite': 2094, 'powel': 2095, 'fals': 2096, 'strip': 2097, 'prime': 2098, '14': 2099, 'asleep': 2100, 'north': 2101, 'till': 2102, 'descript': 2103, 'revel': 2104, 'africa': 2105, 'texa': 2106, 'destruct': 2107, 'uninterest': 2108, 'inner': 2109, 'arrest': 2110, 'excess': 2111, 'surfac': 2112, 'semi': 2113, 'spin': 2114, 'sitcom': 2115, 'controversi': 2116, 'dinosaur': 2117, 'hitchcock': 2118, 'makeup': 2119, 'maintain': 2120, 'argu': 2121, 'twin': 2122, 'massiv': 2123, 'ideal': 2124, 'reject': 2125, 'kim': 2126, 'stare': 2127, 'expens': 2128, 'melodrama': 2129, 'insist': 2130, 'ludicr': 2131, 'erot': 2132, 'atroci': 2133, 'nail': 2134, 'supernatur': 2135, 'host': 2136, 'ala': 2137, 'subplot': 2138, 'forest': 2139, 'press': 2140, 'ga': 2141, 'columbo': 2142, 'dude': 2143, 'identifi': 2144, 'cant': 2145, 'presum': 2146, 'notch': 2147, 'character': 2148, 'plagu': 2149, 'guest': 2150, 'crude': 2151, 'forgett': 2152, 'closer': 2153, 'method': 2154, 'landscap': 2155, 'ear': 2156, 'beast': 2157, 'foster': 2158, 'lion': 2159, 'border': 2160, 'princess': 2161, 'accus': 2162, 'birth': 2163, 'previous': 2164, 'aunt': 2165, 'storytel': 2166, 'urban': 2167, 'bound': 2168, 'jungl': 2169, 'pacino': 2170, 'damag': 2171, 'chose': 2172, 'propaganda': 2173, 'nude': 2174, 'jess': 2175, 'guid': 2176, 'emma': 2177, 'doll': 2178, 'thirti': 2179, 'mainstream': 2180, 'pet': 2181, 'whoever': 2182, 'warrior': 2183, '25': 2184, 'mate': 2185, 'latest': 2186, 'gritti': 2187, 'upset': 2188, 'cooper': 2189, 'merit': 2190, 'size': 2191, 'exact': 2192, 'friday': 2193, 'deadli': 2194, 'poster': 2195, 'settl': 2196, 'wilson': 2197, 'buff': 2198, 'blend': 2199, '1990': 2200, 'ton': 2201, 'corps': 2202, 'contact': 2203, 'popul': 2204, 'sun': 2205, 'warner': 2206, 'rough': 2207, 'citizen': 2208, 'contest': 2209, 'alic': 2210, 'rat': 2211, 'metal': 2212, 'select': 2213, 'pitt': 2214, 'environ': 2215, 'overcom': 2216, 'bu': 2217, 'mgm': 2218, 'widow': 2219, 'guilti': 2220, 'particip': 2221, 'link': 2222, 'lift': 2223, 'revolut': 2224, 'ted': 2225, 'accompani': 2226, 'corpor': 2227, 'corner': 2228, 'moron': 2229, 'matrix': 2230, 'afternoon': 2231, 'prostitut': 2232, '1960': 2233, 'johnson': 2234, 'exagger': 2235, 'clair': 2236, 'holm': 2237, 'leagu': 2238, 'friendli': 2239, 'hood': 2240, 'instal': 2241, 'sincer': 2242, 'multipl': 2243, 'doom': 2244, 'junk': 2245, 'string': 2246, 'aka': 2247, 'advis': 2248, 'irish': 2249, 'hip': 2250, 'sunday': 2251, 'lugosi': 2252, 'grim': 2253, 'defend': 2254, 'examin': 2255, 'campi': 2256, 'blah': 2257, 'shake': 2258, 'icon': 2259, 'tight': 2260, 'shut': 2261, 'pro': 2262, 'confid': 2263, 'varieti': 2264, 'rachel': 2265, 'attach': 2266, 'directli': 2267, 'medic': 2268, 'mexican': 2269, 'denni': 2270, 'jaw': 2271, 'sullivan': 2272, 'goal': 2273, 'dean': 2274, 'terrorist': 2275, 'vietnam': 2276, 'breast': 2277, 'legendari': 2278, 'sarah': 2279, 'prior': 2280, 'sentenc': 2281, 'bourn': 2282, 'duke': 2283, 'courag': 2284, 'truck': 2285, 'un': 2286, 'split': 2287, 'behav': 2288, 'entri': 2289, 'nose': 2290, 'proceed': 2291, 'yell': 2292, 'donald': 2293, 'hong': 2294, 'forth': 2295, 'swim': 2296, 'borrow': 2297, 'everywher': 2298, 'stolen': 2299, 'confess': 2300, 'crush': 2301, 'lifetim': 2302, 'gather': 2303, 'jerk': 2304, 'buri': 2305, 'concentr': 2306, 'unconvinc': 2307, 'spite': 2308, 'julia': 2309, 'deliveri': 2310, 'california': 2311, 'lip': 2312, 'turkey': 2313, 'pan': 2314, 'proud': 2315, 'china': 2316, 'flight': 2317, 'quest': 2318, 'reward': 2319, 'freeman': 2320, 'hoffman': 2321, 'offici': 2322, 'downright': 2323, 'jail': 2324, 'sir': 2325, 'fade': 2326, 'fabul': 2327, 'lazi': 2328, 'betray': 2329, 'inept': 2330, 'encourag': 2331, 'worthwhil': 2332, 'notori': 2333, 'jon': 2334, 'sink': 2335, 'branagh': 2336, 'cousin': 2337, 'relev': 2338, 'retard': 2339, 'susan': 2340, 'teeth': 2341, 'storm': 2342, 'lisa': 2343, 'bell': 2344, 'bag': 2345, 'survivor': 2346, 'imageri': 2347, 'shower': 2348, 'stab': 2349, 'mexico': 2350, 'trade': 2351, 'quirki': 2352, 'summari': 2353, 'finger': 2354, 'hugh': 2355, 'shark': 2356, 'toler': 2357, 'alright': 2358, 'facial': 2359, 'tremend': 2360, 'bride': 2361, 'pose': 2362, 'blown': 2363, 'bitter': 2364, 'von': 2365, 'ha': 2366, 'hyster': 2367, 'christ': 2368, 'address': 2369, 'bone': 2370, 'afterward': 2371, 'larri': 2372, 'ned': 2373, 'scheme': 2374, 'ron': 2375, 'cruel': 2376, 'swear': 2377, 'pursu': 2378, 'tour': 2379, 'beg': 2380, 'feed': 2381, 'screw': 2382, 'thumb': 2383, 'snake': 2384, 'distinct': 2385, 'traci': 2386, 'raw': 2387, 'stomach': 2388, 'occas': 2389, 'mechan': 2390, 'chair': 2391, 'photo': 2392, 'obscur': 2393, 'sidney': 2394, 'necessarili': 2395, 'argument': 2396, 'gruesom': 2397, 'chain': 2398, 'hardi': 2399, 'cabin': 2400, 'southern': 2401, 'resist': 2402, 'render': 2403, 'holiday': 2404, 'heavili': 2405, 'indulg': 2406, 'understood': 2407, 'satan': 2408, 'racist': 2409, 'india': 2410, 'philip': 2411, 'integr': 2412, 'midnight': 2413, 'tongu': 2414, 'belov': 2415, 'fourth': 2416, 'lay': 2417, 'forgot': 2418, 'pregnant': 2419, 'outfit': 2420, 'obnoxi': 2421, 'stalk': 2422, 'ticket': 2423, 'magazin': 2424, 'deeper': 2425, 'inhabit': 2426, 'restor': 2427, '17': 2428, 'slapstick': 2429, 'carol': 2430, 'garden': 2431, 'devot': 2432, 'shoe': 2433, 'brad': 2434, 'incid': 2435, 'lincoln': 2436, 'disbelief': 2437, 'divorc': 2438, 'underground': 2439, 'benefit': 2440, 'lili': 2441, 'guarante': 2442, 'anticip': 2443, 'sandler': 2444, 'elizabeth': 2445, 'maria': 2446, 'greater': 2447, 'creation': 2448, 'mildli': 2449, 'princip': 2450, 'amazingli': 2451, 'slave': 2452, 'cring': 2453, 'capit': 2454, 'bbc': 2455, 'explod': 2456, 'extraordinari': 2457, 'lesli': 2458, 'halfway': 2459, 'funnier': 2460, 'introduct': 2461, 'punish': 2462, 'extent': 2463, 'tap': 2464, 'overwhelm': 2465, 'transfer': 2466, 'wreck': 2467, 'advantag': 2468, 'text': 2469, 'enhanc': 2470, 'dynam': 2471, 'deliber': 2472, 'preview': 2473, 'east': 2474, 'lo': 2475, 'lane': 2476, 'error': 2477, 'horrif': 2478, 'jessica': 2479, 'plant': 2480, 'basi': 2481, 'sophist': 2482, '2000': 2483, 'miscast': 2484, 'vacat': 2485, 'ensu': 2486, 'appli': 2487, 'homosexu': 2488, 'vincent': 2489, 'miller': 2490, 'sleazi': 2491, 'mansion': 2492, 'spoken': 2493, 'reed': 2494, 'via': 2495, 'steel': 2496, 'uncomfort': 2497, 'extend': 2498, 'bollywood': 2499, 'elev': 2500, 'measur': 2501, 'cathol': 2502, 'beer': 2503, 'conceiv': 2504, 'goofi': 2505, 'alter': 2506, 'daili': 2507, 'savag': 2508, 'dentist': 2509, 'assign': 2510, 'blair': 2511, 'fix': 2512, 'mous': 2513, 'breathtak': 2514, 'stanley': 2515, 'overact': 2516, 'hippi': 2517, 'melt': 2518, 'succe': 2519, 'oppos': 2520, 'burt': 2521, 'everyday': 2522, 'subsequ': 2523, 'inspector': 2524, 'sacrific': 2525, 'properli': 2526, 'nowaday': 2527, 'carpent': 2528, 'block': 2529, 'laura': 2530, 'massacr': 2531, 'neck': 2532, 'circl': 2533, 'fay': 2534, 'access': 2535, 'pool': 2536, 'christi': 2537, 'mob': 2538, 'fallen': 2539, 'lesser': 2540, 'concert': 2541, 'seagal': 2542, 'grey': 2543, 'portrait': 2544, 'jake': 2545, 'relax': 2546, 'sinist': 2547, 'isol': 2548, 'chees': 2549, 'react': 2550, 'usa': 2551, 'jewish': 2552, 'competit': 2553, 'immens': 2554, 'nine': 2555, 'nonetheless': 2556, 'suitabl': 2557, 'creep': 2558, 'ironi': 2559, 'appal': 2560, 'stink': 2561, 'spiritu': 2562, '2006': 2563, 'lyric': 2564, 'chop': 2565, 'rage': 2566, 'retir': 2567, 'reduc': 2568, 'nut': 2569, 'shirt': 2570, 'spring': 2571, 'sold': 2572, 'navi': 2573, 'franchis': 2574, 'luci': 2575, 'needless': 2576, 'user': 2577, 'adopt': 2578, 'showcas': 2579, 'jay': 2580, 'nurs': 2581, 'bath': 2582, 'asham': 2583, 'bulli': 2584, 'digit': 2585, 'uninspir': 2586, 'stanwyck': 2587, 'zone': 2588, 'per': 2589, 'laid': 2590, 'amongst': 2591, '2001': 2592, 'broadcast': 2593, 'illustr': 2594, '1940': 2595, 'upper': 2596, 'sutherland': 2597, 'oddli': 2598, 'disguis': 2599, 'stylish': 2600, 'baker': 2601, 'fulfil': 2602, 'throat': 2603, 'aspir': 2604, 'brando': 2605, 'wanna': 2606, 'endear': 2607, '18': 2608, 'em': 2609, 'nobl': 2610, 'neighborhood': 2611, 'thief': 2612, 'pride': 2613, 'impli': 2614, 'wwii': 2615, 'pound': 2616, 'albeit': 2617, 'tens': 2618, 'prop': 2619, 'cinematograph': 2620, 'dawn': 2621, 'distribut': 2622, '16': 2623, 'bo': 2624, 'bett': 2625, 'diseas': 2626, 'shift': 2627, 'coher': 2628, 'shoulder': 2629, 'rochest': 2630, 'dinner': 2631, 'knife': 2632, 'wash': 2633, 'surf': 2634, 'snow': 2635, 'contract': 2636, 'forti': 2637, 'shout': 2638, 'poignant': 2639, 'function': 2640, 'matthau': 2641, 'silenc': 2642, 'rebel': 2643, 'reunion': 2644, 'proof': 2645, 'duti': 2646, 'heat': 2647, 'silver': 2648, 'eeri': 2649, 'chuck': 2650, 'derek': 2651, 'cancel': 2652, 'height': 2653, 'internet': 2654, 'horrend': 2655, 'instinct': 2656, 'cannib': 2657, 'widmark': 2658, 'henc': 2659, 'mindless': 2660, 'elvira': 2661, 'alik': 2662, 'glori': 2663, 'neat': 2664, 'innov': 2665, 'etern': 2666, 'mill': 2667, 'elvi': 2668, 'pie': 2669, 'musician': 2670, 'greatli': 2671, 'repetit': 2672, 'spielberg': 2673, 'torn': 2674, 'premier': 2675, 'incoher': 2676, 'absorb': 2677, 'burton': 2678, 'infam': 2679, 'nelson': 2680, 'wealthi': 2681, 'fbi': 2682, 'racism': 2683, 'homag': 2684, 'diamond': 2685, 'announc': 2686, 'redempt': 2687, 'itali': 2688, 'bang': 2689, 'horrifi': 2690, 'trite': 2691, 'britain': 2692, 'lovabl': 2693, 'crisi': 2694, 'precis': 2695, 'blank': 2696, 'hammer': 2697, 'helen': 2698, 'flop': 2699, 'ensembl': 2700, 'resolut': 2701, 'streisand': 2702, 'wilder': 2703, 'parallel': 2704, 'dedic': 2705, 'pat': 2706, 'chaplin': 2707, 'happili': 2708, 'triumph': 2709, 'mar': 2710, 'plastic': 2711, 'carter': 2712, 'disagre': 2713, 'st': 2714, 'oil': 2715, 'broke': 2716, 'factori': 2717, 'conclud': 2718, 'cube': 2719, 'climb': 2720, 'weight': 2721, 'fighter': 2722, 'bush': 2723, 'vega': 2724, 'row': 2725, 'own': 2726, 'chuckl': 2727, 'rocket': 2728, 'march': 2729, 'boot': 2730, 'kurt': 2731, 'lust': 2732, 'spare': 2733, 'sensibl': 2734, 'enorm': 2735, 'thug': 2736, 'mst3k': 2737, 'wherea': 2738, 'dump': 2739, 'meaning': 2740, 'luca': 2741, 'dane': 2742, 'unforgett': 2743, 'butt': 2744, 'dear': 2745, 'difficulti': 2746, 'stress': 2747, 'caricatur': 2748, 'bobbi': 2749, 'arnold': 2750, 'karloff': 2751, 'brand': 2752, 'fifti': 2753, 'engin': 2754, 'adequ': 2755, 'threat': 2756, 'rap': 2757, 'fest': 2758, 'homeless': 2759, 'arrog': 2760, 'ego': 2761, 'flynn': 2762, 'secretari': 2763, 'elabor': 2764, 'ralph': 2765, 'swing': 2766, 'polish': 2767, 'journalist': 2768, 'barri': 2769, 'hamlet': 2770, 'puppet': 2771, 'float': 2772, 'induc': 2773, 'fanci': 2774, 'arrang': 2775, 'grate': 2776, 'conspiraci': 2777, 'resort': 2778, 'unbear': 2779, 'simpson': 2780, 'spike': 2781, 'tool': 2782, 'cruis': 2783, 'basement': 2784, 'choreograph': 2785, 'tribut': 2786, 'guilt': 2787, 'pig': 2788, 'phillip': 2789, 'boll': 2790, 'exercis': 2791, 'muppet': 2792, 'fianc': 2793, 'tower': 2794, 'editor': 2795, '24': 2796, 'ham': 2797, 'slip': 2798, 'ward': 2799, 'file': 2800, 'puzzl': 2801, 'document': 2802, 'medium': 2803, 'korean': 2804, 'stan': 2805, 'toilet': 2806, 'item': 2807, 'layer': 2808, 'babe': 2809, 'scarecrow': 2810, 'portion': 2811, 'spark': 2812, 'philosoph': 2813, 'minim': 2814, 'larger': 2815, 'persona': 2816, 'denzel': 2817, 'inexplic': 2818, 'catherin': 2819, 'assur': 2820, 'librari': 2821, 'transit': 2822, 'slaughter': 2823, 'orient': 2824, 'superfici': 2825, 'glover': 2826, 'doc': 2827, 'territori': 2828, 'curti': 2829, 'financi': 2830, 'wolf': 2831, 'ban': 2832, 'sneak': 2833, 'shi': 2834, 'boredom': 2835, 'owe': 2836, 'pg': 2837, 'jet': 2838, 'jeremi': 2839, 'dorothi': 2840, 'walken': 2841, 'multi': 2842, 'profound': 2843, 'metaphor': 2844, 'backdrop': 2845, 'eleph': 2846, 'ambigu': 2847, 'cusack': 2848, 'hudson': 2849, 'whale': 2850, 'elsewher': 2851, 'ultra': 2852, 'hack': 2853, 'notion': 2854, 'birthday': 2855, 'viru': 2856, 'gadget': 2857, 'rave': 2858, 'implaus': 2859, 'stiff': 2860, '2005': 2861, 'union': 2862, 'superhero': 2863, 'afford': 2864, 'disc': 2865, 'distanc': 2866, 'squar': 2867, 'canada': 2868, 'poison': 2869, 'pad': 2870, '1st': 2871, 'deriv': 2872, 'newspap': 2873, 'eva': 2874, 'urg': 2875, 'lloyd': 2876, 'bibl': 2877, 'reader': 2878, 'slight': 2879, 'hawk': 2880, 'eastwood': 2881, 'essenc': 2882, 'button': 2883, 'cure': 2884, 'charisma': 2885, 'spread': 2886, 'health': 2887, 'sadist': 2888, 'drown': 2889, 'huh': 2890, 'montag': 2891, 'skit': 2892, 'restaur': 2893, 'heston': 2894, 'invest': 2895, 'maniac': 2896, 'lab': 2897, 'fetch': 2898, 'muslim': 2899, 'peak': 2900, 'godfath': 2901, 'gradual': 2902, 'companion': 2903, 'dealt': 2904, 'estat': 2905, 'scoobi': 2906, 'gothic': 2907, 'servant': 2908, 'countless': 2909, 'alli': 2910, 'cup': 2911, 'tea': 2912, 'subtleti': 2913, 'ritter': 2914, 'miik': 2915, 'kane': 2916, 'charismat': 2917, 'heroic': 2918, 'iii': 2919, 'electr': 2920, 'briefli': 2921, 'elect': 2922, 'salli': 2923, 'resourc': 2924, 'toss': 2925, 'nuanc': 2926, 'reel': 2927, 'bud': 2928, 'wannab': 2929, 'tender': 2930, 'cole': 2931, 'grandmoth': 2932, 'ingredi': 2933, 'admittedli': 2934, 'neil': 2935, 'pit': 2936, 'label': 2937, 'kubrick': 2938, 'shall': 2939, 'poverti': 2940, 'stood': 2941, 'pauli': 2942, 'punk': 2943, 'gate': 2944, 'mafia': 2945, 'reev': 2946, 'stronger': 2947, 'dawson': 2948, 'carrey': 2949, 'mild': 2950, 'ian': 2951, 'terri': 2952, 'burst': 2953, 'cardboard': 2954, 'updat': 2955, 'useless': 2956, 'assault': 2957, 'smooth': 2958, 'fond': 2959, 'smash': 2960, 'tag': 2961, 'cox': 2962, 'easier': 2963, 'outcom': 2964, 'bakshi': 2965, 'astair': 2966, 'increasingli': 2967, 'vari': 2968, '2002': 2969, 'rex': 2970, 'melodramat': 2971, 'fist': 2972, 'exchang': 2973, 'resolv': 2974, 'coincid': 2975, 'qualifi': 2976, 'divers': 2977, 'vulner': 2978, 'sketch': 2979, 'samurai': 2980, 'be': 2981, 'insert': 2982, 'reynold': 2983, 'luckili': 2984, 'suspend': 2985, 'conveni': 2986, 'scratch': 2987, 'blast': 2988, 'brillianc': 2989, 'templ': 2990, 'tame': 2991, 'jami': 2992, 'matthew': 2993, 'ambiti': 2994, 'farm': 2995, 'fisher': 2996, 'seventi': 2997, 'nuclear': 2998, 'gotta': 2999, 'strictli': 3000, 'meat': 3001, 'walker': 3002, 'coach': 3003, 'hamilton': 3004, 'pin': 3005, 'soprano': 3006, 'discoveri': 3007, 'closet': 3008, 'timeless': 3009, 'butcher': 3010, 'ninja': 3011, 'grasp': 3012, 'spooki': 3013, 'kudo': 3014, 'convolut': 3015, 'worthless': 3016, 'clock': 3017, 'joey': 3018, 'brosnan': 3019, 'instantli': 3020, 'empir': 3021, 'revers': 3022, 'cave': 3023, 'recreat': 3024, 'eccentr': 3025, 'struck': 3026, 'monk': 3027, 'sidekick': 3028, 'mitchel': 3029, 'wipe': 3030, 'selfish': 3031, 'partli': 3032, 'miracl': 3033, 'sloppi': 3034, 'evok': 3035, 'fifteen': 3036, 'pal': 3037, 'cliff': 3038, 'declar': 3039, 'seller': 3040, 'clown': 3041, 'importantli': 3042, 'eighti': 3043, 'norman': 3044, 'gray': 3045, 'inconsist': 3046, 'communist': 3047, 'bleak': 3048, 'chew': 3049, 'enthusiast': 3050, 'australia': 3051, 'psychiatrist': 3052, '45': 3053, 'farc': 3054, 'cheek': 3055, 'websit': 3056, 'superbl': 3057, 'aforement': 3058, 'flawless': 3059, 'seed': 3060, 'destin': 3061, 'ho': 3062, 'debat': 3063, 'piano': 3064, 'lifestyl': 3065, 'stoog': 3066, 'abc': 3067, 'directori': 3068, 'regardless': 3069, 'drivel': 3070, 'anni': 3071, 'kitchen': 3072, 'dash': 3073, 'splatter': 3074, 'wick': 3075, 'incompet': 3076, 'wrestl': 3077, 'dire': 3078, 'slice': 3079, 'emili': 3080, 'soviet': 3081, 'pressur': 3082, 'bash': 3083, 'akshay': 3084, 'judi': 3085, 'flower': 3086, 'glow': 3087, 'pleasantli': 3088, 'cameron': 3089, 'recov': 3090, 'increas': 3091, 'helicopt': 3092, 'boil': 3093, 'curios': 3094, 'seduc': 3095, 'cia': 3096, 'cagney': 3097, 'prize': 3098, 'duo': 3099, 'artifici': 3100, 'suppli': 3101, 'blob': 3102, 'dave': 3103, 'beaten': 3104, 'lou': 3105, 'ken': 3106, 'doo': 3107, 'distant': 3108, 'jar': 3109, 'chapter': 3110, 'mann': 3111, 'eleg': 3112, 'glenn': 3113, 'goldberg': 3114, 'ranger': 3115, 'hop': 3116, 'laurel': 3117, 'turner': 3118, 'web': 3119, 'combat': 3120, 'splendid': 3121, 'craven': 3122, 'ellen': 3123, 'francisco': 3124, 'panic': 3125, 'psychot': 3126, 'perri': 3127, 'favour': 3128, 'craig': 3129, 'drunken': 3130, 'philosophi': 3131, 'gentl': 3132, 'modesti': 3133, 'fx': 3134, 'alexand': 3135, 'hatr': 3136, 'min': 3137, 'ruth': 3138, 'rid': 3139, 'wizard': 3140, '20th': 3141, 'shortli': 3142, 'falk': 3143, 'slightest': 3144, 'flip': 3145, 'plausibl': 3146, 'greek': 3147, 'graduat': 3148, 'gandhi': 3149, 'jealou': 3150, 'we': 3151, 'holi': 3152, 'manhattan': 3153, 'knight': 3154, 'ocean': 3155, 'dracula': 3156, 'felix': 3157, 'futurist': 3158, 'unpleas': 3159, 'tall': 3160, 'fund': 3161, 'lend': 3162, 'harm': 3163, 'preciou': 3164, 'legal': 3165, 'overdon': 3166, 'giallo': 3167, 'tank': 3168, 'scientif': 3169, 'nod': 3170, 'mock': 3171, 'bless': 3172, 'childish': 3173, 'reviv': 3174, 'explicit': 3175, 'digniti': 3176, 'forbidden': 3177, 'thread': 3178, 'ami': 3179, 'fever': 3180, 'broad': 3181, '99': 3182, 'awe': 3183, '2004': 3184, 'thick': 3185, 'nerv': 3186, 'elderli': 3187, 'yesterday': 3188, 'verhoeven': 3189, 'awaken': 3190, 'eve': 3191, 'unwatch': 3192, 'margaret': 3193, 'pirat': 3194, 'repeatedli': 3195, 'torment': 3196, 'mel': 3197, 'launch': 3198, 'stiller': 3199, 'royal': 3200, 'eas': 3201, 'uniform': 3202, 'bin': 3203, 'politician': 3204, 'acclaim': 3205, 'lean': 3206, 'ambit': 3207, 'automat': 3208, 'roman': 3209, 'rivet': 3210, 'romero': 3211, 'ah': 3212, 'kay': 3213, 'griffith': 3214, 'publish': 3215, 'timothi': 3216, 'custom': 3217, 'absenc': 3218, 'tomato': 3219, 'phrase': 3220, 'homicid': 3221, 'gabriel': 3222, 'foul': 3223, 'warren': 3224, 'transport': 3225, 'bathroom': 3226, 'pierc': 3227, 'stinker': 3228, 'pulp': 3229, 'purpl': 3230, 'antic': 3231, 'sunshin': 3232, 'darker': 3233, 'termin': 3234, 'crook': 3235, 'wallac': 3236, 'horrid': 3237, 'pray': 3238, 'kenneth': 3239, 'li': 3240, '2003': 3241, 'evolv': 3242, 'contrari': 3243, 'packag': 3244, 'marin': 3245, 'hollow': 3246, 'sixti': 3247, 'album': 3248, 'karen': 3249, 'donna': 3250, 'rambo': 3251, 'choreographi': 3252, 'juvenil': 3253, 'viciou': 3254, 'awak': 3255, 'q': 3256, 'eyr': 3257, 'revolutionari': 3258, 'saint': 3259, 'coloni': 3260, 'brazil': 3261, 'ought': 3262, 'prom': 3263, 'dose': 3264, 'conserv': 3265, 'kapoor': 3266, 'blade': 3267, 'twelv': 3268, 'stole': 3269, 'beatti': 3270, 'defi': 3271, 'mummi': 3272, 'boast': 3273, 'candid': 3274, 'ireland': 3275, 'ramon': 3276, 'mildr': 3277, 'nerd': 3278, 'overr': 3279, 'option': 3280, 'collabor': 3281, 'trio': 3282, 'funer': 3283, 'detract': 3284, 'confirm': 3285, 'jazz': 3286, 'global': 3287, 'fulci': 3288, 'protest': 3289, 'altman': 3290, 'natali': 3291, 'flame': 3292, 'astonish': 3293, 'kirk': 3294, 'mystic': 3295, 'racial': 3296, 'blake': 3297, 'destini': 3298, 'bottl': 3299, 'yellow': 3300, 'delici': 3301, 'audio': 3302, 'tommi': 3303, 'spit': 3304, 'shade': 3305, 'leap': 3306, 'bull': 3307, 'whip': 3308, 'nicholson': 3309, 'enterpris': 3310, 'adolesc': 3311, 'pseudo': 3312, 'reunit': 3313, 'vivid': 3314, 'enchant': 3315, 'visibl': 3316, 'neo': 3317, 'staff': 3318, 'swedish': 3319, 'todd': 3320, 'popcorn': 3321, 'threw': 3322, 'meaningless': 3323, 'bedroom': 3324, 'harder': 3325, 'merci': 3326, 'altogeth': 3327, 'inherit': 3328, 'fonda': 3329, 'decor': 3330, 'uneven': 3331, 'moodi': 3332, 'fanat': 3333, 'bust': 3334, 'tip': 3335, 'lawrenc': 3336, 'atlanti': 3337, 'roommat': 3338, 'jew': 3339, 'crocodil': 3340, 'befriend': 3341, 'synopsi': 3342, 'ruthless': 3343, 'wire': 3344, 'voight': 3345, 'respond': 3346, 'exhibit': 3347, 'suspici': 3348, 'leonard': 3349, 'lemmon': 3350, 'reserv': 3351, 'await': 3352, 'madonna': 3353, 'kennedi': 3354, 'edi': 3355, 'ventur': 3356, 'dimens': 3357, 'chao': 3358, 'abysm': 3359, 'centr': 3360, 'voyag': 3361, 'incident': 3362, 'garner': 3363, 'rural': 3364, 'bargain': 3365, 'bradi': 3366, 'holli': 3367, 'carl': 3368, 'audit': 3369, 'clint': 3370, 'clumsi': 3371, 'palma': 3372, 'unsettl': 3373, 'bold': 3374, '2007': 3375, '2nd': 3376, 'immigr': 3377, 'acknowledg': 3378, 'cd': 3379, 'lit': 3380, 'poetic': 3381, 'wealth': 3382, 'versu': 3383, 'humili': 3384, 'imperson': 3385, 'tiger': 3386, 'timon': 3387, 'troop': 3388, 'neglect': 3389, 'trail': 3390, 'daddi': 3391, 'echo': 3392, 'ant': 3393, 'mall': 3394, 'cuba': 3395, 'cari': 3396, 'hart': 3397, 'elimin': 3398, 'characterist': 3399, 'nearbi': 3400, 'celluloid': 3401, 'jeffrey': 3402, 'collaps': 3403, 'prejudic': 3404, 'infect': 3405, 'pun': 3406, 'repuls': 3407, 'mistaken': 3408, 'domest': 3409, 'solo': 3410, 'mickey': 3411, 'paus': 3412, 'marshal': 3413, 'saga': 3414, 'homer': 3415, 'inan': 3416, 'pant': 3417, 'equip': 3418, 'promin': 3419, 'leon': 3420, 'interrupt': 3421, 'cake': 3422, '1996': 3423, 'gear': 3424, 'coffe': 3425, 'ginger': 3426, 'chest': 3427, 'apolog': 3428, 'coat': 3429, 'sore': 3430, 'tribe': 3431, 'undoubtedli': 3432, 'inappropri': 3433, 'milk': 3434, 'hbo': 3435, 'assembl': 3436, 'harvey': 3437, 'olivi': 3438, 'vulgar': 3439, 'jenni': 3440, 'furthermor': 3441, 'colonel': 3442, 'humbl': 3443, 'primari': 3444, 'consum': 3445, 'embrac': 3446, 'solut': 3447, 'airplan': 3448, 'trace': 3449, 'pen': 3450, 'aveng': 3451, 'maggi': 3452, 'exot': 3453, 'highest': 3454, 'florida': 3455, 'devast': 3456, 'brooklyn': 3457, 'polanski': 3458, 'retain': 3459, 'pot': 3460, 'instant': 3461, 'colleagu': 3462, 'institut': 3463, 'outer': 3464, 'bowl': 3465, 'poke': 3466, '1999': 3467, 'gender': 3468, 'cope': 3469, 'principl': 3470, 'smaller': 3471, '3rd': 3472, 'strain': 3473, 'dutch': 3474, 'dian': 3475, 'linda': 3476, 'illog': 3477, 'descend': 3478, 'seduct': 3479, 'godzilla': 3480, 'disabl': 3481, 'sale': 3482, 'wive': 3483, 'rick': 3484, 'ya': 3485, 'yard': 3486, 'inferior': 3487, 'blatant': 3488, 'secondli': 3489, 'vast': 3490, 'dive': 3491, 'bubbl': 3492, 'gloriou': 3493, 'devoid': 3494, 'predecessor': 3495, 'lol': 3496, 'mixtur': 3497, 'cue': 3498, 'scope': 3499, 'glamor': 3500, 'primarili': 3501, 'gundam': 3502, 'hal': 3503, 'dud': 3504, 'beneath': 3505, 'rabbit': 3506, 'shirley': 3507, 'disjoint': 3508, 'arab': 3509, 'simplist': 3510, 'myer': 3511, 'z': 3512, 'april': 3513, 'countrysid': 3514, 'hideou': 3515, 'pearl': 3516, 'shelf': 3517, 'grinch': 3518, 'museum': 3519, 'aggress': 3520, 'et': 3521, 'breed': 3522, 'talki': 3523, 'trademark': 3524, 'streep': 3525, 'senseless': 3526, 'alfr': 3527, 'casual': 3528, 'invas': 3529, 'alert': 3530, 'garbo': 3531, 'domino': 3532, 'maci': 3533, 'stellar': 3534, 'illeg': 3535, 'hardcor': 3536, 'sh': 3537, 'slide': 3538, 'mail': 3539, 'obtain': 3540, 'robinson': 3541, 'boom': 3542, 'disgrac': 3543, 'rendit': 3544, 'loyal': 3545, 'defens': 3546, 'unhappi': 3547, 'robberi': 3548, 'stir': 3549, 'applaud': 3550, 'acid': 3551, 'hopeless': 3552, 'mayor': 3553, 'experiment': 3554, 'vanish': 3555, 'oz': 3556, 'khan': 3557, 'uwe': 3558, 'stack': 3559, 'recruit': 3560, 'declin': 3561, 'spider': 3562, 'grandfath': 3563, 'emphasi': 3564, 'rifl': 3565, 'blew': 3566, 'amanda': 3567, 'counter': 3568, 'dismiss': 3569, 'incomprehens': 3570, 'tempt': 3571, 'soccer': 3572, 'topless': 3573, 'dicken': 3574, 'tenant': 3575, 'span': 3576, 'wont': 3577, 'scroog': 3578, 'diana': 3579, 'berlin': 3580, 'craze': 3581, 'hartley': 3582, 'psychic': 3583, 'fri': 3584, 'shaw': 3585, 'sibl': 3586, 'goer': 3587, 'intim': 3588, 'bitch': 3589, 'faster': 3590, 'riot': 3591, 'trashi': 3592, 'ration': 3593, 'resurrect': 3594, 'woo': 3595, 'wet': 3596, 'shed': 3597, 'parad': 3598, 'sympath': 3599, 'niro': 3600, 'revolt': 3601, 'porno': 3602, 'ethnic': 3603, 'lumet': 3604, 'justin': 3605, 'andr': 3606, 'biographi': 3607, 'ensur': 3608, 'immort': 3609, 'steam': 3610, 'farmer': 3611, 'honesti': 3612, 'enlighten': 3613, 'patriot': 3614, 'wheel': 3615, '00': 3616, 'gap': 3617, 'ballet': 3618, 'partial': 3619, 'unreal': 3620, 'lena': 3621, 'hopper': 3622, 'commend': 3623, 'jonathan': 3624, 'feminist': 3625, 'slick': 3626, 'hesit': 3627, 'region': 3628, 'dealer': 3629, 'wendi': 3630, 'weakest': 3631, 'nephew': 3632, 'eager': 3633, 'rider': 3634, 'mario': 3635, 'choru': 3636, 'worm': 3637, 'repress': 3638, 'vice': 3639, 'nostalg': 3640, 'composit': 3641, 'kingdom': 3642, 'leo': 3643, 'similarli': 3644, 'psychopath': 3645, 'skull': 3646, 'blunt': 3647, 'wore': 3648, 'prequel': 3649, 'snap': 3650, 'safeti': 3651, 'sappi': 3652, 'util': 3653, 'mutant': 3654, 'charlott': 3655, 'confin': 3656, 'sandra': 3657, 'properti': 3658, 'hung': 3659, 'victori': 3660, 'morri': 3661, 'owen': 3662, 'franco': 3663, 'macarthur': 3664, 'recycl': 3665, 'exit': 3666, 'farrel': 3667, 'tad': 3668, 'rope': 3669, 'del': 3670, '1972': 3671, 'valuabl': 3672, 'heartbreak': 3673, 'pattern': 3674, 'drum': 3675, 'nervou': 3676, 'thru': 3677, 'montana': 3678, 'bonu': 3679, 'rambl': 3680, 'repli': 3681, 'bumbl': 3682, 'bergman': 3683, 'snl': 3684, 'tail': 3685, 'deed': 3686, 'dust': 3687, 'acquir': 3688, 'emperor': 3689, 'drain': 3690, 'rocki': 3691, 'strand': 3692, 'compass': 3693, 'latin': 3694, 'dalton': 3695, 'speci': 3696, 'despair': 3697, 'bow': 3698, 'whoopi': 3699, 'cg': 3700, 'compens': 3701, 'campbel': 3702, 'miseri': 3703, 'kyle': 3704, 'hyde': 3705, 'romp': 3706, 'mistress': 3707, 'downhil': 3708, 'chess': 3709, 'da': 3710, 'gimmick': 3711, 'martian': 3712, 'airport': 3713, 'bleed': 3714, 'rotten': 3715, 'wacki': 3716, 'gal': 3717, 'tonight': 3718, 'orson': 3719, 'radic': 3720, 'slug': 3721, 'carradin': 3722, 'oppress': 3723, 'percept': 3724, 'pour': 3725, 'roth': 3726, 'contempl': 3727, '35': 3728, 'olli': 3729, 'rapist': 3730, 'slash': 3731, 'tackl': 3732, 'champion': 3733, 'attorney': 3734, 'edgar': 3735, 'taught': 3736, 'programm': 3737, 'paltrow': 3738, 'unpredict': 3739, 'mislead': 3740, 'dazzl': 3741, 'stilt': 3742, 'tooth': 3743, '1983': 3744, 'pervers': 3745, 'arguabl': 3746, 'banal': 3747, 'heal': 3748, 'belt': 3749, 'pursuit': 3750, 'pervert': 3751, 'shelley': 3752, 'preach': 3753, 'melodi': 3754, 'arc': 3755, 'mesmer': 3756, 'graham': 3757, 'orang': 3758, 'virginia': 3759, 'chicken': 3760, 'sensat': 3761, 'passeng': 3762, 'marti': 3763, 'conneri': 3764, 'closest': 3765, 'bela': 3766, 'raymond': 3767, 'vocal': 3768, 'poem': 3769, 'rubi': 3770, 'tiresom': 3771, 'cleverli': 3772, 'dixon': 3773, 'uplift': 3774, 'gambl': 3775, 'duval': 3776, 'employe': 3777, 'maid': 3778, 'plight': 3779, 'franki': 3780, 'vengeanc': 3781, 'lundgren': 3782, 'volum': 3783, 'tube': 3784, 'convincingli': 3785, 'clone': 3786, '1968': 3787, 'yawn': 3788, 'amitabh': 3789, 'abraham': 3790, 'profan': 3791, 'climact': 3792, 'secretli': 3793, 'inject': 3794, 'gerard': 3795, 'scottish': 3796, 'calm': 3797, 'outing': 3798, 'quarter': 3799, 'numb': 3800, 'habit': 3801, 'mute': 3802, 'suffic': 3803, 'paranoia': 3804, 'giggl': 3805, 'iran': 3806, 'sirk': 3807, 'pokemon': 3808, 'monologu': 3809, 'swallow': 3810, 'bay': 3811, 'crystal': 3812, 'extens': 3813, 'engross': 3814, 'whine': 3815, 'frankenstein': 3816, 'poetri': 3817, 'bend': 3818, 'backward': 3819, 'ethan': 3820, 'junior': 3821, 'richardson': 3822, 'nichola': 3823, 'profess': 3824, 'chicago': 3825, 'franci': 3826, 'taxi': 3827, 'austen': 3828, 'trend': 3829, 'im': 3830, 'dispos': 3831, 'expand': 3832, 'septemb': 3833, 'lowest': 3834, 'linger': 3835, 'underst': 3836, 'grotesqu': 3837, 'abort': 3838, 'fed': 3839, 'meander': 3840, 'surpass': 3841, 'plod': 3842, 'earl': 3843, 'spock': 3844, 'mundan': 3845, 'descent': 3846, 'myth': 3847, 'spoke': 3848, 'greedi': 3849, 'rubber': 3850, 'simplic': 3851, 'der': 3852, 'instrument': 3853, 'muddl': 3854, 'compliment': 3855, 'tourist': 3856, 'literatur': 3857, 'nostalgia': 3858, 'waitress': 3859, 'hum': 3860, 'household': 3861, 'econom': 3862, 'dysfunct': 3863, 'catchi': 3864, 'rant': 3865, 'sue': 3866, 'lure': 3867, 'cannon': 3868, 'eugen': 3869, 'stallon': 3870, 'furi': 3871, 'louis': 3872, 'recognis': 3873, 'hello': 3874, 'alongsid': 3875, 'equival': 3876, 'recognit': 3877, 'mankind': 3878, 'phoni': 3879, 'duck': 3880, 'june': 3881, 'lang': 3882, 'damon': 3883, 'firstli': 3884, 'dement': 3885, 'deaf': 3886, 'eaten': 3887, 'insur': 3888, 'phantom': 3889, 'coast': 3890, 'cent': 3891, 'irrelev': 3892, 'crucial': 3893, 'molli': 3894, 'sissi': 3895, 'flee': 3896, 'mortal': 3897, 'occupi': 3898, 'dictat': 3899, 'bacal': 3900, 'stale': 3901, 'randi': 3902, 'carel': 3903, 'map': 3904, 'omen': 3905, 'twilight': 3906, '1973': 3907, 'distinguish': 3908, 'blackmail': 3909, 'newli': 3910, 'loyalti': 3911, 'bike': 3912, 'likewis': 3913, 'antwon': 3914, 'freez': 3915, 'drake': 3916, 'lengthi': 3917, 'onlin': 3918, 'wisdom': 3919, 'dreari': 3920, 'cyborg': 3921, 'daisi': 3922, 'reign': 3923, 'rude': 3924, 'damm': 3925, 'ashley': 3926, 'bump': 3927, 'grayson': 3928, 'rooney': 3929, 'heel': 3930, 'labor': 3931, 'biko': 3932, 'buffalo': 3933, 'barrymor': 3934, 'exposur': 3935, 'interior': 3936, 'unorigin': 3937, 'pink': 3938, 'keith': 3939, 'boxer': 3940, 'butler': 3941, 'nineti': 3942, 'provoc': 3943, 'prey': 3944, 'chronicl': 3945, 'baddi': 3946, 'worn': 3947, 'ridden': 3948, 'incorpor': 3949, 'emphas': 3950, 'analysi': 3951, 'startl': 3952, 'approv': 3953, 'proce': 3954, 'inher': 3955, 'basketbal': 3956, 'tunnel': 3957, 'sailor': 3958, 'vein': 3959, 'attribut': 3960, 'nicol': 3961, 'hypnot': 3962, 'predat': 3963, 'unrel': 3964, 'undeni': 3965, 'robbin': 3966, 'othello': 3967, 'improvis': 3968, 'mighti': 3969, 'substitut': 3970, 'julian': 3971, 'fleet': 3972, 'stalker': 3973, 'barrel': 3974, 'elm': 3975, 'condemn': 3976, 'drift': 3977, 'indiffer': 3978, 'meg': 3979, 'walsh': 3980, 'er': 3981, 'degrad': 3982, 'simmon': 3983, 'meyer': 3984, 'millionair': 3985, 'bunni': 3986, 'underli': 3987, 'belushi': 3988, 'mormon': 3989, 'carla': 3990, 'dolph': 3991, 'hay': 3992, 'warmth': 3993, 'watson': 3994, 'agenda': 3995, 'greed': 3996, 'rukh': 3997, 'priceless': 3998, 'errol': 3999, 'roof': 4000, 'nyc': 4001, 'palac': 4002, 'edgi': 4003, 'alarm': 4004, 'exquisit': 4005, 'unawar': 4006, 'enthusiasm': 4007, 'disord': 4008, 'marion': 4009, 'firm': 4010, 'reid': 4011, 'lampoon': 4012, 'shove': 4013, 'novak': 4014, 'alison': 4015, 'mtv': 4016, 'vital': 4017, '3d': 4018, 'gestur': 4019, 'drip': 4020, 'minimum': 4021, 'iraq': 4022, 'profit': 4023, 'showdown': 4024, 'ponder': 4025, 'session': 4026, 'thompson': 4027, 'eastern': 4028, 'preserv': 4029, 'cassidi': 4030, 'championship': 4031, '1933': 4032, 'petti': 4033, '13th': 4034, 'peril': 4035, 'peck': 4036, 'israel': 4037, 'beatl': 4038, 'orlean': 4039, 'distort': 4040, 'pamela': 4041, 'angela': 4042, 'spain': 4043, 'crown': 4044, 'testament': 4045, 'randomli': 4046, 'simultan': 4047, 'sergeant': 4048, 'unleash': 4049, 'campaign': 4050, 'coup': 4051, 'valentin': 4052, 'nun': 4053, 'what': 4054, 'glanc': 4055, 'zizek': 4056, 'shootout': 4057, 'scotland': 4058, 'crow': 4059, 'brenda': 4060, 'restrain': 4061, 'crawl': 4062, 'climat': 4063, 'reson': 4064, 'contradict': 4065, 'gentleman': 4066, 'calib': 4067, 'stroke': 4068, 'cream': 4069, 'stake': 4070, 'bro': 4071, 'mon': 4072, 'empathi': 4073, 'fido': 4074, 'valley': 4075, 'travesti': 4076, 'han': 4077, 'buster': 4078, '1984': 4079, 'realm': 4080, 'kurosawa': 4081, 'quinn': 4082, 'jan': 4083, 'regist': 4084, 'represent': 4085, 'rout': 4086, 'wig': 4087, 'cooki': 4088, 'perpetu': 4089, 'exposit': 4090, 'unimagin': 4091, 'miyazaki': 4092, 'sabrina': 4093, 'din': 4094, 'greg': 4095, 'mclaglen': 4096, 'censor': 4097, 'sucker': 4098, 'absent': 4099, 'shaki': 4100, 'warrant': 4101, 'pretens': 4102, 'derang': 4103, 'shoddi': 4104, 'ross': 4105, 'demis': 4106, 'tacki': 4107, 'abomin': 4108, 'sammi': 4109, 'painter': 4110, '1987': 4111, 'crawford': 4112, 'unsatisfi': 4113, 'ustinov': 4114, 'delic': 4115, 'businessman': 4116, 'passabl': 4117, 'monoton': 4118, 'femm': 4119, 'geek': 4120, 'stargat': 4121, 'baldwin': 4122, 'meryl': 4123, 'cloud': 4124, 'traumat': 4125, 'spacey': 4126, 'wax': 4127, 'distress': 4128, 'soderbergh': 4129, 'unseen': 4130, 'josh': 4131, 'dana': 4132, 'perceiv': 4133, 'darren': 4134, '1997': 4135, 'compromis': 4136, 'fuller': 4137, 'pole': 4138, 'seal': 4139, 'furiou': 4140, 'accuraci': 4141, 'judgment': 4142, 'polici': 4143, 'fenc': 4144, 'tarantino': 4145, 'jewel': 4146, '1993': 4147, 'tech': 4148, 'reluct': 4149, 'expedit': 4150, 'valid': 4151, 'verbal': 4152, 'austin': 4153, 'clash': 4154, 'unravel': 4155, 'fog': 4156, 'correctli': 4157, 'deceas': 4158, 'primit': 4159, 'click': 4160, 'dee': 4161, 'wholli': 4162, 'deniro': 4163, 'uncov': 4164, 'sid': 4165, 'exclus': 4166, 'norm': 4167, 'nathan': 4168, 'kumar': 4169, 'antonioni': 4170, 'anchor': 4171, '3000': 4172, 'darn': 4173, 'wang': 4174, 'sheet': 4175, 'sustain': 4176, '1995': 4177, 'roller': 4178, 'patienc': 4179, 'sunni': 4180, 'crippl': 4181, 'clerk': 4182, 'slam': 4183, 'temper': 4184, 'debt': 4185, 'enforc': 4186, 'fought': 4187, 'dreck': 4188, 'conduct': 4189, 'fart': 4190, 'seldom': 4191, 'murray': 4192, 'joel': 4193, 'hallucin': 4194, 'bake': 4195, '2008': 4196, 'alec': 4197, 'wretch': 4198, 'sand': 4199, 'mode': 4200, '1971': 4201, 'behold': 4202, 'unfair': 4203, 'malon': 4204, 'fabric': 4205, 'tax': 4206, 'ritual': 4207, 'vanc': 4208, 'logan': 4209, 'shanghai': 4210, 'nicola': 4211, 'pocket': 4212, 'trait': 4213, 'divid': 4214, 'conscious': 4215, 'guitar': 4216, 'stuart': 4217, 'sweep': 4218, 'soup': 4219, 'phil': 4220, 'robber': 4221, 'exhaust': 4222, 'pete': 4223, 'fundament': 4224, 'schedul': 4225, 'shell': 4226, 'clau': 4227, 'runner': 4228, 'despis': 4229, 'tactic': 4230, 'bias': 4231, 'preston': 4232, 'grief': 4233, 'helpless': 4234, 'technicolor': 4235, 'squad': 4236, 'preposter': 4237, 'outlin': 4238, 'rita': 4239, 'legaci': 4240, 'bridget': 4241, 'critiqu': 4242, 'stark': 4243, 'penni': 4244, 'scriptwrit': 4245, 'isabel': 4246, 'canyon': 4247, 'alicia': 4248, 'invad': 4249, 'agenc': 4250, 'delv': 4251, 'connor': 4252, 'cigarett': 4253, 'sentinel': 4254, 'propos': 4255, 'lacklust': 4256, 'sugar': 4257, 'sniper': 4258, 'gregori': 4259, 'passag': 4260, 'jodi': 4261, 'palanc': 4262, 'boyl': 4263, 'jacket': 4264, 'marc': 4265, 'flair': 4266, 'rehash': 4267, 'restrict': 4268, 'culmin': 4269, 'rear': 4270, 'consciou': 4271, 'inabl': 4272, 'unexpectedli': 4273, 'kansa': 4274, 'newman': 4275, 'alley': 4276, 'vomit': 4277, 'downey': 4278, 'drove': 4279, 'liberti': 4280, 'bloom': 4281, 'implic': 4282, 'russia': 4283, 'arrow': 4284, 'wrench': 4285, 'tripe': 4286, 'pale': 4287, 'behaviour': 4288, '1936': 4289, 'rampag': 4290, 'rehears': 4291, 'cap': 4292, 'chainsaw': 4293, 'bacon': 4294, 'aesthet': 4295, 'sharon': 4296, 'asylum': 4297, '22': 4298, 'yeti': 4299, 'horn': 4300, 'ladder': 4301, 'tendenc': 4302, 'awhil': 4303, 'feat': 4304, 'delet': 4305, 'kolchak': 4306, 'lush': 4307, 'rod': 4308, 'mccoy': 4309, 'vet': 4310, 'improb': 4311, 'karl': 4312, 'foxx': 4313, 'conscienc': 4314, 'minu': 4315, 'hackney': 4316, 'tasteless': 4317, 'suffici': 4318, 'paramount': 4319, 'tomorrow': 4320, 'hungri': 4321, '1988': 4322, '1920': 4323, 'basing': 4324, 'coaster': 4325, 'weav': 4326, 'financ': 4327, 'globe': 4328, 'rhythm': 4329, 'newcom': 4330, 'spice': 4331, 'fright': 4332, 'scoop': 4333, 'rumor': 4334, '19th': 4335, 'wagner': 4336, 'loneli': 4337, 'hulk': 4338, 'wildli': 4339, 'shortcom': 4340, 'lurk': 4341, 'prank': 4342, 'suspicion': 4343, 'amazon': 4344, 'stream': 4345, 'sung': 4346, 'visitor': 4347, 'elit': 4348, 'paradis': 4349, 'thunderbird': 4350, 'underneath': 4351, 'filler': 4352, 'aristocrat': 4353, '1978': 4354, 'el': 4355, 'choppi': 4356, 'paxton': 4357, 'atroc': 4358, 'ingeni': 4359, 'ram': 4360, 'worship': 4361, 'teas': 4362, '1989': 4363, 'recogniz': 4364, '75': 4365, 'entranc': 4366, 'quietli': 4367, '1939': 4368, 'heist': 4369, 'cancer': 4370, 'bread': 4371, 'leigh': 4372, 'rub': 4373, 'counterpart': 4374, 'dirt': 4375, 'minist': 4376, 'wwe': 4377, 'smell': 4378, 'inmat': 4379, 'immers': 4380, 'brit': 4381, 'secondari': 4382, 'literari': 4383, 'grudg': 4384, 'naughti': 4385, 'abrupt': 4386, 'beverli': 4387, 'straightforward': 4388, 'impos': 4389, 'tierney': 4390, 'iv': 4391, 'posey': 4392, 'lectur': 4393, 'curli': 4394, 'couch': 4395, 'standout': 4396, 'springer': 4397, 'hopkin': 4398, 'en': 4399, 'chavez': 4400, 'chamberlain': 4401, 'penn': 4402, 'convert': 4403, '1986': 4404, 'morbid': 4405, 'ace': 4406, 'sublim': 4407, 'clan': 4408, 'net': 4409, 'heartfelt': 4410, 'injuri': 4411, 'lindsay': 4412, 'missil': 4413, 'esther': 4414, 'laurenc': 4415, 'yearn': 4416, 'policeman': 4417, 'attenborough': 4418, 'entitl': 4419, 'misguid': 4420, 'variat': 4421, 'sassi': 4422, 'enthral': 4423, 'bernard': 4424, 'ratso': 4425, 'nemesi': 4426, 'skeptic': 4427, 'moreov': 4428, 'quaid': 4429, 'cattl': 4430, 'watcher': 4431, 'duel': 4432, 'geni': 4433, 'nolan': 4434, 'transcend': 4435, 'diari': 4436, 'hopelessli': 4437, 'rosemari': 4438, 'brood': 4439, 'kitti': 4440, 'youngest': 4441, 'facil': 4442, 'bean': 4443, 'moder': 4444, 'egg': 4445, 'obstacl': 4446, 'poe': 4447, 'unexplain': 4448, 'dont': 4449, 'bye': 4450, 'vader': 4451, 'steadi': 4452, 'grin': 4453, 'enabl': 4454, 'carlito': 4455, 'cruelti': 4456, 'buzz': 4457, 'hk': 4458, 'mytholog': 4459, 'spiral': 4460, '1979': 4461, 'uncut': 4462, 'setup': 4463, 'kidman': 4464, 'out': 4465, 'artsi': 4466, 'tyler': 4467, 'graini': 4468, 'characteris': 4469, 'reliabl': 4470, 'puppi': 4471, 'bewar': 4472, 'effici': 4473, '1969': 4474, 'patricia': 4475, 'oblig': 4476, 'athlet': 4477, 'disastr': 4478, 'acquaint': 4479, 'underworld': 4480, 'fuel': 4481, 'despic': 4482, 'gillian': 4483, 'christin': 4484, 'heap': 4485, 'sweat': 4486, 'gina': 4487, 'martha': 4488, 'narrow': 4489, 'decept': 4490, 'clueless': 4491, 'bounc': 4492, 'weather': 4493, 'spontan': 4494, 'exterior': 4495, 'kline': 4496, 'baffl': 4497, 'brendan': 4498, 'hammi': 4499, 'bronson': 4500, 'niec': 4501, 'preming': 4502, 'hain': 4503, 'loi': 4504, 'rome': 4505, 'tick': 4506, 'shatter': 4507, 'dilemma': 4508, 'enlist': 4509, 'mermaid': 4510, 'goof': 4511, 'circu': 4512, 'insipid': 4513, 'sleepwalk': 4514, 'sooner': 4515, 'analyz': 4516, 'injur': 4517, '19': 4518, 'scar': 4519, 'angst': 4520, 'dandi': 4521, 'mayhem': 4522, 'loath': 4523, 'astound': 4524, 'suprem': 4525, 'trigger': 4526, 'harmless': 4527, 'uh': 4528, 'preachi': 4529, 'virtu': 4530, 'viewpoint': 4531, 'lester': 4532, 'candl': 4533, 'hepburn': 4534, 'headach': 4535, 'housewif': 4536, 'taboo': 4537, 'renaiss': 4538, 'fontain': 4539, 'outlaw': 4540, '73': 4541, 'biker': 4542, 'contempt': 4543, 'filth': 4544, 'camcord': 4545, 'sox': 4546, 'immatur': 4547, 'surgeri': 4548, 'boston': 4549, 'ebert': 4550, 'corbett': 4551, 'slimi': 4552, 'dish': 4553, 'hostag': 4554, 'redund': 4555, 'macho': 4556, 'bent': 4557, 'dismal': 4558, 'phenomenon': 4559, 'glorifi': 4560, 'stimul': 4561, 'fluff': 4562, 'idol': 4563, 'gere': 4564, 'stair': 4565, 'zoom': 4566, 'intric': 4567, 'overlong': 4568, 'foolish': 4569, 'amor': 4570, 'oldest': 4571, 'tripl': 4572, 'scorses': 4573, 'hokey': 4574, 'steer': 4575, 'hooker': 4576, 'salt': 4577, 'cassavet': 4578, 'whore': 4579, 'spade': 4580, 'claustrophob': 4581, 'ariel': 4582, 'guin': 4583, 'keen': 4584, 'obligatori': 4585, 'muscl': 4586, 'spree': 4587, 'trivia': 4588, 'nolt': 4589, 'faint': 4590, 'cow': 4591, 'frantic': 4592, 'perman': 4593, 'beard': 4594, 'proport': 4595, 'zane': 4596, 'cohen': 4597, 'flag': 4598, 'spinal': 4599, 'harold': 4600, '1976': 4601, 'assert': 4602, 'antagonist': 4603, 'transplant': 4604, 'dwarf': 4605, 'corman': 4606, 'flashi': 4607, 'gasp': 4608, 'widescreen': 4609, 'preced': 4610, 'mount': 4611, 'remad': 4612, 'radiat': 4613, 'strongest': 4614, 'margin': 4615, 'cush': 4616, 'shred': 4617, 'fascist': 4618, 'naschi': 4619, '1981': 4620, 'conquer': 4621, 'alvin': 4622, 'mutual': 4623, 'astronaut': 4624, 'shield': 4625, 'messi': 4626, 'down': 4627, 'rhyme': 4628, 'schlock': 4629, 'joker': 4630, 'flirt': 4631, 'gabl': 4632, 'triangl': 4633, 'claud': 4634, 'deer': 4635, 'repris': 4636, 'wield': 4637, '1945': 4638, 'mobil': 4639, 'sensual': 4640, 'fishburn': 4641, 'interestingli': 4642, 'bachelor': 4643, 'persuad': 4644, 'info': 4645, 'brush': 4646, 'neurot': 4647, 'off': 4648, 'bitten': 4649, 'someday': 4650, 'raj': 4651, 'archiv': 4652, 'vaniti': 4653, 'carey': 4654, 'ritchi': 4655, 'barn': 4656, 'inflict': 4657, 'scandal': 4658, 'discern': 4659, 'boob': 4660, 'flock': 4661, 'strive': 4662, 'instruct': 4663, 'www': 4664, '28': 4665, 'divin': 4666, 'departur': 4667, 'resum': 4668, '95': 4669, 'aborigin': 4670, 'mol': 4671, 'danish': 4672, 'hara': 4673, 'rot': 4674, 'parson': 4675, 'carlo': 4676, 'colin': 4677, 'anton': 4678, 'miracul': 4679, 'wendigo': 4680, 'earnest': 4681, 'recit': 4682, 'ish': 4683, 'artwork': 4684, 'europa': 4685, 'biblic': 4686, 'kathryn': 4687, 'heartwarm': 4688, 'dame': 4689, 'fragil': 4690, 'vibrant': 4691, 'harrison': 4692, 'mobster': 4693, 'undermin': 4694, 'hapless': 4695, 'prophet': 4696, 'clad': 4697, 'proclaim': 4698, 'frontier': 4699, 'pacif': 4700, 'dim': 4701, 'casino': 4702, 'loretta': 4703, 'luka': 4704, 'cycl': 4705, 'helm': 4706, 'bate': 4707, 'cb': 4708, 'neill': 4709, 'melissa': 4710, 'hug': 4711, 'axe': 4712, 'traffic': 4713, 'cher': 4714, 'senior': 4715, 'submit': 4716, 'pixar': 4717, 'pickford': 4718, 'banter': 4719, 'timberlak': 4720, 'cliffhang': 4721, 'hilar': 4722, 'jade': 4723, 'dylan': 4724, 'misfortun': 4725, 'sicken': 4726, 'flavor': 4727, 'static': 4728, 'eli': 4729, 'electron': 4730, 'pc': 4731, 'http': 4732, 'illus': 4733, 'articl': 4734, 'breakfast': 4735, 'uma': 4736, 'choke': 4737, 'lui': 4738, 'holocaust': 4739, 'legitim': 4740, 'foil': 4741, 'rooki': 4742, 'northern': 4743, 'razor': 4744, 'token': 4745, 'mason': 4746, 'antholog': 4747, 'feast': 4748, 'toronto': 4749, 'vanessa': 4750, 'aris': 4751, 'redneck': 4752, 'estrang': 4753, 'vile': 4754, 'jo': 4755, 'seedi': 4756, 'lucil': 4757, 'wardrob': 4758, 'jordan': 4759, 'alexandr': 4760, 'orphan': 4761, 'nope': 4762, 'marlon': 4763, 'bondag': 4764, 'shepherd': 4765, 'akin': 4766, 'bikini': 4767, 'mathieu': 4768, 'cerebr': 4769, 'venom': 4770, 'isra': 4771, 'blatantli': 4772, 'winchest': 4773, 'trier': 4774, 'milo': 4775, 'swept': 4776, 'ideolog': 4777, 'highway': 4778, 'howl': 4779, 'retriev': 4780, 'frog': 4781, 'shorter': 4782, 'knightley': 4783, 'oppon': 4784, 'magician': 4785, 'ceremoni': 4786, 'comprehend': 4787, 'nightclub': 4788, 'psych': 4789, 'abund': 4790, 'tack': 4791, 'fifth': 4792, 'linear': 4793, 'glare': 4794, 'turd': 4795, 'clinic': 4796, 'leather': 4797, 'disregard': 4798, 'audrey': 4799, 'boyer': 4800, 'smack': 4801, 'huston': 4802, 'cartoonish': 4803, 'peer': 4804, 'gilbert': 4805, 'deem': 4806, 'dudley': 4807, 'wrestler': 4808, 'feminin': 4809, 'styliz': 4810, 'outdat': 4811, 'charlton': 4812, 'gunga': 4813, 'affleck': 4814, 'toe': 4815, 'monument': 4816, 'goldsworthi': 4817, 'compris': 4818, 'uniformli': 4819, 'senat': 4820, 'plate': 4821, 'cemeteri': 4822, 'newer': 4823, 'chip': 4824, 'cuban': 4825, 'tara': 4826, 'btw': 4827, 'greet': 4828, 'whack': 4829, 'breakdown': 4830, 'einstein': 4831, 'durat': 4832, 'lifeless': 4833, 'corn': 4834, 'spawn': 4835, 'evolut': 4836, 'lavish': 4837, 'spine': 4838, 'bogu': 4839, 'salman': 4840, 'bastard': 4841, 'collector': 4842, 'boo': 4843, '4th': 4844, 'sleaz': 4845, 'summar': 4846, 'conrad': 4847, '1994': 4848, 'client': 4849, 'phenomen': 4850, '1991': 4851, 'lighter': 4852, 'deliver': 4853, 'energet': 4854, 'potter': 4855, 'braveheart': 4856, 'mitch': 4857, 'moe': 4858, 'snatch': 4859, 'healthi': 4860, 'cecil': 4861, 'luxuri': 4862, 'evelyn': 4863, 'ol': 4864, 'belli': 4865, 'alleg': 4866, 'eleven': 4867, 'kent': 4868, 'armstrong': 4869, 'jule': 4870, 'jam': 4871, 'bulk': 4872, 'appl': 4873, 'bori': 4874, 'trauma': 4875, 'sorrow': 4876, 'randolph': 4877, 'ie': 4878, 'lex': 4879, 'nina': 4880, 'kazan': 4881, 'replay': 4882, 'undead': 4883, 'jedi': 4884, 'spectacl': 4885, 'firmli': 4886, '1977': 4887, 'pronounc': 4888, 'fluid': 4889, 'wtf': 4890, 'outright': 4891, 'creek': 4892, 'inaccuraci': 4893, 'jare': 4894, 'occup': 4895, 'undertak': 4896, 'capot': 4897, 'liu': 4898, '1974': 4899, 'embark': 4900, 'neatli': 4901, 'signal': 4902, 'judd': 4903, 'historian': 4904, 'constitut': 4905, 'clara': 4906, 'mcqueen': 4907, 'gilliam': 4908, 'subtli': 4909, 'curtain': 4910, 'comb': 4911, 'cape': 4912, 'galaxi': 4913, 'knee': 4914, 'miami': 4915, 'genet': 4916, 'abound': 4917, '1985': 4918, 'unattract': 4919, 'aussi': 4920, 'carmen': 4921, 'pepper': 4922, 'vain': 4923, 'goldblum': 4924, 'meal': 4925, 'truman': 4926, 'inaccur': 4927, 'mum': 4928, 'inclus': 4929, 'tokyo': 4930, 'forgiven': 4931, 'relentless': 4932, 'antonio': 4933, 'decapit': 4934, 'lanc': 4935, 'roar': 4936, 'sacrif': 4937, 'pioneer': 4938, 'kiddi': 4939, 'rosario': 4940, 'blur': 4941, 'vignett': 4942, 'poker': 4943, 'groan': 4944, 'porter': 4945, 'conan': 4946, 'comprehens': 4947, 'paula': 4948, 'lauren': 4949, 'walt': 4950, 'propheci': 4951, 'fruit': 4952, 'ash': 4953, 'spray': 4954, 'palm': 4955, 'bait': 4956, 'congratul': 4957, 'basket': 4958, 'unsuspect': 4959, 'id': 4960, 'bsg': 4961, 'miniseri': 4962, 'sidewalk': 4963, 'epitom': 4964, 'handicap': 4965, 'drone': 4966, 'victorian': 4967, 'macabr': 4968, 'omin': 4969, 'sparkl': 4970, 'spill': 4971, 'turtl': 4972, 'verg': 4973, 'profil': 4974, '21st': 4975, 'hackman': 4976, 'masterson': 4977, 'bravo': 4978, 'jill': 4979, 'motorcycl': 4980, 'detach': 4981, 'modest': 4982, 'weari': 4983, 'frontal': 4984, 'mice': 4985, 'scarfac': 4986, 'optimist': 4987, 'substanti': 4988, 'hostil': 4989, 'rapidli': 4990, 'monti': 4991, 'incorrect': 4992, 'dubiou': 4993, 'asset': 4994, 'ingrid': 4995, 'evan': 4996, 'orchestr': 4997, 'casper': 4998, 'reincarn': 4999}\n"
     ]
    }
   ],
   "source": [
    "word_dict = build_dict(train_X)\n",
    "print(word_dict)"
   ]
  },
  {
   "cell_type": "code",
   "execution_count": 13,
   "metadata": {},
   "outputs": [],
   "source": [
    "# TODO: Use this space to determine the five most frequently appearing words in the training set."
   ]
  },
  {
   "cell_type": "markdown",
   "metadata": {},
   "source": [
    "**Question:** What are the five most frequently appearing (tokenized) words in the training set? Does it makes sense that these words appear frequently in the training set?"
   ]
  },
  {
   "cell_type": "markdown",
   "metadata": {},
   "source": [
    "**Answer:**\n",
    "\n",
    "The top five words are: \"movi\", \"film\", \"one\", \"like\", \"time\"\n",
    "\n",
    "This makes absolute sense. The IMDB dataset is a movie review dataset. So the top words should be movie/film. The other three words\"one\", \"like\", and \"time\" are all words that a reviewer would use in comments. Especially the word \"like\" in a negative or positive conotations. "
   ]
  },
  {
   "cell_type": "markdown",
   "metadata": {},
   "source": [
    "### Save `word_dict`\n",
    "\n",
    "Later on when we construct an endpoint which processes a submitted review we will need to make use of the `word_dict` which we have created. As such, we will save it to a file now for future use."
   ]
  },
  {
   "cell_type": "code",
   "execution_count": 14,
   "metadata": {},
   "outputs": [],
   "source": [
    "data_dir = '../data/pytorch' # The folder we will use for storing data\n",
    "if not os.path.exists(data_dir): # Make sure that the folder exists\n",
    "    os.makedirs(data_dir)"
   ]
  },
  {
   "cell_type": "code",
   "execution_count": 15,
   "metadata": {},
   "outputs": [],
   "source": [
    "with open(os.path.join(data_dir, 'word_dict.pkl'), \"wb\") as f:\n",
    "    pickle.dump(word_dict, f)"
   ]
  },
  {
   "cell_type": "markdown",
   "metadata": {},
   "source": [
    "### Transform the reviews\n",
    "\n",
    "Now that we have our word dictionary which allows us to transform the words appearing in the reviews into integers, it is time to make use of it and convert our reviews to their integer sequence representation, making sure to pad or truncate to a fixed length, which in our case is `500`."
   ]
  },
  {
   "cell_type": "code",
   "execution_count": 16,
   "metadata": {},
   "outputs": [],
   "source": [
    "def convert_and_pad(word_dict, sentence, pad=500):\n",
    "    NOWORD = 0 # We will use 0 to represent the 'no word' category\n",
    "    INFREQ = 1 # and we use 1 to represent the infrequent words, i.e., words not appearing in word_dict\n",
    "    \n",
    "    working_sentence = [NOWORD] * pad\n",
    "    \n",
    "    for word_index, word in enumerate(sentence[:pad]):\n",
    "        if word in word_dict:\n",
    "            working_sentence[word_index] = word_dict[word]\n",
    "        else:\n",
    "            working_sentence[word_index] = INFREQ\n",
    "            \n",
    "    return working_sentence, min(len(sentence), pad)\n",
    "\n",
    "def convert_and_pad_data(word_dict, data, pad=500):\n",
    "    result = []\n",
    "    lengths = []\n",
    "    \n",
    "    for sentence in data:\n",
    "        converted, leng = convert_and_pad(word_dict, sentence, pad)\n",
    "        result.append(converted)\n",
    "        lengths.append(leng)\n",
    "        \n",
    "    return np.array(result), np.array(lengths)"
   ]
  },
  {
   "cell_type": "code",
   "execution_count": 17,
   "metadata": {},
   "outputs": [],
   "source": [
    "train_X, train_X_len = convert_and_pad_data(word_dict, train_X)\n",
    "test_X, test_X_len = convert_and_pad_data(word_dict, test_X)"
   ]
  },
  {
   "cell_type": "markdown",
   "metadata": {},
   "source": [
    "As a quick check to make sure that things are working as intended, check to see what one of the reviews in the training set looks like after having been processeed. Does this look reasonable? What is the length of a review in the training set?"
   ]
  },
  {
   "cell_type": "code",
   "execution_count": 18,
   "metadata": {},
   "outputs": [
    {
     "name": "stdout",
     "output_type": "stream",
     "text": [
      "Length of Training First Review: 500\n",
      "Length of Test First Review  500\n",
      "[ 546    5   23   57  783 2423   25   11   35    1  361    7  254   72\n",
      "    1 2936  588  166  361 4860  383 1148 1581    3  279    1  631  274\n",
      "  224    7 3401  407   83    1   88    0    0    0    0    0    0    0\n",
      "    0    0    0    0    0    0    0    0    0    0    0    0    0    0\n",
      "    0    0    0    0    0    0    0    0    0    0    0    0    0    0\n",
      "    0    0    0    0    0    0    0    0    0    0    0    0    0    0\n",
      "    0    0    0    0    0    0    0    0    0    0    0    0    0    0\n",
      "    0    0    0    0    0    0    0    0    0    0    0    0    0    0\n",
      "    0    0    0    0    0    0    0    0    0    0    0    0    0    0\n",
      "    0    0    0    0    0    0    0    0    0    0    0    0    0    0\n",
      "    0    0    0    0    0    0    0    0    0    0    0    0    0    0\n",
      "    0    0    0    0    0    0    0    0    0    0    0    0    0    0\n",
      "    0    0    0    0    0    0    0    0    0    0    0    0    0    0\n",
      "    0    0    0    0    0    0    0    0    0    0    0    0    0    0\n",
      "    0    0    0    0    0    0    0    0    0    0    0    0    0    0\n",
      "    0    0    0    0    0    0    0    0    0    0    0    0    0    0\n",
      "    0    0    0    0    0    0    0    0    0    0    0    0    0    0\n",
      "    0    0    0    0    0    0    0    0    0    0    0    0    0    0\n",
      "    0    0    0    0    0    0    0    0    0    0    0    0    0    0\n",
      "    0    0    0    0    0    0    0    0    0    0    0    0    0    0\n",
      "    0    0    0    0    0    0    0    0    0    0    0    0    0    0\n",
      "    0    0    0    0    0    0    0    0    0    0    0    0    0    0\n",
      "    0    0    0    0    0    0    0    0    0    0    0    0    0    0\n",
      "    0    0    0    0    0    0    0    0    0    0    0    0    0    0\n",
      "    0    0    0    0    0    0    0    0    0    0    0    0    0    0\n",
      "    0    0    0    0    0    0    0    0    0    0    0    0    0    0\n",
      "    0    0    0    0    0    0    0    0    0    0    0    0    0    0\n",
      "    0    0    0    0    0    0    0    0    0    0    0    0    0    0\n",
      "    0    0    0    0    0    0    0    0    0    0    0    0    0    0\n",
      "    0    0    0    0    0    0    0    0    0    0    0    0    0    0\n",
      "    0    0    0    0    0    0    0    0    0    0    0    0    0    0\n",
      "    0    0    0    0    0    0    0    0    0    0    0    0    0    0\n",
      "    0    0    0    0    0    0    0    0    0    0    0    0    0    0\n",
      "    0    0    0    0    0    0    0    0    0    0    0    0    0    0\n",
      "    0    0    0    0    0    0    0    0    0    0    0    0    0    0\n",
      "    0    0    0    0    0    0    0    0    0    0]\n"
     ]
    }
   ],
   "source": [
    "# Use this cell to examine one of the processed reviews to make sure everything is working as intended.\n",
    "## Assert Statement with Some Probability\n",
    "random_review = np.random.randint(0,len(train_X))\n",
    "assert(len(train_X[random_review]) == 500)\n",
    "## Print First Review Length (Should be 500)\n",
    "print(\"Length of Training First Review:\", len(train_X[0]))\n",
    "print(\"Length of Test First Review \", len(test_X[0]))\n",
    "print(train_X[0])"
   ]
  },
  {
   "cell_type": "markdown",
   "metadata": {},
   "source": [
    "This looks very reasonable to me. Both the training/test review are at 500. In deep learning both the training/test dataset of each review should be made to be the same size. In order to get the architecture to work properly. So this is a prequisite that appears to be made appropriately. The length of 500 also look to be be appropraite. "
   ]
  },
  {
   "cell_type": "markdown",
   "metadata": {},
   "source": [
    "**Question:** In the cells above we use the `preprocess_data` and `convert_and_pad_data` methods to process both the training and testing set. Why or why not might this be a problem?"
   ]
  },
  {
   "cell_type": "markdown",
   "metadata": {},
   "source": [
    "**Answer:**\n",
    "\n",
    "Padding in NLP or Computer Vision can always be a problem. Your data must all be the same size in the training/test in order to fit the activation function/architecture of the model. Especially since we are using an LSTM model, that has this requirement.  Ideally all samples would have the same number of words/pixels/data. Unfortunately this is never the case and we need to do padding. \n",
    "\n",
    "The problem with padding is that we might be increasing preference on larger reviews. So we might be doing some imbalances in our loss function. The other problem with padding is that if many of the reviews are below the length of 500 words we might actually be killing neurons or unnecessary creating to complex a model. \n",
    "\n",
    "But look at a few different random samples we can see that this should not be a problem. Most reviews seems to fit the word length very well. By using the same pre-processing on both the training/test dataset we are making a stable model that should balances the negatives I mentioned earlier. Any other method really does not make sense."
   ]
  },
  {
   "cell_type": "markdown",
   "metadata": {},
   "source": [
    "## Step 3: Upload the data to S3\n",
    "\n",
    "As in the XGBoost notebook, we will need to upload the training dataset to S3 in order for our training code to access it. For now we will save it locally and we will upload to S3 later on.\n",
    "\n",
    "### Save the processed training dataset locally\n",
    "\n",
    "It is important to note the format of the data that we are saving as we will need to know it when we write the training code. In our case, each row of the dataset has the form `label`, `length`, `review[500]` where `review[500]` is a sequence of `500` integers representing the words in the review."
   ]
  },
  {
   "cell_type": "code",
   "execution_count": 19,
   "metadata": {},
   "outputs": [],
   "source": [
    "import pandas as pd\n",
    "    \n",
    "pd.concat([pd.DataFrame(train_y), pd.DataFrame(train_X_len), pd.DataFrame(train_X)], axis=1) \\\n",
    "        .to_csv(os.path.join(data_dir, 'train.csv'), header=False, index=False)"
   ]
  },
  {
   "cell_type": "markdown",
   "metadata": {},
   "source": [
    "### Uploading the training data\n",
    "\n",
    "\n",
    "Next, we need to upload the training data to the SageMaker default S3 bucket so that we can provide access to it while training our model."
   ]
  },
  {
   "cell_type": "code",
   "execution_count": 20,
   "metadata": {},
   "outputs": [],
   "source": [
    "import sagemaker\n",
    "\n",
    "sagemaker_session = sagemaker.Session()\n",
    "\n",
    "bucket = sagemaker_session.default_bucket()\n",
    "prefix = 'sagemaker/sentiment_rnn'\n",
    "\n",
    "role = sagemaker.get_execution_role()"
   ]
  },
  {
   "cell_type": "code",
   "execution_count": 21,
   "metadata": {},
   "outputs": [],
   "source": [
    "input_data = sagemaker_session.upload_data(path=data_dir, bucket=bucket, key_prefix=prefix)"
   ]
  },
  {
   "cell_type": "markdown",
   "metadata": {},
   "source": [
    "**NOTE:** The cell above uploads the entire contents of our data directory. This includes the `word_dict.pkl` file. This is fortunate as we will need this later on when we create an endpoint that accepts an arbitrary review. For now, we will just take note of the fact that it resides in the data directory (and so also in the S3 training bucket) and that we will need to make sure it gets saved in the model directory."
   ]
  },
  {
   "cell_type": "markdown",
   "metadata": {},
   "source": [
    "## Step 4: Build and Train the PyTorch Model\n",
    "\n",
    "In the XGBoost notebook we discussed what a model is in the SageMaker framework. In particular, a model comprises three objects\n",
    "\n",
    " - Model Artifacts,\n",
    " - Training Code, and\n",
    " - Inference Code,\n",
    " \n",
    "each of which interact with one another. In the XGBoost example we used training and inference code that was provided by Amazon. Here we will still be using containers provided by Amazon with the added benefit of being able to include our own custom code.\n",
    "\n",
    "We will start by implementing our own neural network in PyTorch along with a training script. For the purposes of this project we have provided the necessary model object in the `model.py` file, inside of the `train` folder. You can see the provided implementation by running the cell below."
   ]
  },
  {
   "cell_type": "code",
   "execution_count": 22,
   "metadata": {},
   "outputs": [
    {
     "name": "stdout",
     "output_type": "stream",
     "text": [
      "\u001b[34mimport\u001b[39;49;00m \u001b[04m\u001b[36mtorch.nn\u001b[39;49;00m \u001b[34mas\u001b[39;49;00m \u001b[04m\u001b[36mnn\u001b[39;49;00m\r\n",
      "\r\n",
      "\u001b[34mclass\u001b[39;49;00m \u001b[04m\u001b[32mLSTMClassifier\u001b[39;49;00m(nn.Module):\r\n",
      "    \u001b[33m\"\"\"\u001b[39;49;00m\r\n",
      "\u001b[33m    This is the simple RNN model we will be using to perform Sentiment Analysis.\u001b[39;49;00m\r\n",
      "\u001b[33m    \"\"\"\u001b[39;49;00m\r\n",
      "\r\n",
      "    \u001b[34mdef\u001b[39;49;00m \u001b[32m__init__\u001b[39;49;00m(\u001b[36mself\u001b[39;49;00m, embedding_dim, hidden_dim, vocab_size):\r\n",
      "        \u001b[33m\"\"\"\u001b[39;49;00m\r\n",
      "\u001b[33m        Initialize the model by settingg up the various layers.\u001b[39;49;00m\r\n",
      "\u001b[33m        \"\"\"\u001b[39;49;00m\r\n",
      "        \u001b[36msuper\u001b[39;49;00m(LSTMClassifier, \u001b[36mself\u001b[39;49;00m).\u001b[32m__init__\u001b[39;49;00m()\r\n",
      "\r\n",
      "        \u001b[36mself\u001b[39;49;00m.embedding = nn.Embedding(vocab_size, embedding_dim, padding_idx=\u001b[34m0\u001b[39;49;00m)\r\n",
      "        \u001b[36mself\u001b[39;49;00m.lstm = nn.LSTM(embedding_dim, hidden_dim)\r\n",
      "        \u001b[36mself\u001b[39;49;00m.dense = nn.Linear(in_features=hidden_dim, out_features=\u001b[34m1\u001b[39;49;00m)\r\n",
      "        \u001b[36mself\u001b[39;49;00m.sig = nn.Sigmoid()\r\n",
      "        \r\n",
      "        \u001b[36mself\u001b[39;49;00m.word_dict = \u001b[36mNone\u001b[39;49;00m\r\n",
      "\r\n",
      "    \u001b[34mdef\u001b[39;49;00m \u001b[32mforward\u001b[39;49;00m(\u001b[36mself\u001b[39;49;00m, x):\r\n",
      "        \u001b[33m\"\"\"\u001b[39;49;00m\r\n",
      "\u001b[33m        Perform a forward pass of our model on some input.\u001b[39;49;00m\r\n",
      "\u001b[33m        \"\"\"\u001b[39;49;00m\r\n",
      "        x = x.t()\r\n",
      "        lengths = x[\u001b[34m0\u001b[39;49;00m,:]\r\n",
      "        reviews = x[\u001b[34m1\u001b[39;49;00m:,:]\r\n",
      "        embeds = \u001b[36mself\u001b[39;49;00m.embedding(reviews)\r\n",
      "        lstm_out, _ = \u001b[36mself\u001b[39;49;00m.lstm(embeds)\r\n",
      "        out = \u001b[36mself\u001b[39;49;00m.dense(lstm_out)\r\n",
      "        out = out[lengths - \u001b[34m1\u001b[39;49;00m, \u001b[36mrange\u001b[39;49;00m(\u001b[36mlen\u001b[39;49;00m(lengths))]\r\n",
      "        \u001b[34mreturn\u001b[39;49;00m \u001b[36mself\u001b[39;49;00m.sig(out.squeeze())\r\n"
     ]
    }
   ],
   "source": [
    "!pygmentize train/model.py"
   ]
  },
  {
   "cell_type": "markdown",
   "metadata": {},
   "source": [
    "The important takeaway from the implementation provided is that there are three parameters that we may wish to tweak to improve the performance of our model. These are the embedding dimension, the hidden dimension and the size of the vocabulary. We will likely want to make these parameters configurable in the training script so that if we wish to modify them we do not need to modify the script itself. We will see how to do this later on. To start we will write some of the training code in the notebook so that we can more easily diagnose any issues that arise.\n",
    "\n",
    "First we will load a small portion of the training data set to use as a sample. It would be very time consuming to try and train the model completely in the notebook as we do not have access to a gpu and the compute instance that we are using is not particularly powerful. However, we can work on a small bit of the data to get a feel for how our training script is behaving."
   ]
  },
  {
   "cell_type": "code",
   "execution_count": 23,
   "metadata": {},
   "outputs": [],
   "source": [
    "import torch\n",
    "import torch.utils.data\n",
    "\n",
    "# Read in only the first 250 rows\n",
    "train_sample = pd.read_csv(os.path.join(data_dir, 'train.csv'), header=None, names=None, nrows=250)\n",
    "\n",
    "# Turn the input pandas dataframe into tensors\n",
    "train_sample_y = torch.from_numpy(train_sample[[0]].values).float().squeeze()\n",
    "train_sample_X = torch.from_numpy(train_sample.drop([0], axis=1).values).long()\n",
    "\n",
    "# Build the dataset\n",
    "train_sample_ds = torch.utils.data.TensorDataset(train_sample_X, train_sample_y)\n",
    "# Build the dataloader\n",
    "train_sample_dl = torch.utils.data.DataLoader(train_sample_ds, batch_size=50)"
   ]
  },
  {
   "cell_type": "markdown",
   "metadata": {},
   "source": [
    "### (TODO) Writing the training method\n",
    "\n",
    "Next we need to write the training code itself. This should be very similar to training methods that you have written before to train PyTorch models. We will leave any difficult aspects such as model saving / loading and parameter loading until a little later."
   ]
  },
  {
   "cell_type": "code",
   "execution_count": 24,
   "metadata": {},
   "outputs": [],
   "source": [
    "def train(model, train_loader, epochs, optimizer, loss_fn, device):\n",
    "    for epoch in range(1, epochs + 1):\n",
    "        model.train()\n",
    "        total_loss = 0\n",
    "        for batch in train_loader:         \n",
    "            batch_X, batch_y = batch\n",
    "            \n",
    "            batch_X = batch_X.to(device)\n",
    "            batch_y = batch_y.to(device)\n",
    "            \n",
    "            # TODO: Complete this train method to train the model provided.\n",
    "            ## Clear Gradients\n",
    "            optimizer.zero_grad()\n",
    "            ## Pass Input Through Model\n",
    "            output = model.forward(batch_X)\n",
    "            ## Calculate Loss\n",
    "            loss = loss_fn(output, batch_y)\n",
    "            ## Backprogation to update weights\n",
    "            loss.backward()\n",
    "            ## Next Step\n",
    "            optimizer.step()\n",
    "            \n",
    "            total_loss += loss.data.item()\n",
    "        print(\"Epoch: {}, BCELoss: {}\".format(epoch, total_loss / len(train_loader)))"
   ]
  },
  {
   "cell_type": "markdown",
   "metadata": {},
   "source": [
    "Supposing we have the training method above, we will test that it is working by writing a bit of code in the notebook that executes our training method on the small sample training set that we loaded earlier. The reason for doing this in the notebook is so that we have an opportunity to fix any errors that arise early when they are easier to diagnose."
   ]
  },
  {
   "cell_type": "code",
   "execution_count": 25,
   "metadata": {},
   "outputs": [
    {
     "name": "stdout",
     "output_type": "stream",
     "text": [
      "Epoch: 1, BCELoss: 0.6960085749626159\n",
      "Epoch: 2, BCELoss: 0.6869755983352661\n",
      "Epoch: 3, BCELoss: 0.6791091561317444\n",
      "Epoch: 4, BCELoss: 0.6701875448226928\n",
      "Epoch: 5, BCELoss: 0.6587285161018371\n"
     ]
    }
   ],
   "source": [
    "import torch.optim as optim\n",
    "from train.model import LSTMClassifier\n",
    "\n",
    "device = torch.device(\"cuda\" if torch.cuda.is_available() else \"cpu\")\n",
    "model = LSTMClassifier(32, 100, 5000).to(device)\n",
    "optimizer = optim.Adam(model.parameters())\n",
    "loss_fn = torch.nn.BCELoss()\n",
    "\n",
    "train(model, train_sample_dl, 5, optimizer, loss_fn, device)"
   ]
  },
  {
   "cell_type": "markdown",
   "metadata": {},
   "source": [
    "In order to construct a PyTorch model using SageMaker we must provide SageMaker with a training script. We may optionally include a directory which will be copied to the container and from which our training code will be run. When the training container is executed it will check the uploaded directory (if there is one) for a `requirements.txt` file and install any required Python libraries, after which the training script will be run."
   ]
  },
  {
   "cell_type": "markdown",
   "metadata": {},
   "source": [
    "### (TODO) Training the model\n",
    "\n",
    "When a PyTorch model is constructed in SageMaker, an entry point must be specified. This is the Python file which will be executed when the model is trained. Inside of the `train` directory is a file called `train.py` which has been provided and which contains most of the necessary code to train our model. The only thing that is missing is the implementation of the `train()` method which you wrote earlier in this notebook.\n",
    "\n",
    "**TODO**: Copy the `train()` method written above and paste it into the `train/train.py` file where required.\n",
    "\n",
    "The way that SageMaker passes hyperparameters to the training script is by way of arguments. These arguments can then be parsed and used in the training script. To see how this is done take a look at the provided `train/train.py` file."
   ]
  },
  {
   "cell_type": "code",
   "execution_count": 33,
   "metadata": {},
   "outputs": [],
   "source": [
    "from sagemaker.pytorch import PyTorch\n",
    "\n",
    "estimator = PyTorch(entry_point=\"train.py\",\n",
    "                    source_dir=\"train\",\n",
    "                    role=role,\n",
    "                    framework_version='0.4.0',\n",
    "                    train_instance_count=1,\n",
    "                    train_instance_type='ml.p2.xlarge',\n",
    "                    hyperparameters={\n",
    "                        'epochs': 10,\n",
    "                        'hidden_dim': 200,\n",
    "                    })"
   ]
  },
  {
   "cell_type": "code",
   "execution_count": 38,
   "metadata": {},
   "outputs": [
    {
     "name": "stdout",
     "output_type": "stream",
     "text": [
      "2020-05-13 17:47:50 Starting - Starting the training job...\n",
      "2020-05-13 17:47:52 Starting - Launching requested ML instances......\n",
      "2020-05-13 17:49:00 Starting - Preparing the instances for training.........\n",
      "2020-05-13 17:50:28 Downloading - Downloading input data...\n",
      "2020-05-13 17:51:05 Training - Downloading the training image..\u001b[34mbash: cannot set terminal process group (-1): Inappropriate ioctl for device\u001b[0m\n",
      "\u001b[34mbash: no job control in this shell\u001b[0m\n",
      "\u001b[34m2020-05-13 17:51:27,730 sagemaker-containers INFO     Imported framework sagemaker_pytorch_container.training\u001b[0m\n",
      "\u001b[34m2020-05-13 17:51:27,755 sagemaker_pytorch_container.training INFO     Block until all host DNS lookups succeed.\u001b[0m\n",
      "\u001b[34m2020-05-13 17:51:27,758 sagemaker_pytorch_container.training INFO     Invoking user training script.\u001b[0m\n",
      "\u001b[34m2020-05-13 17:51:28,015 sagemaker-containers INFO     Module train does not provide a setup.py. \u001b[0m\n",
      "\u001b[34mGenerating setup.py\u001b[0m\n",
      "\u001b[34m2020-05-13 17:51:28,015 sagemaker-containers INFO     Generating setup.cfg\u001b[0m\n",
      "\u001b[34m2020-05-13 17:51:28,015 sagemaker-containers INFO     Generating MANIFEST.in\u001b[0m\n",
      "\u001b[34m2020-05-13 17:51:28,016 sagemaker-containers INFO     Installing module with the following command:\u001b[0m\n",
      "\u001b[34m/usr/bin/python -m pip install -U . -r requirements.txt\u001b[0m\n",
      "\u001b[34mProcessing /opt/ml/code\u001b[0m\n",
      "\u001b[34mCollecting pandas (from -r requirements.txt (line 1))\n",
      "  Downloading https://files.pythonhosted.org/packages/74/24/0cdbf8907e1e3bc5a8da03345c23cbed7044330bb8f73bb12e711a640a00/pandas-0.24.2-cp35-cp35m-manylinux1_x86_64.whl (10.0MB)\u001b[0m\n",
      "\u001b[34mCollecting numpy (from -r requirements.txt (line 2))\n",
      "  Downloading https://files.pythonhosted.org/packages/38/92/fa5295d9755c7876cb8490eab866e1780154033fa45978d9cf74ffbd4c68/numpy-1.18.4-cp35-cp35m-manylinux1_x86_64.whl (20.0MB)\u001b[0m\n",
      "\u001b[34mCollecting nltk (from -r requirements.txt (line 3))\n",
      "  Downloading https://files.pythonhosted.org/packages/92/75/ce35194d8e3022203cca0d2f896dbb88689f9b3fce8e9f9cff942913519d/nltk-3.5.zip (1.4MB)\u001b[0m\n",
      "\u001b[34mCollecting beautifulsoup4 (from -r requirements.txt (line 4))\n",
      "  Downloading https://files.pythonhosted.org/packages/e8/b5/7bb03a696f2c9b7af792a8f51b82974e51c268f15e925fc834876a4efa0b/beautifulsoup4-4.9.0-py3-none-any.whl (109kB)\u001b[0m\n",
      "\u001b[34mCollecting html5lib (from -r requirements.txt (line 5))\n",
      "  Downloading https://files.pythonhosted.org/packages/a5/62/bbd2be0e7943ec8504b517e62bab011b4946e1258842bc159e5dfde15b96/html5lib-1.0.1-py2.py3-none-any.whl (117kB)\u001b[0m\n",
      "\u001b[34mCollecting pytz>=2011k (from pandas->-r requirements.txt (line 1))\n",
      "  Downloading https://files.pythonhosted.org/packages/4f/a4/879454d49688e2fad93e59d7d4efda580b783c745fd2ec2a3adf87b0808d/pytz-2020.1-py2.py3-none-any.whl (510kB)\u001b[0m\n",
      "\u001b[34mRequirement already satisfied, skipping upgrade: python-dateutil>=2.5.0 in /usr/local/lib/python3.5/dist-packages (from pandas->-r requirements.txt (line 1)) (2.7.5)\u001b[0m\n",
      "\u001b[34mRequirement already satisfied, skipping upgrade: click in /usr/local/lib/python3.5/dist-packages (from nltk->-r requirements.txt (line 3)) (7.0)\u001b[0m\n",
      "\u001b[34mCollecting joblib (from nltk->-r requirements.txt (line 3))\n",
      "  Downloading https://files.pythonhosted.org/packages/28/5c/cf6a2b65a321c4a209efcdf64c2689efae2cb62661f8f6f4bb28547cf1bf/joblib-0.14.1-py2.py3-none-any.whl (294kB)\u001b[0m\n",
      "\u001b[34mCollecting regex (from nltk->-r requirements.txt (line 3))\u001b[0m\n",
      "\u001b[34m  Downloading https://files.pythonhosted.org/packages/a6/31/8f11129cc941f4238e0091cf54233185e892cbeb7a7c83fbc488e533bb59/regex-2020.5.13.tar.gz (696kB)\u001b[0m\n",
      "\u001b[34mCollecting tqdm (from nltk->-r requirements.txt (line 3))\n",
      "  Downloading https://files.pythonhosted.org/packages/c9/40/058b12e8ba10e35f89c9b1fdfc2d4c7f8c05947df2d5eb3c7b258019fda0/tqdm-4.46.0-py2.py3-none-any.whl (63kB)\u001b[0m\n",
      "\u001b[34mCollecting soupsieve>1.2 (from beautifulsoup4->-r requirements.txt (line 4))\n",
      "  Downloading https://files.pythonhosted.org/packages/05/cf/ea245e52f55823f19992447b008bcbb7f78efc5960d77f6c34b5b45b36dd/soupsieve-2.0-py2.py3-none-any.whl\u001b[0m\n",
      "\u001b[34mCollecting webencodings (from html5lib->-r requirements.txt (line 5))\n",
      "  Downloading https://files.pythonhosted.org/packages/f4/24/2a3e3df732393fed8b3ebf2ec078f05546de641fe1b667ee316ec1dcf3b7/webencodings-0.5.1-py2.py3-none-any.whl\u001b[0m\n",
      "\u001b[34mRequirement already satisfied, skipping upgrade: six>=1.9 in /usr/local/lib/python3.5/dist-packages (from html5lib->-r requirements.txt (line 5)) (1.11.0)\u001b[0m\n",
      "\u001b[34mBuilding wheels for collected packages: nltk, train, regex\n",
      "  Running setup.py bdist_wheel for nltk: started\u001b[0m\n",
      "\u001b[34m  Running setup.py bdist_wheel for nltk: finished with status 'done'\n",
      "  Stored in directory: /root/.cache/pip/wheels/ae/8c/3f/b1fe0ba04555b08b57ab52ab7f86023639a526d8bc8d384306\n",
      "  Running setup.py bdist_wheel for train: started\n",
      "  Running setup.py bdist_wheel for train: finished with status 'done'\n",
      "  Stored in directory: /tmp/pip-ephem-wheel-cache-j8md205g/wheels/35/24/16/37574d11bf9bde50616c67372a334f94fa8356bc7164af8ca3\n",
      "  Running setup.py bdist_wheel for regex: started\u001b[0m\n",
      "\n",
      "2020-05-13 17:51:27 Training - Training image download completed. Training in progress.\u001b[34m  Running setup.py bdist_wheel for regex: finished with status 'done'\n",
      "  Stored in directory: /root/.cache/pip/wheels/91/60/b8/5a21a7d19e4dfa0b8b8baa6ffdd94367634e88fc960e80b9dd\u001b[0m\n",
      "\u001b[34mSuccessfully built nltk train regex\u001b[0m\n",
      "\u001b[34mInstalling collected packages: pytz, numpy, pandas, joblib, regex, tqdm, nltk, soupsieve, beautifulsoup4, webencodings, html5lib, train\n",
      "  Found existing installation: numpy 1.15.4\u001b[0m\n",
      "\u001b[34m    Uninstalling numpy-1.15.4:\n",
      "      Successfully uninstalled numpy-1.15.4\u001b[0m\n",
      "\u001b[34mSuccessfully installed beautifulsoup4-4.9.0 html5lib-1.0.1 joblib-0.14.1 nltk-3.5 numpy-1.18.4 pandas-0.24.2 pytz-2020.1 regex-2020.5.13 soupsieve-2.0 tqdm-4.46.0 train-1.0.0 webencodings-0.5.1\u001b[0m\n",
      "\u001b[34mYou are using pip version 18.1, however version 20.1 is available.\u001b[0m\n",
      "\u001b[34mYou should consider upgrading via the 'pip install --upgrade pip' command.\u001b[0m\n",
      "\u001b[34m2020-05-13 17:51:50,847 sagemaker-containers INFO     Invoking user script\n",
      "\u001b[0m\n",
      "\u001b[34mTraining Env:\n",
      "\u001b[0m\n",
      "\u001b[34m{\n",
      "    \"output_data_dir\": \"/opt/ml/output/data\",\n",
      "    \"log_level\": 20,\n",
      "    \"module_dir\": \"s3://sagemaker-us-east-2-533961495855/sagemaker-pytorch-2020-05-13-17-47-50-451/source/sourcedir.tar.gz\",\n",
      "    \"channel_input_dirs\": {\n",
      "        \"training\": \"/opt/ml/input/data/training\"\n",
      "    },\n",
      "    \"hyperparameters\": {\n",
      "        \"hidden_dim\": 200,\n",
      "        \"epochs\": 10\n",
      "    },\n",
      "    \"current_host\": \"algo-1\",\n",
      "    \"user_entry_point\": \"train.py\",\n",
      "    \"hosts\": [\n",
      "        \"algo-1\"\n",
      "    ],\n",
      "    \"input_data_config\": {\n",
      "        \"training\": {\n",
      "            \"TrainingInputMode\": \"File\",\n",
      "            \"RecordWrapperType\": \"None\",\n",
      "            \"S3DistributionType\": \"FullyReplicated\"\n",
      "        }\n",
      "    },\n",
      "    \"num_gpus\": 1,\n",
      "    \"output_dir\": \"/opt/ml/output\",\n",
      "    \"resource_config\": {\n",
      "        \"network_interface_name\": \"eth0\",\n",
      "        \"hosts\": [\n",
      "            \"algo-1\"\n",
      "        ],\n",
      "        \"current_host\": \"algo-1\"\n",
      "    },\n",
      "    \"num_cpus\": 4,\n",
      "    \"job_name\": \"sagemaker-pytorch-2020-05-13-17-47-50-451\",\n",
      "    \"input_dir\": \"/opt/ml/input\",\n",
      "    \"network_interface_name\": \"eth0\",\n",
      "    \"input_config_dir\": \"/opt/ml/input/config\",\n",
      "    \"framework_module\": \"sagemaker_pytorch_container.training:main\",\n",
      "    \"additional_framework_parameters\": {},\n",
      "    \"module_name\": \"train\",\n",
      "    \"output_intermediate_dir\": \"/opt/ml/output/intermediate\",\n",
      "    \"model_dir\": \"/opt/ml/model\"\u001b[0m\n",
      "\u001b[34m}\n",
      "\u001b[0m\n",
      "\u001b[34mEnvironment variables:\n",
      "\u001b[0m\n",
      "\u001b[34mSM_MODEL_DIR=/opt/ml/model\u001b[0m\n",
      "\u001b[34mSM_HOSTS=[\"algo-1\"]\u001b[0m\n",
      "\u001b[34mSM_USER_ARGS=[\"--epochs\",\"10\",\"--hidden_dim\",\"200\"]\u001b[0m\n",
      "\u001b[34mSM_HP_EPOCHS=10\u001b[0m\n",
      "\u001b[34mSM_FRAMEWORK_PARAMS={}\u001b[0m\n",
      "\u001b[34mSM_FRAMEWORK_MODULE=sagemaker_pytorch_container.training:main\u001b[0m\n",
      "\u001b[34mSM_NETWORK_INTERFACE_NAME=eth0\u001b[0m\n",
      "\u001b[34mPYTHONPATH=/usr/local/bin:/usr/lib/python35.zip:/usr/lib/python3.5:/usr/lib/python3.5/plat-x86_64-linux-gnu:/usr/lib/python3.5/lib-dynload:/usr/local/lib/python3.5/dist-packages:/usr/lib/python3/dist-packages\u001b[0m\n",
      "\u001b[34mSM_CHANNELS=[\"training\"]\u001b[0m\n",
      "\u001b[34mSM_HP_HIDDEN_DIM=200\u001b[0m\n",
      "\u001b[34mSM_CURRENT_HOST=algo-1\u001b[0m\n",
      "\u001b[34mSM_LOG_LEVEL=20\u001b[0m\n",
      "\u001b[34mSM_NUM_CPUS=4\u001b[0m\n",
      "\u001b[34mSM_INPUT_DATA_CONFIG={\"training\":{\"RecordWrapperType\":\"None\",\"S3DistributionType\":\"FullyReplicated\",\"TrainingInputMode\":\"File\"}}\u001b[0m\n",
      "\u001b[34mSM_HPS={\"epochs\":10,\"hidden_dim\":200}\u001b[0m\n",
      "\u001b[34mSM_RESOURCE_CONFIG={\"current_host\":\"algo-1\",\"hosts\":[\"algo-1\"],\"network_interface_name\":\"eth0\"}\u001b[0m\n",
      "\u001b[34mSM_MODULE_DIR=s3://sagemaker-us-east-2-533961495855/sagemaker-pytorch-2020-05-13-17-47-50-451/source/sourcedir.tar.gz\u001b[0m\n",
      "\u001b[34mSM_OUTPUT_INTERMEDIATE_DIR=/opt/ml/output/intermediate\u001b[0m\n",
      "\u001b[34mSM_TRAINING_ENV={\"additional_framework_parameters\":{},\"channel_input_dirs\":{\"training\":\"/opt/ml/input/data/training\"},\"current_host\":\"algo-1\",\"framework_module\":\"sagemaker_pytorch_container.training:main\",\"hosts\":[\"algo-1\"],\"hyperparameters\":{\"epochs\":10,\"hidden_dim\":200},\"input_config_dir\":\"/opt/ml/input/config\",\"input_data_config\":{\"training\":{\"RecordWrapperType\":\"None\",\"S3DistributionType\":\"FullyReplicated\",\"TrainingInputMode\":\"File\"}},\"input_dir\":\"/opt/ml/input\",\"job_name\":\"sagemaker-pytorch-2020-05-13-17-47-50-451\",\"log_level\":20,\"model_dir\":\"/opt/ml/model\",\"module_dir\":\"s3://sagemaker-us-east-2-533961495855/sagemaker-pytorch-2020-05-13-17-47-50-451/source/sourcedir.tar.gz\",\"module_name\":\"train\",\"network_interface_name\":\"eth0\",\"num_cpus\":4,\"num_gpus\":1,\"output_data_dir\":\"/opt/ml/output/data\",\"output_dir\":\"/opt/ml/output\",\"output_intermediate_dir\":\"/opt/ml/output/intermediate\",\"resource_config\":{\"current_host\":\"algo-1\",\"hosts\":[\"algo-1\"],\"network_interface_name\":\"eth0\"},\"user_entry_point\":\"train.py\"}\u001b[0m\n",
      "\u001b[34mSM_INPUT_DIR=/opt/ml/input\u001b[0m\n",
      "\u001b[34mSM_CHANNEL_TRAINING=/opt/ml/input/data/training\u001b[0m\n",
      "\u001b[34mSM_INPUT_CONFIG_DIR=/opt/ml/input/config\u001b[0m\n",
      "\u001b[34mSM_OUTPUT_DATA_DIR=/opt/ml/output/data\u001b[0m\n",
      "\u001b[34mSM_MODULE_NAME=train\u001b[0m\n",
      "\u001b[34mSM_OUTPUT_DIR=/opt/ml/output\u001b[0m\n",
      "\u001b[34mSM_NUM_GPUS=1\u001b[0m\n",
      "\u001b[34mSM_USER_ENTRY_POINT=train.py\n",
      "\u001b[0m\n",
      "\u001b[34mInvoking script with the following command:\n",
      "\u001b[0m\n",
      "\u001b[34m/usr/bin/python -m train --epochs 10 --hidden_dim 200\n",
      "\n",
      "\u001b[0m\n",
      "\u001b[34mUsing device cuda.\u001b[0m\n",
      "\u001b[34mGet train data loader.\u001b[0m\n"
     ]
    },
    {
     "name": "stdout",
     "output_type": "stream",
     "text": [
      "\u001b[34mModel loaded with embedding_dim 32, hidden_dim 200, vocab_size 5000.\u001b[0m\n",
      "\u001b[34mEpoch: 1, BCELoss: 0.6761833356351269\u001b[0m\n",
      "\u001b[34mEpoch: 2, BCELoss: 0.6427750161715916\u001b[0m\n",
      "\u001b[34mEpoch: 3, BCELoss: 0.5840446401615532\u001b[0m\n",
      "\u001b[34mEpoch: 4, BCELoss: 0.4784045322817199\u001b[0m\n",
      "\u001b[34mEpoch: 5, BCELoss: 0.4077291141967384\u001b[0m\n",
      "\u001b[34mEpoch: 6, BCELoss: 0.364016380845284\u001b[0m\n",
      "\u001b[34mEpoch: 7, BCELoss: 0.324502988129246\u001b[0m\n",
      "\u001b[34mEpoch: 8, BCELoss: 0.3084328892279644\u001b[0m\n",
      "\u001b[34mEpoch: 9, BCELoss: 0.2916115875146827\u001b[0m\n",
      "\u001b[34mEpoch: 10, BCELoss: 0.2789747565984726\u001b[0m\n",
      "\u001b[34m2020-05-13 17:54:52,825 sagemaker-containers INFO     Reporting training SUCCESS\u001b[0m\n",
      "\n",
      "2020-05-13 17:55:01 Uploading - Uploading generated training model\n",
      "2020-05-13 17:55:01 Completed - Training job completed\n",
      "Training seconds: 273\n",
      "Billable seconds: 273\n"
     ]
    }
   ],
   "source": [
    "estimator.fit({'training': input_data})"
   ]
  },
  {
   "cell_type": "markdown",
   "metadata": {},
   "source": [
    "## Step 5: Testing the model\n",
    "\n",
    "As mentioned at the top of this notebook, we will be testing this model by first deploying it and then sending the testing data to the deployed endpoint. We will do this so that we can make sure that the deployed model is working correctly.\n",
    "\n",
    "## Step 6: Deploy the model for testing\n",
    "\n",
    "Now that we have trained our model, we would like to test it to see how it performs. Currently our model takes input of the form `review_length, review[500]` where `review[500]` is a sequence of `500` integers which describe the words present in the review, encoded using `word_dict`. Fortunately for us, SageMaker provides built-in inference code for models with simple inputs such as this.\n",
    "\n",
    "There is one thing that we need to provide, however, and that is a function which loads the saved model. This function must be called `model_fn()` and takes as its only parameter a path to the directory where the model artifacts are stored. This function must also be present in the python file which we specified as the entry point. In our case the model loading function has been provided and so no changes need to be made.\n",
    "\n",
    "**NOTE**: When the built-in inference code is run it must import the `model_fn()` method from the `train.py` file. This is why the training code is wrapped in a main guard ( ie, `if __name__ == '__main__':` )\n",
    "\n",
    "Since we don't need to change anything in the code that was uploaded during training, we can simply deploy the current model as-is.\n",
    "\n",
    "**NOTE:** When deploying a model you are asking SageMaker to launch an compute instance that will wait for data to be sent to it. As a result, this compute instance will continue to run until *you* shut it down. This is important to know since the cost of a deployed endpoint depends on how long it has been running for.\n",
    "\n",
    "In other words **If you are no longer using a deployed endpoint, shut it down!**\n",
    "\n",
    "**TODO:** Deploy the trained model."
   ]
  },
  {
   "cell_type": "code",
   "execution_count": 39,
   "metadata": {},
   "outputs": [
    {
     "name": "stdout",
     "output_type": "stream",
     "text": [
      "---------------!"
     ]
    }
   ],
   "source": [
    "# TODO: Deploy the trained model\n",
    "predictor = estimator.deploy(initial_instance_count=1, instance_type='ml.m4.xlarge')"
   ]
  },
  {
   "cell_type": "markdown",
   "metadata": {},
   "source": [
    "## Step 7 - Use the model for testing\n",
    "\n",
    "Once deployed, we can read in the test data and send it off to our deployed model to get some results. Once we collect all of the results we can determine how accurate our model is."
   ]
  },
  {
   "cell_type": "code",
   "execution_count": 43,
   "metadata": {},
   "outputs": [],
   "source": [
    "test_x = None\n",
    "test_X = pd.concat([pd.DataFrame(test_X_len), pd.DataFrame(test_X)], axis=1)"
   ]
  },
  {
   "cell_type": "code",
   "execution_count": 44,
   "metadata": {},
   "outputs": [],
   "source": [
    "# We split the data into chunks and send each chunk seperately, accumulating the results.\n",
    "\n",
    "def predict(data, rows=512):\n",
    "    split_array = np.array_split(data, int(data.shape[0] / float(rows) + 1))\n",
    "    predictions = np.array([])\n",
    "    for array in split_array:\n",
    "        predictions = np.append(predictions, predictor.predict(array))\n",
    "    \n",
    "    return predictions"
   ]
  },
  {
   "cell_type": "code",
   "execution_count": 45,
   "metadata": {},
   "outputs": [],
   "source": [
    "predictions = None\n",
    "predictions = predict(test_X.values)\n",
    "predictions = [round(num) for num in predictions]"
   ]
  },
  {
   "cell_type": "code",
   "execution_count": 46,
   "metadata": {},
   "outputs": [
    {
     "data": {
      "text/plain": [
       "0.82776"
      ]
     },
     "execution_count": 46,
     "metadata": {},
     "output_type": "execute_result"
    }
   ],
   "source": [
    "from sklearn.metrics import accuracy_score\n",
    "accuracy_score(test_y, predictions)"
   ]
  },
  {
   "cell_type": "markdown",
   "metadata": {},
   "source": [
    "**Question:** How does this model compare to the XGBoost model you created earlier? Why might these two models perform differently on this dataset? Which do *you* think is better for sentiment analysis?"
   ]
  },
  {
   "cell_type": "markdown",
   "metadata": {},
   "source": [
    "**Answer:**\n",
    "\n",
    "This model actually performed very well. I am very impressed by it. The model performed very similar to the XGBoost Model. This is probably because we have not refined or adjusted the hypeparameters. This is also probably because this is a very simple model with a few hidden layers. This is seen by how quickly this model trained. \n",
    "\n",
    "I personally do not like the XGBoost models. I feel that is a way backwards and does not provide optimum performance. While RNN models were created primarily for NLP. So this means that RNN's are much better adjusted for Sentiment Analysis. So I feel that with some hyperparameter tuning I could probably do a much better job than 82%. \n",
    "\n",
    "XGBoost models seem to work well for multiple datasets but are not made specifically for a single action. And for me this is the weakness. While a RNN model can be made very specific for a certain dataset. I prefer the harder RNN solution anytime over XGBoost. "
   ]
  },
  {
   "cell_type": "markdown",
   "metadata": {},
   "source": [
    "### (TODO) More testing\n",
    "\n",
    "We now have a trained model which has been deployed and which we can send processed reviews to and which returns the predicted sentiment. However, ultimately we would like to be able to send our model an unprocessed review. That is, we would like to send the review itself as a string. For example, suppose we wish to send the following review to our model."
   ]
  },
  {
   "cell_type": "code",
   "execution_count": 50,
   "metadata": {},
   "outputs": [],
   "source": [
    "test_review = 'The simplest pleasures in life are the best, and this film is one of them. Combining a rather basic storyline of love and adventure this movie transcends the usual weekend fair with wit and unmitigated charm.'"
   ]
  },
  {
   "cell_type": "markdown",
   "metadata": {},
   "source": [
    "The question we now need to answer is, how do we send this review to our model?\n",
    "\n",
    "Recall in the first section of this notebook we did a bunch of data processing to the IMDb dataset. In particular, we did two specific things to the provided reviews.\n",
    " - Removed any html tags and stemmed the input\n",
    " - Encoded the review as a sequence of integers using `word_dict`\n",
    " \n",
    "In order process the review we will need to repeat these two steps.\n",
    "\n",
    "**TODO**: Using the `review_to_words` and `convert_and_pad` methods from section one, convert `test_review` into a numpy array `test_data` suitable to send to our model. Remember that our model expects input of the form `review_length, review[500]`."
   ]
  },
  {
   "cell_type": "code",
   "execution_count": 51,
   "metadata": {},
   "outputs": [],
   "source": [
    "# TODO: Convert test_review into a form usable by the model and save the results in test_data\n",
    "test_data = review_to_words(test_review)\n",
    "test_data = [np.array(convert_and_pad(word_dict, test_data)[0])]"
   ]
  },
  {
   "cell_type": "markdown",
   "metadata": {},
   "source": [
    "Now that we have processed the review, we can send the resulting array to our model to predict the sentiment of the review."
   ]
  },
  {
   "cell_type": "code",
   "execution_count": 52,
   "metadata": {},
   "outputs": [
    {
     "data": {
      "text/plain": [
       "array(0.55467623, dtype=float32)"
      ]
     },
     "execution_count": 52,
     "metadata": {},
     "output_type": "execute_result"
    }
   ],
   "source": [
    "predictor.predict(test_data)"
   ]
  },
  {
   "cell_type": "markdown",
   "metadata": {},
   "source": [
    "Since the return value of our model is close to `1`, we can be certain that the review we submitted is positive."
   ]
  },
  {
   "cell_type": "markdown",
   "metadata": {},
   "source": [
    "### Delete the endpoint\n",
    "\n",
    "Of course, just like in the XGBoost notebook, once we've deployed an endpoint it continues to run until we tell it to shut down. Since we are done using our endpoint for now, we can delete it."
   ]
  },
  {
   "cell_type": "code",
   "execution_count": 53,
   "metadata": {},
   "outputs": [],
   "source": [
    "estimator.delete_endpoint()"
   ]
  },
  {
   "cell_type": "markdown",
   "metadata": {},
   "source": [
    "## Step 6 (again) - Deploy the model for the web app\n",
    "\n",
    "Now that we know that our model is working, it's time to create some custom inference code so that we can send the model a review which has not been processed and have it determine the sentiment of the review.\n",
    "\n",
    "As we saw above, by default the estimator which we created, when deployed, will use the entry script and directory which we provided when creating the model. However, since we now wish to accept a string as input and our model expects a processed review, we need to write some custom inference code.\n",
    "\n",
    "We will store the code that we write in the `serve` directory. Provided in this directory is the `model.py` file that we used to construct our model, a `utils.py` file which contains the `review_to_words` and `convert_and_pad` pre-processing functions which we used during the initial data processing, and `predict.py`, the file which will contain our custom inference code. Note also that `requirements.txt` is present which will tell SageMaker what Python libraries are required by our custom inference code.\n",
    "\n",
    "When deploying a PyTorch model in SageMaker, you are expected to provide four functions which the SageMaker inference container will use.\n",
    " - `model_fn`: This function is the same function that we used in the training script and it tells SageMaker how to load our model.\n",
    " - `input_fn`: This function receives the raw serialized input that has been sent to the model's endpoint and its job is to de-serialize and make the input available for the inference code.\n",
    " - `output_fn`: This function takes the output of the inference code and its job is to serialize this output and return it to the caller of the model's endpoint.\n",
    " - `predict_fn`: The heart of the inference script, this is where the actual prediction is done and is the function which you will need to complete.\n",
    "\n",
    "For the simple website that we are constructing during this project, the `input_fn` and `output_fn` methods are relatively straightforward. We only require being able to accept a string as input and we expect to return a single value as output. You might imagine though that in a more complex application the input or output may be image data or some other binary data which would require some effort to serialize.\n",
    "\n",
    "### (TODO) Writing inference code\n",
    "\n",
    "Before writing our custom inference code, we will begin by taking a look at the code which has been provided."
   ]
  },
  {
   "cell_type": "code",
   "execution_count": 62,
   "metadata": {},
   "outputs": [
    {
     "name": "stdout",
     "output_type": "stream",
     "text": [
      "\u001b[34mimport\u001b[39;49;00m \u001b[04m\u001b[36margparse\u001b[39;49;00m\r\n",
      "\u001b[34mimport\u001b[39;49;00m \u001b[04m\u001b[36mjson\u001b[39;49;00m\r\n",
      "\u001b[34mimport\u001b[39;49;00m \u001b[04m\u001b[36mos\u001b[39;49;00m\r\n",
      "\u001b[34mimport\u001b[39;49;00m \u001b[04m\u001b[36mpickle\u001b[39;49;00m\r\n",
      "\u001b[34mimport\u001b[39;49;00m \u001b[04m\u001b[36msys\u001b[39;49;00m\r\n",
      "\u001b[34mimport\u001b[39;49;00m \u001b[04m\u001b[36msagemaker_containers\u001b[39;49;00m\r\n",
      "\u001b[34mimport\u001b[39;49;00m \u001b[04m\u001b[36mpandas\u001b[39;49;00m \u001b[34mas\u001b[39;49;00m \u001b[04m\u001b[36mpd\u001b[39;49;00m\r\n",
      "\u001b[34mimport\u001b[39;49;00m \u001b[04m\u001b[36mnumpy\u001b[39;49;00m \u001b[34mas\u001b[39;49;00m \u001b[04m\u001b[36mnp\u001b[39;49;00m\r\n",
      "\u001b[34mimport\u001b[39;49;00m \u001b[04m\u001b[36mtorch\u001b[39;49;00m\r\n",
      "\u001b[34mimport\u001b[39;49;00m \u001b[04m\u001b[36mtorch.nn\u001b[39;49;00m \u001b[34mas\u001b[39;49;00m \u001b[04m\u001b[36mnn\u001b[39;49;00m\r\n",
      "\u001b[34mimport\u001b[39;49;00m \u001b[04m\u001b[36mtorch.optim\u001b[39;49;00m \u001b[34mas\u001b[39;49;00m \u001b[04m\u001b[36moptim\u001b[39;49;00m\r\n",
      "\u001b[34mimport\u001b[39;49;00m \u001b[04m\u001b[36mtorch.utils.data\u001b[39;49;00m\r\n",
      "\r\n",
      "\u001b[34mfrom\u001b[39;49;00m \u001b[04m\u001b[36mmodel\u001b[39;49;00m \u001b[34mimport\u001b[39;49;00m LSTMClassifier\r\n",
      "\r\n",
      "\u001b[34mfrom\u001b[39;49;00m \u001b[04m\u001b[36mutils\u001b[39;49;00m \u001b[34mimport\u001b[39;49;00m review_to_words, convert_and_pad\r\n",
      "\r\n",
      "\u001b[34mdef\u001b[39;49;00m \u001b[32mmodel_fn\u001b[39;49;00m(model_dir):\r\n",
      "    \u001b[33m\"\"\"Load the PyTorch model from the `model_dir` directory.\"\"\"\u001b[39;49;00m\r\n",
      "    \u001b[34mprint\u001b[39;49;00m(\u001b[33m\"\u001b[39;49;00m\u001b[33mLoading model.\u001b[39;49;00m\u001b[33m\"\u001b[39;49;00m)\r\n",
      "\r\n",
      "    \u001b[37m# First, load the parameters used to create the model.\u001b[39;49;00m\r\n",
      "    model_info = {}\r\n",
      "    model_info_path = os.path.join(model_dir, \u001b[33m'\u001b[39;49;00m\u001b[33mmodel_info.pth\u001b[39;49;00m\u001b[33m'\u001b[39;49;00m)\r\n",
      "    \u001b[34mwith\u001b[39;49;00m \u001b[36mopen\u001b[39;49;00m(model_info_path, \u001b[33m'\u001b[39;49;00m\u001b[33mrb\u001b[39;49;00m\u001b[33m'\u001b[39;49;00m) \u001b[34mas\u001b[39;49;00m f:\r\n",
      "        model_info = torch.load(f)\r\n",
      "\r\n",
      "    \u001b[34mprint\u001b[39;49;00m(\u001b[33m\"\u001b[39;49;00m\u001b[33mmodel_info: {}\u001b[39;49;00m\u001b[33m\"\u001b[39;49;00m.format(model_info))\r\n",
      "\r\n",
      "    \u001b[37m# Determine the device and construct the model.\u001b[39;49;00m\r\n",
      "    device = torch.device(\u001b[33m\"\u001b[39;49;00m\u001b[33mcuda\u001b[39;49;00m\u001b[33m\"\u001b[39;49;00m \u001b[34mif\u001b[39;49;00m torch.cuda.is_available() \u001b[34melse\u001b[39;49;00m \u001b[33m\"\u001b[39;49;00m\u001b[33mcpu\u001b[39;49;00m\u001b[33m\"\u001b[39;49;00m)\r\n",
      "    model = LSTMClassifier(model_info[\u001b[33m'\u001b[39;49;00m\u001b[33membedding_dim\u001b[39;49;00m\u001b[33m'\u001b[39;49;00m], model_info[\u001b[33m'\u001b[39;49;00m\u001b[33mhidden_dim\u001b[39;49;00m\u001b[33m'\u001b[39;49;00m], model_info[\u001b[33m'\u001b[39;49;00m\u001b[33mvocab_size\u001b[39;49;00m\u001b[33m'\u001b[39;49;00m])\r\n",
      "\r\n",
      "    \u001b[37m# Load the store model parameters.\u001b[39;49;00m\r\n",
      "    model_path = os.path.join(model_dir, \u001b[33m'\u001b[39;49;00m\u001b[33mmodel.pth\u001b[39;49;00m\u001b[33m'\u001b[39;49;00m)\r\n",
      "    \u001b[34mwith\u001b[39;49;00m \u001b[36mopen\u001b[39;49;00m(model_path, \u001b[33m'\u001b[39;49;00m\u001b[33mrb\u001b[39;49;00m\u001b[33m'\u001b[39;49;00m) \u001b[34mas\u001b[39;49;00m f:\r\n",
      "        model.load_state_dict(torch.load(f))\r\n",
      "\r\n",
      "    \u001b[37m# Load the saved word_dict.\u001b[39;49;00m\r\n",
      "    word_dict_path = os.path.join(model_dir, \u001b[33m'\u001b[39;49;00m\u001b[33mword_dict.pkl\u001b[39;49;00m\u001b[33m'\u001b[39;49;00m)\r\n",
      "    \u001b[34mwith\u001b[39;49;00m \u001b[36mopen\u001b[39;49;00m(word_dict_path, \u001b[33m'\u001b[39;49;00m\u001b[33mrb\u001b[39;49;00m\u001b[33m'\u001b[39;49;00m) \u001b[34mas\u001b[39;49;00m f:\r\n",
      "        model.word_dict = pickle.load(f)\r\n",
      "\r\n",
      "    model.to(device).eval()\r\n",
      "\r\n",
      "    \u001b[34mprint\u001b[39;49;00m(\u001b[33m\"\u001b[39;49;00m\u001b[33mDone loading model.\u001b[39;49;00m\u001b[33m\"\u001b[39;49;00m)\r\n",
      "    \u001b[34mreturn\u001b[39;49;00m model\r\n",
      "\r\n",
      "\u001b[34mdef\u001b[39;49;00m \u001b[32minput_fn\u001b[39;49;00m(serialized_input_data, content_type):\r\n",
      "    \u001b[34mprint\u001b[39;49;00m(\u001b[33m'\u001b[39;49;00m\u001b[33mDeserializing the input data.\u001b[39;49;00m\u001b[33m'\u001b[39;49;00m)\r\n",
      "    \u001b[34mif\u001b[39;49;00m content_type == \u001b[33m'\u001b[39;49;00m\u001b[33mtext/plain\u001b[39;49;00m\u001b[33m'\u001b[39;49;00m:\r\n",
      "        data = serialized_input_data.decode(\u001b[33m'\u001b[39;49;00m\u001b[33mutf-8\u001b[39;49;00m\u001b[33m'\u001b[39;49;00m)\r\n",
      "        \u001b[34mreturn\u001b[39;49;00m data\r\n",
      "    \u001b[34mraise\u001b[39;49;00m \u001b[36mException\u001b[39;49;00m(\u001b[33m'\u001b[39;49;00m\u001b[33mRequested unsupported ContentType in content_type: \u001b[39;49;00m\u001b[33m'\u001b[39;49;00m + content_type)\r\n",
      "\r\n",
      "\u001b[34mdef\u001b[39;49;00m \u001b[32moutput_fn\u001b[39;49;00m(prediction_output, accept):\r\n",
      "    \u001b[34mprint\u001b[39;49;00m(\u001b[33m'\u001b[39;49;00m\u001b[33mSerializing the generated output.\u001b[39;49;00m\u001b[33m'\u001b[39;49;00m)\r\n",
      "    \u001b[34mreturn\u001b[39;49;00m \u001b[36mstr\u001b[39;49;00m(prediction_output)\r\n",
      "\r\n",
      "\u001b[34mdef\u001b[39;49;00m \u001b[32mpredict_fn\u001b[39;49;00m(input_data, model):\r\n",
      "    \u001b[34mprint\u001b[39;49;00m(\u001b[33m'\u001b[39;49;00m\u001b[33mInferring sentiment of input data.\u001b[39;49;00m\u001b[33m'\u001b[39;49;00m)\r\n",
      "\r\n",
      "    device = torch.device(\u001b[33m\"\u001b[39;49;00m\u001b[33mcuda\u001b[39;49;00m\u001b[33m\"\u001b[39;49;00m \u001b[34mif\u001b[39;49;00m torch.cuda.is_available() \u001b[34melse\u001b[39;49;00m \u001b[33m\"\u001b[39;49;00m\u001b[33mcpu\u001b[39;49;00m\u001b[33m\"\u001b[39;49;00m)\r\n",
      "    \r\n",
      "    \u001b[34mif\u001b[39;49;00m model.word_dict \u001b[35mis\u001b[39;49;00m \u001b[36mNone\u001b[39;49;00m:\r\n",
      "        \u001b[34mraise\u001b[39;49;00m \u001b[36mException\u001b[39;49;00m(\u001b[33m'\u001b[39;49;00m\u001b[33mModel has not been loaded properly, no word_dict.\u001b[39;49;00m\u001b[33m'\u001b[39;49;00m)\r\n",
      "    \r\n",
      "    \u001b[37m# TODO: Process input_data so that it is ready to be sent to our model.\u001b[39;49;00m\r\n",
      "    \u001b[37m#       You should produce two variables:\u001b[39;49;00m\r\n",
      "    \u001b[37m#         data_X   - A sequence of length 500 which represents the converted review\u001b[39;49;00m\r\n",
      "    \u001b[37m#         data_len - The length of the review\u001b[39;49;00m\r\n",
      "\r\n",
      "    data_X, data_len = convert_and_pad(model.word_dict, review_to_words(input_data))\r\n",
      "\r\n",
      "    \u001b[37m# Using data_X and data_len we construct an appropriate input tensor. Remember\u001b[39;49;00m\r\n",
      "    \u001b[37m# that our model expects input data of the form 'len, review[500]'.\u001b[39;49;00m\r\n",
      "    data_pack = np.hstack((data_len, data_X))\r\n",
      "    data_pack = data_pack.reshape(\u001b[34m1\u001b[39;49;00m, -\u001b[34m1\u001b[39;49;00m)\r\n",
      "    \r\n",
      "    data = torch.from_numpy(data_pack)\r\n",
      "    data = data.to(device)\r\n",
      "\r\n",
      "    \u001b[37m# Make sure to put the model into evaluation mode\u001b[39;49;00m\r\n",
      "    model.eval()\r\n",
      "\r\n",
      "    \u001b[37m# TODO: Compute the result of applying the model to the input data. The variable `result` should\u001b[39;49;00m\r\n",
      "    \u001b[37m#       be a numpy array which contains a single integer which is either 1 or 0\u001b[39;49;00m\r\n",
      "\r\n",
      "    \u001b[34mwith\u001b[39;49;00m torch.no_grad():\r\n",
      "        output = model.forward(data)\r\n",
      "    result = np.round(output.numpy())\r\n",
      "\r\n",
      "    \u001b[34mreturn\u001b[39;49;00m result\r\n"
     ]
    }
   ],
   "source": [
    "!pygmentize serve/predict.py"
   ]
  },
  {
   "cell_type": "markdown",
   "metadata": {},
   "source": [
    "As mentioned earlier, the `model_fn` method is the same as the one provided in the training code and the `input_fn` and `output_fn` methods are very simple and your task will be to complete the `predict_fn` method. Make sure that you save the completed file as `predict.py` in the `serve` directory.\n",
    "\n",
    "**TODO**: Complete the `predict_fn()` method in the `serve/predict.py` file."
   ]
  },
  {
   "cell_type": "markdown",
   "metadata": {},
   "source": [
    "### Deploying the model\n",
    "\n",
    "Now that the custom inference code has been written, we will create and deploy our model. To begin with, we need to construct a new PyTorchModel object which points to the model artifacts created during training and also points to the inference code that we wish to use. Then we can call the deploy method to launch the deployment container.\n",
    "\n",
    "**NOTE**: The default behaviour for a deployed PyTorch model is to assume that any input passed to the predictor is a `numpy` array. In our case we want to send a string so we need to construct a simple wrapper around the `RealTimePredictor` class to accomodate simple strings. In a more complicated situation you may want to provide a serialization object, for example if you wanted to sent image data."
   ]
  },
  {
   "cell_type": "code",
   "execution_count": 63,
   "metadata": {},
   "outputs": [
    {
     "name": "stdout",
     "output_type": "stream",
     "text": [
      "---------------!"
     ]
    }
   ],
   "source": [
    "from sagemaker.predictor import RealTimePredictor\n",
    "from sagemaker.pytorch import PyTorchModel\n",
    "\n",
    "class StringPredictor(RealTimePredictor):\n",
    "    def __init__(self, endpoint_name, sagemaker_session):\n",
    "        super(StringPredictor, self).__init__(endpoint_name, sagemaker_session, content_type='text/plain')\n",
    "\n",
    "model = PyTorchModel(model_data=estimator.model_data,\n",
    "                     role = role,\n",
    "                     framework_version='0.4.0',\n",
    "                     entry_point='predict.py',\n",
    "                     source_dir='serve',\n",
    "                     predictor_cls=StringPredictor)\n",
    "predictor = model.deploy(initial_instance_count=1, instance_type='ml.m4.xlarge')"
   ]
  },
  {
   "cell_type": "markdown",
   "metadata": {},
   "source": [
    "### Testing the model\n",
    "\n",
    "Now that we have deployed our model with the custom inference code, we should test to see if everything is working. Here we test our model by loading the first `250` positive and negative reviews and send them to the endpoint, then collect the results. The reason for only sending some of the data is that the amount of time it takes for our model to process the input and then perform inference is quite long and so testing the entire data set would be prohibitive."
   ]
  },
  {
   "cell_type": "code",
   "execution_count": 66,
   "metadata": {},
   "outputs": [],
   "source": [
    "import glob\n",
    "\n",
    "def test_reviews(data_dir='../data/aclImdb', stop=250):\n",
    "    \n",
    "    results = []\n",
    "    ground = []\n",
    "    \n",
    "    # We make sure to test both positive and negative reviews    \n",
    "    for sentiment in ['pos', 'neg']:\n",
    "        \n",
    "        path = os.path.join(data_dir, 'test', sentiment, '*.txt')\n",
    "        files = glob.glob(path)\n",
    "        \n",
    "        files_read = 0\n",
    "        \n",
    "        print('Starting ', sentiment, ' files')\n",
    "        \n",
    "        # Iterate through the files and send them to the predictor\n",
    "        for f in files:\n",
    "            with open(f) as review:\n",
    "                # First, we store the ground truth (was the review positive or negative)\n",
    "                if sentiment == 'pos':\n",
    "                    ground.append(1)\n",
    "                else:\n",
    "                    ground.append(0)\n",
    "                # Read in the review and convert to 'utf-8' for transmission via HTTP\n",
    "                review_input = review.read().encode('utf-8')\n",
    "                # Send the review to the predictor and store the results\n",
    "                results.append(float(predictor.predict(review_input)))\n",
    "                \n",
    "            # Sending reviews to our endpoint one at a time takes a while so we\n",
    "            # only send a small number of reviews\n",
    "            files_read += 1\n",
    "            if files_read == stop:\n",
    "                break\n",
    "            \n",
    "    return ground, results"
   ]
  },
  {
   "cell_type": "code",
   "execution_count": 67,
   "metadata": {},
   "outputs": [
    {
     "name": "stdout",
     "output_type": "stream",
     "text": [
      "Starting  pos  files\n",
      "Starting  neg  files\n"
     ]
    }
   ],
   "source": [
    "ground, results = test_reviews()"
   ]
  },
  {
   "cell_type": "code",
   "execution_count": 68,
   "metadata": {},
   "outputs": [
    {
     "data": {
      "text/plain": [
       "0.86"
      ]
     },
     "execution_count": 68,
     "metadata": {},
     "output_type": "execute_result"
    }
   ],
   "source": [
    "from sklearn.metrics import accuracy_score\n",
    "accuracy_score(ground, results)"
   ]
  },
  {
   "cell_type": "markdown",
   "metadata": {},
   "source": [
    "As an additional test, we can try sending the `test_review` that we looked at earlier."
   ]
  },
  {
   "cell_type": "code",
   "execution_count": 69,
   "metadata": {},
   "outputs": [
    {
     "data": {
      "text/plain": [
       "b'1.0'"
      ]
     },
     "execution_count": 69,
     "metadata": {},
     "output_type": "execute_result"
    }
   ],
   "source": [
    "predictor.predict(test_review)"
   ]
  },
  {
   "cell_type": "markdown",
   "metadata": {},
   "source": [
    "Now that we know our endpoint is working as expected, we can set up the web page that will interact with it. If you don't have time to finish the project now, make sure to skip down to the end of this notebook and shut down your endpoint. You can deploy it again when you come back."
   ]
  },
  {
   "cell_type": "markdown",
   "metadata": {},
   "source": [
    "## Step 7 (again): Use the model for the web app\n",
    "\n",
    "> **TODO:** This entire section and the next contain tasks for you to complete, mostly using the AWS console.\n",
    "\n",
    "So far we have been accessing our model endpoint by constructing a predictor object which uses the endpoint and then just using the predictor object to perform inference. What if we wanted to create a web app which accessed our model? The way things are set up currently makes that not possible since in order to access a SageMaker endpoint the app would first have to authenticate with AWS using an IAM role which included access to SageMaker endpoints. However, there is an easier way! We just need to use some additional AWS services.\n",
    "\n",
    "<img src=\"Web App Diagram.svg\">\n",
    "\n",
    "The diagram above gives an overview of how the various services will work together. On the far right is the model which we trained above and which is deployed using SageMaker. On the far left is our web app that collects a user's movie review, sends it off and expects a positive or negative sentiment in return.\n",
    "\n",
    "In the middle is where some of the magic happens. We will construct a Lambda function, which you can think of as a straightforward Python function that can be executed whenever a specified event occurs. We will give this function permission to send and recieve data from a SageMaker endpoint.\n",
    "\n",
    "Lastly, the method we will use to execute the Lambda function is a new endpoint that we will create using API Gateway. This endpoint will be a url that listens for data to be sent to it. Once it gets some data it will pass that data on to the Lambda function and then return whatever the Lambda function returns. Essentially it will act as an interface that lets our web app communicate with the Lambda function.\n",
    "\n",
    "### Setting up a Lambda function\n",
    "\n",
    "The first thing we are going to do is set up a Lambda function. This Lambda function will be executed whenever our public API has data sent to it. When it is executed it will receive the data, perform any sort of processing that is required, send the data (the review) to the SageMaker endpoint we've created and then return the result.\n",
    "\n",
    "#### Part A: Create an IAM Role for the Lambda function\n",
    "\n",
    "Since we want the Lambda function to call a SageMaker endpoint, we need to make sure that it has permission to do so. To do this, we will construct a role that we can later give the Lambda function.\n",
    "\n",
    "Using the AWS Console, navigate to the **IAM** page and click on **Roles**. Then, click on **Create role**. Make sure that the **AWS service** is the type of trusted entity selected and choose **Lambda** as the service that will use this role, then click **Next: Permissions**.\n",
    "\n",
    "In the search box type `sagemaker` and select the check box next to the **AmazonSageMakerFullAccess** policy. Then, click on **Next: Review**.\n",
    "\n",
    "Lastly, give this role a name. Make sure you use a name that you will remember later on, for example `LambdaSageMakerRole`. Then, click on **Create role**.\n",
    "\n",
    "#### Part B: Create a Lambda function\n",
    "\n",
    "Now it is time to actually create the Lambda function.\n",
    "\n",
    "Using the AWS Console, navigate to the AWS Lambda page and click on **Create a function**. When you get to the next page, make sure that **Author from scratch** is selected. Now, name your Lambda function, using a name that you will remember later on, for example `sentiment_analysis_func`. Make sure that the **Python 3.6** runtime is selected and then choose the role that you created in the previous part. Then, click on **Create Function**.\n",
    "\n",
    "On the next page you will see some information about the Lambda function you've just created. If you scroll down you should see an editor in which you can write the code that will be executed when your Lambda function is triggered. In our example, we will use the code below. \n",
    "\n",
    "```python\n",
    "# We need to use the low-level library to interact with SageMaker since the SageMaker API\n",
    "# is not available natively through Lambda.\n",
    "import boto3\n",
    "\n",
    "def lambda_handler(event, context):\n",
    "\n",
    "    # The SageMaker runtime is what allows us to invoke the endpoint that we've created.\n",
    "    runtime = boto3.Session().client('sagemaker-runtime')\n",
    "\n",
    "    # Now we use the SageMaker runtime to invoke our endpoint, sending the review we were given\n",
    "    response = runtime.invoke_endpoint(EndpointName = '**ENDPOINT NAME HERE**',    # The name of the endpoint we created\n",
    "                                       ContentType = 'text/plain',                 # The data format that is expected\n",
    "                                       Body = event['body'])                       # The actual review\n",
    "\n",
    "    # The response is an HTTP response whose body contains the result of our inference\n",
    "    result = response['Body'].read().decode('utf-8')\n",
    "\n",
    "    return {\n",
    "        'statusCode' : 200,\n",
    "        'headers' : { 'Content-Type' : 'text/plain', 'Access-Control-Allow-Origin' : '*' },\n",
    "        'body' : result\n",
    "    }\n",
    "```\n",
    "\n",
    "Once you have copy and pasted the code above into the Lambda code editor, replace the `**ENDPOINT NAME HERE**` portion with the name of the endpoint that we deployed earlier. You can determine the name of the endpoint using the code cell below."
   ]
  },
  {
   "cell_type": "code",
   "execution_count": 71,
   "metadata": {},
   "outputs": [
    {
     "data": {
      "text/plain": [
       "'sagemaker-pytorch-2020-05-13-19-04-53-827'"
      ]
     },
     "execution_count": 71,
     "metadata": {},
     "output_type": "execute_result"
    }
   ],
   "source": [
    "predictor.endpoint"
   ]
  },
  {
   "cell_type": "markdown",
   "metadata": {},
   "source": [
    "Once you have added the endpoint name to the Lambda function, click on **Save**. Your Lambda function is now up and running. Next we need to create a way for our web app to execute the Lambda function.\n",
    "\n",
    "### Setting up API Gateway\n",
    "\n",
    "Now that our Lambda function is set up, it is time to create a new API using API Gateway that will trigger the Lambda function we have just created.\n",
    "\n",
    "Using AWS Console, navigate to **Amazon API Gateway** and then click on **Get started**.\n",
    "\n",
    "On the next page, make sure that **New API** is selected and give the new api a name, for example, `sentiment_analysis_api`. Then, click on **Create API**.\n",
    "\n",
    "Now we have created an API, however it doesn't currently do anything. What we want it to do is to trigger the Lambda function that we created earlier.\n",
    "\n",
    "Select the **Actions** dropdown menu and click **Create Method**. A new blank method will be created, select its dropdown menu and select **POST**, then click on the check mark beside it.\n",
    "\n",
    "For the integration point, make sure that **Lambda Function** is selected and click on the **Use Lambda Proxy integration**. This option makes sure that the data that is sent to the API is then sent directly to the Lambda function with no processing. It also means that the return value must be a proper response object as it will also not be processed by API Gateway.\n",
    "\n",
    "Type the name of the Lambda function you created earlier into the **Lambda Function** text entry box and then click on **Save**. Click on **OK** in the pop-up box that then appears, giving permission to API Gateway to invoke the Lambda function you created.\n",
    "\n",
    "The last step in creating the API Gateway is to select the **Actions** dropdown and click on **Deploy API**. You will need to create a new Deployment stage and name it anything you like, for example `prod`.\n",
    "\n",
    "You have now successfully set up a public API to access your SageMaker model. Make sure to copy or write down the URL provided to invoke your newly created public API as this will be needed in the next step. This URL can be found at the top of the page, highlighted in blue next to the text **Invoke URL**."
   ]
  },
  {
   "cell_type": "markdown",
   "metadata": {},
   "source": [
    "## Step 4: Deploying our web app\n",
    "\n",
    "Now that we have a publicly available API, we can start using it in a web app. For our purposes, we have provided a simple static html file which can make use of the public api you created earlier.\n",
    "\n",
    "In the `website` folder there should be a file called `index.html`. Download the file to your computer and open that file up in a text editor of your choice. There should be a line which contains **\\*\\*REPLACE WITH PUBLIC API URL\\*\\***. Replace this string with the url that you wrote down in the last step and then save the file.\n",
    "\n",
    "Now, if you open `index.html` on your local computer, your browser will behave as a local web server and you can use the provided site to interact with your SageMaker model.\n",
    "\n",
    "If you'd like to go further, you can host this html file anywhere you'd like, for example using github or hosting a static site on Amazon's S3. Once you have done this you can share the link with anyone you'd like and have them play with it too!\n",
    "\n",
    "> **Important Note** In order for the web app to communicate with the SageMaker endpoint, the endpoint has to actually be deployed and running. This means that you are paying for it. Make sure that the endpoint is running when you want to use the web app but that you shut it down when you don't need it, otherwise you will end up with a surprisingly large AWS bill.\n",
    "\n",
    "**TODO:** Make sure that you include the edited `index.html` file in your project submission."
   ]
  },
  {
   "cell_type": "markdown",
   "metadata": {},
   "source": [
    "Now that your web app is working, trying playing around with it and see how well it works.\n",
    "\n",
    "**Question**: Give an example of a review that you entered into your web app. What was the predicted sentiment of your example review?"
   ]
  },
  {
   "cell_type": "markdown",
   "metadata": {},
   "source": [
    "**Answer:**\n",
    "\n",
    "I tried several reviews to adjust whether this works or not. The following are: \n",
    "\n",
    "\"I really like this movie\". \n",
    "\n",
    "\"I really did not like this movie\". \n",
    "\n",
    "\"I liked the action in the movie. I also liked the reaction and acting abilities of the actors. \n",
    "The first half of the movie was a little boring. But towards the middle part of the story, it quickly picked up. \n",
    "The ending though was when the movie really came into being. The actions scenes were amazing. \"\n",
    "\n",
    "The model was accurate in being able to tell me the sentiment in each of the reviews. I was very impressed with the performance of the model. "
   ]
  },
  {
   "cell_type": "markdown",
   "metadata": {},
   "source": [
    "### Delete the endpoint\n",
    "\n",
    "Remember to always shut down your endpoint if you are no longer using it. You are charged for the length of time that the endpoint is running so if you forget and leave it on you could end up with an unexpectedly large bill."
   ]
  },
  {
   "cell_type": "code",
   "execution_count": null,
   "metadata": {},
   "outputs": [],
   "source": [
    "predictor.delete_endpoint()"
   ]
  },
  {
   "cell_type": "code",
   "execution_count": null,
   "metadata": {},
   "outputs": [],
   "source": []
  }
 ],
 "metadata": {
  "kernelspec": {
   "display_name": "conda_pytorch_p36",
   "language": "python",
   "name": "conda_pytorch_p36"
  },
  "language_info": {
   "codemirror_mode": {
    "name": "ipython",
    "version": 3
   },
   "file_extension": ".py",
   "mimetype": "text/x-python",
   "name": "python",
   "nbconvert_exporter": "python",
   "pygments_lexer": "ipython3",
   "version": "3.6.5"
  }
 },
 "nbformat": 4,
 "nbformat_minor": 2
}
